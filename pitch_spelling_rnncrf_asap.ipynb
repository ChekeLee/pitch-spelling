{
  "nbformat": 4,
  "nbformat_minor": 0,
  "metadata": {
    "colab": {
      "name": "pitch_spelling_musedata_crf_batch.ipynb",
      "provenance": [],
      "toc_visible": true,
      "authorship_tag": "ABX9TyNuMNhn/1IvAqrzUa++zujx",
      "include_colab_link": true
    },
    "kernelspec": {
      "name": "python3",
      "display_name": "Python 3"
    },
    "accelerator": "GPU"
  },
  "cells": [
    {
      "cell_type": "markdown",
      "metadata": {
        "id": "view-in-github",
        "colab_type": "text"
      },
      "source": [
        "<a href=\"https://colab.research.google.com/github/fosfrancesco/pitch-spelling/blob/main/pitch_spelling_rnncrf_asap.ipynb\" target=\"_parent\"><img src=\"https://colab.research.google.com/assets/colab-badge.svg\" alt=\"Open In Colab\"/></a>"
      ]
    },
    {
      "cell_type": "code",
      "metadata": {
        "colab": {
          "base_uri": "https://localhost:8080/"
        },
        "id": "fifMg_hxNSOg",
        "outputId": "45db551d-d9c9-4b0d-f50c-768988b3b02d"
      },
      "source": [
        "! pip install --upgrade pytorch-crf"
      ],
      "execution_count": 6,
      "outputs": [
        {
          "output_type": "stream",
          "text": [
            "Collecting pytorch-crf\n",
            "  Downloading https://files.pythonhosted.org/packages/96/7d/4c4688e26ea015fc118a0327e5726e6596836abce9182d3738be8ec2e32a/pytorch_crf-0.7.2-py3-none-any.whl\n",
            "Installing collected packages: pytorch-crf\n",
            "Successfully installed pytorch-crf-0.7.2\n"
          ],
          "name": "stdout"
        }
      ]
    },
    {
      "cell_type": "code",
      "metadata": {
        "id": "hsciybUBNkur"
      },
      "source": [
        "import music21 as m21\r\n",
        "import matplotlib.pyplot as plt\r\n",
        "import sklearn\r\n",
        "import sklearn.model_selection\r\n",
        "import pickle\r\n",
        "from google.colab import files\r\n",
        "\r\n",
        "from pathlib import Path\r\n",
        "import json\r\n",
        "import matplotlib.pyplot as plt\r\n",
        "import numpy as np\r\n",
        "import sklearn.model_selection\r\n",
        "import sklearn\r\n",
        "import music21 as m21\r\n",
        "from collections import Counter\r\n",
        "\r\n",
        "import torch\r\n",
        "import torch.nn as nn\r\n",
        "from torchvision import transforms\r\n",
        "from torch.utils.data import Dataset, DataLoader\r\n",
        "from torch.utils.data import random_split\r\n",
        "from torch.nn.utils.rnn import pad_sequence\r\n",
        "from torchcrf import CRF\r\n",
        "import torchtext\r\n",
        "from sklearn.metrics import confusion_matrix\r\n",
        "from sklearn.metrics import accuracy_score\r\n",
        "\r\n",
        "from tqdm import tqdm, tqdm_notebook, notebook\r\n",
        "from google.colab import files\r\n",
        "import pickle\r\n",
        "\r\n",
        "from sklearn.metrics import accuracy_score\r\n",
        "\r\n",
        "import time\r\n",
        "\r\n",
        "from collections import defaultdict, Counter\r\n",
        "# import optuna"
      ],
      "execution_count": 7,
      "outputs": []
    },
    {
      "cell_type": "markdown",
      "metadata": {
        "id": "Naq6UG5jRbyK"
      },
      "source": [
        "# RNN for Pitch Spelling\r\n",
        "\r\n",
        "Dataset: different authors from ASAP collection\r\n",
        "Challenges:\r\n",
        "- extremely long sequences\r\n",
        "- small dataset"
      ]
    },
    {
      "cell_type": "code",
      "metadata": {
        "colab": {
          "base_uri": "https://localhost:8080/"
        },
        "id": "2mHJvrZ2Wo_e",
        "outputId": "1b9e14d3-ae63-4fd4-8bdf-1c07e73546b2"
      },
      "source": [
        "pitches_dict = {\r\n",
        "    0 : [\"C\",\"B#\",\"D--\"], # nn.Linear(input_size+context_size, 3)\r\n",
        "    1 : [\"C#\",\"B##\",\"D-\"], # nn.Linear(input_size+context_size, 2)\r\n",
        "    2 : [\"D\",\"C##\",\"E--\"], # nn.Linear(input_size+context_size, 3)\r\n",
        "    3 : [\"D#\",\"E-\",\"F--\"],\r\n",
        "    4 : [\"E\",\"D##\",\"F-\"],\r\n",
        "    5 : [\"F\",\"E#\",\"G--\"],\r\n",
        "    6 : [\"F#\",\"E##\",\"G-\"],\r\n",
        "    7 : [\"G\",\"F##\",\"A--\"],\r\n",
        "    8 : [\"G#\",\"A-\"],\r\n",
        "    9 : [\"A\",\"G##\",\"B--\"],\r\n",
        "    10 : [\"A#\",\"B-\",\"C--\"],\r\n",
        "    11 : [\"B\",\"A##\",\"C-\"]\r\n",
        "}\r\n",
        "\r\n",
        "accepted_pitches = [ii for i in pitches_dict.values() for ii in i]\r\n",
        "print([e for e in enumerate(accepted_pitches)])\r\n",
        "\r\n",
        "double_acc_pitches = [ii for i in pitches_dict.values() for ii in i if ii.endswith(\"##\") or  ii.endswith(\"--\") ]\r\n",
        "print(double_acc_pitches)\r\n",
        "\r\n",
        "def score2midi_numbers(score):\r\n",
        "  return [p.midi%12 for n in score.flat.notes for p in n.pitches]\r\n",
        "\r\n",
        "def score2pitches(score):\r\n",
        "  return [p.name for n in score.flat.notes for p in n.pitches]\r\n",
        "\r\n",
        "interval_dict = {\r\n",
        "    0 : [\"P1\",\"d2\",\"A7\"], \r\n",
        "    1 : [\"m2\",\"A1\"], \r\n",
        "    2 : [\"M2\",\"d3\",\"AA1\"], \r\n",
        "    3 : [\"m3\",\"A2\"],\r\n",
        "    4 : [\"M3\",\"d4\",\"AA2\"],\r\n",
        "    5 : [\"P4\",\"A3\"],\r\n",
        "    6 : [\"d5\",\"A4\"],\r\n",
        "    7 : [\"P5\",\"d6\",\"AA4\"],\r\n",
        "    8 : [\"m6\",\"A5\"],\r\n",
        "    9 : [\"M6\",\"d7\",\"AA5\"],\r\n",
        "    10 : [\"m7\",\"A6\"],\r\n",
        "    11 : [\"M7\",\"d1\",\"AA6\"]\r\n",
        "}\r\n",
        "\r\n",
        "accepted_intervals = [ii for i in interval_dict.values() for ii in i]\r\n",
        "print([e for e in enumerate(accepted_intervals)])\r\n",
        "\r\n",
        "def transp_score(score):\r\n",
        "    \"\"\" For each input return len(accepted_intervals) transposed scores\"\"\"\r\n",
        "    return [score.transpose(interval) for interval in accepted_intervals]\r\n",
        "\r\n",
        "def smart_transp_score(score):\r\n",
        "    \"\"\" For each chromatic interval chose the interval that lead to the smallest number of accidentals\"\"\"\r\n",
        "    scores = []\r\n",
        "    for chromatic_int in interval_dict.keys():\r\n",
        "        temp_scores = []\r\n",
        "        temp_acc_number = []\r\n",
        "        for diat_interval in interval_dict[chromatic_int]:\r\n",
        "            new_score = score.transpose(diat_interval)\r\n",
        "            temp_scores.append(new_score)\r\n",
        "            temp_acc_number.append(sum([pitch.count(\"#\") + pitch.count(\"-\") for pitch in score2pitches(new_score)]))\r\n",
        "            # print(\"choice:\", [note.name for note in temp_scores[-1].flat.notes][0:10],\"acc:\",temp_acc_number[-1] )\r\n",
        "        #keep only the one with the lowest number of accidentals\r\n",
        "        min_index = np.argmin(temp_acc_number)\r\n",
        "        # print(\"preferred the number\", min_index)\r\n",
        "        scores.append(temp_scores[min_index])\r\n",
        "    return scores\r\n",
        "\r\n",
        "def acc_simple_enough(score,accepted_ratio = 0.2 ):\r\n",
        "    pitches = score2pitches(score)\r\n",
        "    double_acc = sum(el in double_acc_pitches for el in pitches)\r\n",
        "    if double_acc/len(pitches) < accepted_ratio:\r\n",
        "        return True\r\n",
        "    else:\r\n",
        "        return False\r\n",
        "\r\n",
        "def argmax(vec):\r\n",
        "    # return the argmax as a python int\r\n",
        "    _, idx = torch.max(vec, 1)\r\n",
        "    return idx.item()\r\n",
        "\r\n",
        "\r\n",
        "# Compute log sum exp in a numerically stable way for the forward algorithm\r\n",
        "def log_sum_exp(vec):\r\n",
        "    max_score = vec[0, argmax(vec)]\r\n",
        "    max_score_broadcast = max_score.view(1, -1).expand(1, vec.size()[1])\r\n",
        "    return max_score + \\\r\n",
        "        torch.log(torch.sum(torch.exp(vec - max_score_broadcast)))\r\n",
        "\r\n",
        "\r\n",
        "diatonic_pitches = [\"C\",\"D\", \"E\", \"F\", \"G\", \"A\", \"B\"]\r\n",
        "\r\n",
        "# #test acc_simple_enough()\r\n",
        "# score = m21.converter.parse(paths[356])\r\n",
        "# scores = smart_transp_score(score)\r\n",
        "# #delete the pieces with non accepted pitches (e.g. triple sharps)\r\n",
        "# scores = [s for s in scores if all(pitch in accepted_pitches for pitch in score2pitches(s))]\r\n",
        "# for s in scores:\r\n",
        "#     print(s.parts[0].flat.getElementsByClass(m21.key.KeySignature)[0], \"simple enough:\", acc_simple_enough(s))\r\n",
        "#     print([n.name for n in s.flat.notes])"
      ],
      "execution_count": 2,
      "outputs": [
        {
          "output_type": "stream",
          "text": [
            "[(0, 'C'), (1, 'B#'), (2, 'D--'), (3, 'C#'), (4, 'B##'), (5, 'D-'), (6, 'D'), (7, 'C##'), (8, 'E--'), (9, 'D#'), (10, 'E-'), (11, 'F--'), (12, 'E'), (13, 'D##'), (14, 'F-'), (15, 'F'), (16, 'E#'), (17, 'G--'), (18, 'F#'), (19, 'E##'), (20, 'G-'), (21, 'G'), (22, 'F##'), (23, 'A--'), (24, 'G#'), (25, 'A-'), (26, 'A'), (27, 'G##'), (28, 'B--'), (29, 'A#'), (30, 'B-'), (31, 'C--'), (32, 'B'), (33, 'A##'), (34, 'C-')]\n",
            "['D--', 'B##', 'C##', 'E--', 'F--', 'D##', 'G--', 'E##', 'F##', 'A--', 'G##', 'B--', 'C--', 'A##']\n",
            "[(0, 'P1'), (1, 'd2'), (2, 'A7'), (3, 'm2'), (4, 'A1'), (5, 'M2'), (6, 'd3'), (7, 'AA1'), (8, 'm3'), (9, 'A2'), (10, 'M3'), (11, 'd4'), (12, 'AA2'), (13, 'P4'), (14, 'A3'), (15, 'd5'), (16, 'A4'), (17, 'P5'), (18, 'd6'), (19, 'AA4'), (20, 'm6'), (21, 'A5'), (22, 'M6'), (23, 'd7'), (24, 'AA5'), (25, 'm7'), (26, 'A6'), (27, 'M7'), (28, 'd1'), (29, 'AA6')]\n"
          ],
          "name": "stdout"
        }
      ]
    },
    {
      "cell_type": "code",
      "metadata": {
        "colab": {
          "base_uri": "https://localhost:8080/"
        },
        "id": "CrZ0BwLEj2Gp",
        "outputId": "f99642ef-fba5-4d30-ae51-f47baa137d20"
      },
      "source": [
        "!git clone https://github.com/fosfrancesco/pitch-spelling.git"
      ],
      "execution_count": 3,
      "outputs": [
        {
          "output_type": "stream",
          "text": [
            "Cloning into 'pitch-spelling'...\n",
            "remote: Enumerating objects: 27, done.\u001b[K\n",
            "remote: Counting objects: 100% (27/27), done.\u001b[K\n",
            "remote: Compressing objects: 100% (24/24), done.\u001b[K\n",
            "remote: Total 27 (delta 8), reused 14 (delta 2), pack-reused 0\u001b[K\n",
            "Unpacking objects: 100% (27/27), done.\n",
            "Checking out files: 100% (11/11), done.\n"
          ],
          "name": "stdout"
        }
      ]
    },
    {
      "cell_type": "code",
      "metadata": {
        "id": "WaINjDS2kpxE"
      },
      "source": [
        "basepath = \"/content/pitch-spelling\" #to change if running locally\r\n",
        "\r\n",
        "# load the asap datasets\r\n",
        "with open(Path(basepath,'datasets','baroque_asap.pkl'), 'rb') as fid:\r\n",
        "     dataset_baroque = pickle.load( fid)\r\n",
        "\r\n",
        "with open(Path(basepath,'datasets','classical_asap.pkl'), 'rb') as fid:\r\n",
        "     dataset_classical = pickle.load( fid)\r\n",
        "\r\n",
        "with open(Path(basepath,'datasets','romantic_asap.pkl'), 'rb') as fid:\r\n",
        "     dataset_romantic = pickle.load( fid)\r\n",
        "\r\n",
        "# merge the two files together\r\n",
        "full_dict_dataset = dataset_baroque + dataset_classical + dataset_romantic"
      ],
      "execution_count": 8,
      "outputs": []
    },
    {
      "cell_type": "code",
      "metadata": {
        "colab": {
          "base_uri": "https://localhost:8080/"
        },
        "id": "pYQdkJAiTS6_",
        "outputId": "80c4f123-6bc5-4b6a-ec25-cf925920a6a9"
      },
      "source": [
        "paths = list(set([e[\"original_path\"] for e in full_dict_dataset ]))\r\n",
        "\r\n",
        "# remove the symbphony No.100 from Haydn because of the enharmonic transposition\r\n",
        "# paths.remove(\"datasets\\\\opnd\\\\haydndoversyms-10004m.opnd-m\")\r\n",
        "\r\n",
        "# print(paths)\r\n",
        "print(len(paths), \"different pieces\")\r\n",
        "print(\"Average number of notes: \", np.mean([len(e[\"midi_number\"]) for e in full_dict_dataset ]))\r\n"
      ],
      "execution_count": 10,
      "outputs": [
        {
          "output_type": "stream",
          "text": [
            "191 different pieces\n",
            "Average number of notes:  2219.6285387474977\n"
          ],
          "name": "stdout"
        }
      ]
    },
    {
      "cell_type": "code",
      "metadata": {
        "id": "Oign7EZ9BSX4",
        "colab": {
          "base_uri": "https://localhost:8080/"
        },
        "outputId": "24e86975-bd55-40e3-af11-600a5a7cfab9"
      },
      "source": [
        "# choose only one enharmonic version for each chromatic interval for each piece\r\n",
        "dict_dataset = []\r\n",
        "for path in paths:\r\n",
        "    for c in range(12):\r\n",
        "        pieces_to_consider = [opus for opus in full_dict_dataset \r\n",
        "                              if (opus[\"original_path\"] == path and opus[\"transposed_of\"] in interval_dict[c])  ]\r\n",
        "        # print(\"Path\", path, \". Chromatic: \",c)\r\n",
        "        # print(len(pieces_to_consider))\r\n",
        "        n_accidentals = [sum([pitch.count(\"#\") + pitch.count(\"-\") for pitch in opus[\"pitches\"]]) \r\n",
        "                         for opus in pieces_to_consider]\r\n",
        "        # print(n_accidentals)\r\n",
        "        # print(pieces_to_consider[np.argmin(n_accidentals)][\"pitches\"][0:20])\r\n",
        "        if len(pieces_to_consider)>0:\r\n",
        "            dict_dataset.append(pieces_to_consider[np.argmin(n_accidentals)])\r\n",
        "        else:\r\n",
        "            print(\"No options for\", path, \". Chromatic: \",c )\r\n",
        "\r\n",
        "#test if it worked\r\n",
        "for i,e in enumerate(dict_dataset):\r\n",
        "    print(e[\"original_path\"], e[\"transposed_of\"])\r\n",
        "    print(e[\"pitches\"][:10])\r\n",
        "    print(e[\"midi_number\"][:10])\r\n",
        "    if i == 100:\r\n",
        "        break"
      ],
      "execution_count": 29,
      "outputs": [
        {
          "output_type": "stream",
          "text": [
            "No options for Chopin/Sonata_2/1st_no_repeat/xml_score.musicxml . Chromatic:  1\n",
            "No options for Chopin/Etudes_op_10/4/xml_score.musicxml . Chromatic:  4\n",
            "No options for Chopin/Etudes_op_10/4/xml_score.musicxml . Chromatic:  9\n",
            "No options for Schubert/Wanderer_fantasie/xml_score.musicxml . Chromatic:  1\n",
            "No options for Schubert/Wanderer_fantasie/xml_score.musicxml . Chromatic:  4\n",
            "No options for Schubert/Wanderer_fantasie/xml_score.musicxml . Chromatic:  6\n",
            "No options for Schubert/Wanderer_fantasie/xml_score.musicxml . Chromatic:  9\n",
            "No options for Schubert/Wanderer_fantasie/xml_score.musicxml . Chromatic:  11\n",
            "No options for Chopin/Sonata_3/4th/xml_score.musicxml . Chromatic:  1\n",
            "No options for Chopin/Sonata_3/4th/xml_score.musicxml . Chromatic:  3\n",
            "No options for Chopin/Sonata_3/4th/xml_score.musicxml . Chromatic:  6\n",
            "No options for Chopin/Sonata_3/4th/xml_score.musicxml . Chromatic:  8\n",
            "No options for Chopin/Sonata_3/4th/xml_score.musicxml . Chromatic:  10\n",
            "No options for Chopin/Sonata_3/4th/xml_score.musicxml . Chromatic:  11\n",
            "No options for Chopin/Ballades/4/xml_score.musicxml . Chromatic:  6\n",
            "No options for Chopin/Etudes_op_25/10/xml_score.musicxml . Chromatic:  4\n",
            "No options for Chopin/Etudes_op_25/10/xml_score.musicxml . Chromatic:  9\n",
            "No options for Chopin/Sonata_2/2nd/xml_score.musicxml . Chromatic:  4\n",
            "No options for Chopin/Sonata_2/2nd/xml_score.musicxml . Chromatic:  6\n",
            "No options for Chopin/Sonata_2/2nd/xml_score.musicxml . Chromatic:  9\n",
            "No options for Chopin/Sonata_2/2nd/xml_score.musicxml . Chromatic:  11\n",
            "Beethoven/Piano_Sonatas/26-1/xml_score.musicxml P1\n",
            "['E-', 'G', 'B-', 'F', 'G', 'E-', 'C', 'C', 'E-', 'C']\n",
            "[3, 7, 10, 5, 7, 3, 0, 0, 3, 0]\n",
            "Beethoven/Piano_Sonatas/26-1/xml_score.musicxml A1\n",
            "['E', 'G#', 'B', 'F#', 'G#', 'E', 'C#', 'C#', 'E', 'C#']\n",
            "[4, 8, 11, 6, 8, 4, 1, 1, 4, 1]\n",
            "Beethoven/Piano_Sonatas/26-1/xml_score.musicxml M2\n",
            "['F', 'A', 'C', 'G', 'A', 'F', 'D', 'D', 'F', 'D']\n",
            "[5, 9, 0, 7, 9, 5, 2, 2, 5, 2]\n",
            "Beethoven/Piano_Sonatas/26-1/xml_score.musicxml A2\n",
            "['F#', 'A#', 'C#', 'G#', 'A#', 'F#', 'D#', 'D#', 'F#', 'D#']\n",
            "[6, 10, 1, 8, 10, 6, 3, 3, 6, 3]\n",
            "Beethoven/Piano_Sonatas/26-1/xml_score.musicxml M3\n",
            "['G', 'B', 'D', 'A', 'B', 'G', 'E', 'E', 'G', 'E']\n",
            "[7, 11, 2, 9, 11, 7, 4, 4, 7, 4]\n",
            "Beethoven/Piano_Sonatas/26-1/xml_score.musicxml P4\n",
            "['A-', 'C', 'E-', 'B-', 'C', 'A-', 'F', 'F', 'A-', 'F']\n",
            "[8, 0, 3, 10, 0, 8, 5, 5, 8, 5]\n",
            "Beethoven/Piano_Sonatas/26-1/xml_score.musicxml A4\n",
            "['A', 'C#', 'E', 'B', 'C#', 'A', 'F#', 'F#', 'A', 'F#']\n",
            "[9, 1, 4, 11, 1, 9, 6, 6, 9, 6]\n",
            "Beethoven/Piano_Sonatas/26-1/xml_score.musicxml P5\n",
            "['B-', 'D', 'F', 'C', 'D', 'B-', 'G', 'G', 'B-', 'G']\n",
            "[10, 2, 5, 0, 2, 10, 7, 7, 10, 7]\n",
            "Beethoven/Piano_Sonatas/26-1/xml_score.musicxml A5\n",
            "['B', 'D#', 'F#', 'C#', 'D#', 'B', 'G#', 'G#', 'B', 'G#']\n",
            "[11, 3, 6, 1, 3, 11, 8, 8, 11, 8]\n",
            "Beethoven/Piano_Sonatas/26-1/xml_score.musicxml M6\n",
            "['C', 'E', 'G', 'D', 'E', 'C', 'A', 'A', 'C', 'A']\n",
            "[0, 4, 7, 2, 4, 0, 9, 9, 0, 9]\n",
            "Beethoven/Piano_Sonatas/26-1/xml_score.musicxml m7\n",
            "['D-', 'F', 'A-', 'E-', 'F', 'D-', 'B-', 'B-', 'D-', 'B-']\n",
            "[1, 5, 8, 3, 5, 1, 10, 10, 1, 10]\n",
            "Beethoven/Piano_Sonatas/26-1/xml_score.musicxml M7\n",
            "['D', 'F#', 'A', 'E', 'F#', 'D', 'B', 'B', 'D', 'B']\n",
            "[2, 6, 9, 4, 6, 2, 11, 11, 2, 11]\n",
            "Bach/Prelude/bwv_860/xml_score.musicxml P1\n",
            "['G', 'G', 'B', 'D', 'G', 'G', 'D', 'B', 'D', 'B']\n",
            "[7, 7, 11, 2, 7, 7, 2, 11, 2, 11]\n",
            "Bach/Prelude/bwv_860/xml_score.musicxml m2\n",
            "['A-', 'A-', 'C', 'E-', 'A-', 'A-', 'E-', 'C', 'E-', 'C']\n",
            "[8, 8, 0, 3, 8, 8, 3, 0, 3, 0]\n",
            "Bach/Prelude/bwv_860/xml_score.musicxml M2\n",
            "['A', 'A', 'C#', 'E', 'A', 'A', 'E', 'C#', 'E', 'C#']\n",
            "[9, 9, 1, 4, 9, 9, 4, 1, 4, 1]\n",
            "Bach/Prelude/bwv_860/xml_score.musicxml m3\n",
            "['B-', 'B-', 'D', 'F', 'B-', 'B-', 'F', 'D', 'F', 'D']\n",
            "[10, 10, 2, 5, 10, 10, 5, 2, 5, 2]\n",
            "Bach/Prelude/bwv_860/xml_score.musicxml M3\n",
            "['B', 'B', 'D#', 'F#', 'B', 'B', 'F#', 'D#', 'F#', 'D#']\n",
            "[11, 11, 3, 6, 11, 11, 6, 3, 6, 3]\n",
            "Bach/Prelude/bwv_860/xml_score.musicxml P4\n",
            "['C', 'C', 'E', 'G', 'C', 'C', 'G', 'E', 'G', 'E']\n",
            "[0, 0, 4, 7, 0, 0, 7, 4, 7, 4]\n",
            "Bach/Prelude/bwv_860/xml_score.musicxml d5\n",
            "['D-', 'D-', 'F', 'A-', 'D-', 'D-', 'A-', 'F', 'A-', 'F']\n",
            "[1, 1, 5, 8, 1, 1, 8, 5, 8, 5]\n",
            "Bach/Prelude/bwv_860/xml_score.musicxml P5\n",
            "['D', 'D', 'F#', 'A', 'D', 'D', 'A', 'F#', 'A', 'F#']\n",
            "[2, 2, 6, 9, 2, 2, 9, 6, 9, 6]\n",
            "Bach/Prelude/bwv_860/xml_score.musicxml m6\n",
            "['E-', 'E-', 'G', 'B-', 'E-', 'E-', 'B-', 'G', 'B-', 'G']\n",
            "[3, 3, 7, 10, 3, 3, 10, 7, 10, 7]\n",
            "Bach/Prelude/bwv_860/xml_score.musicxml M6\n",
            "['E', 'E', 'G#', 'B', 'E', 'E', 'B', 'G#', 'B', 'G#']\n",
            "[4, 4, 8, 11, 4, 4, 11, 8, 11, 8]\n",
            "Bach/Prelude/bwv_860/xml_score.musicxml m7\n",
            "['F', 'F', 'A', 'C', 'F', 'F', 'C', 'A', 'C', 'A']\n",
            "[5, 5, 9, 0, 5, 5, 0, 9, 0, 9]\n",
            "Bach/Prelude/bwv_860/xml_score.musicxml d1\n",
            "['G-', 'G-', 'B-', 'D-', 'G-', 'G-', 'D-', 'B-', 'D-', 'B-']\n",
            "[6, 6, 10, 1, 6, 6, 1, 10, 1, 10]\n",
            "Bach/Prelude/bwv_867/xml_score.musicxml P1\n",
            "['D-', 'B-', 'B-', 'F', 'B-', 'C', 'B-', 'D-', 'B-', 'B-']\n",
            "[1, 10, 10, 5, 10, 0, 10, 1, 10, 10]\n",
            "Bach/Prelude/bwv_867/xml_score.musicxml A1\n",
            "['D', 'B', 'B', 'F#', 'B', 'C#', 'B', 'D', 'B', 'B']\n",
            "[2, 11, 11, 6, 11, 1, 11, 2, 11, 11]\n",
            "Bach/Prelude/bwv_867/xml_score.musicxml M2\n",
            "['E-', 'C', 'C', 'G', 'C', 'D', 'C', 'E-', 'C', 'C']\n",
            "[3, 0, 0, 7, 0, 2, 0, 3, 0, 0]\n",
            "Bach/Prelude/bwv_867/xml_score.musicxml A2\n",
            "['E', 'C#', 'C#', 'G#', 'C#', 'D#', 'C#', 'E', 'C#', 'C#']\n",
            "[4, 1, 1, 8, 1, 3, 1, 4, 1, 1]\n",
            "Bach/Prelude/bwv_867/xml_score.musicxml M3\n",
            "['F', 'D', 'D', 'A', 'D', 'E', 'D', 'F', 'D', 'D']\n",
            "[5, 2, 2, 9, 2, 4, 2, 5, 2, 2]\n",
            "Bach/Prelude/bwv_867/xml_score.musicxml P4\n",
            "['G-', 'E-', 'E-', 'B-', 'E-', 'F', 'E-', 'G-', 'E-', 'E-']\n",
            "[6, 3, 3, 10, 3, 5, 3, 6, 3, 3]\n",
            "Bach/Prelude/bwv_867/xml_score.musicxml A4\n",
            "['G', 'E', 'E', 'B', 'E', 'F#', 'E', 'G', 'E', 'E']\n",
            "[7, 4, 4, 11, 4, 6, 4, 7, 4, 4]\n",
            "Bach/Prelude/bwv_867/xml_score.musicxml P5\n",
            "['A-', 'F', 'F', 'C', 'F', 'G', 'F', 'A-', 'F', 'F']\n",
            "[8, 5, 5, 0, 5, 7, 5, 8, 5, 5]\n",
            "Bach/Prelude/bwv_867/xml_score.musicxml A5\n",
            "['A', 'F#', 'F#', 'C#', 'F#', 'G#', 'F#', 'A', 'F#', 'F#']\n",
            "[9, 6, 6, 1, 6, 8, 6, 9, 6, 6]\n",
            "Bach/Prelude/bwv_867/xml_score.musicxml M6\n",
            "['B-', 'G', 'G', 'D', 'G', 'A', 'G', 'B-', 'G', 'G']\n",
            "[10, 7, 7, 2, 7, 9, 7, 10, 7, 7]\n",
            "Bach/Prelude/bwv_867/xml_score.musicxml m7\n",
            "['C-', 'A-', 'A-', 'E-', 'A-', 'B-', 'A-', 'C-', 'A-', 'A-']\n",
            "[11, 8, 8, 3, 8, 10, 8, 11, 8, 8]\n",
            "Bach/Prelude/bwv_867/xml_score.musicxml M7\n",
            "['C', 'A', 'A', 'E', 'A', 'B', 'A', 'C', 'A', 'A']\n",
            "[0, 9, 9, 4, 9, 11, 9, 0, 9, 9]\n",
            "Chopin/Sonata_2/3rd/xml_score.musicxml P1\n",
            "['B-', 'F', 'B-', 'F', 'B-', 'B-', 'G-', 'D-', 'G-', 'D-']\n",
            "[10, 5, 10, 5, 10, 10, 6, 1, 6, 1]\n",
            "Chopin/Sonata_2/3rd/xml_score.musicxml A1\n",
            "['B', 'F#', 'B', 'F#', 'B', 'B', 'G', 'D', 'G', 'D']\n",
            "[11, 6, 11, 6, 11, 11, 7, 2, 7, 2]\n",
            "Chopin/Sonata_2/3rd/xml_score.musicxml M2\n",
            "['C', 'G', 'C', 'G', 'C', 'C', 'A-', 'E-', 'A-', 'E-']\n",
            "[0, 7, 0, 7, 0, 0, 8, 3, 8, 3]\n",
            "Chopin/Sonata_2/3rd/xml_score.musicxml A2\n",
            "['C#', 'G#', 'C#', 'G#', 'C#', 'C#', 'A', 'E', 'A', 'E']\n",
            "[1, 8, 1, 8, 1, 1, 9, 4, 9, 4]\n",
            "Chopin/Sonata_2/3rd/xml_score.musicxml M3\n",
            "['D', 'A', 'D', 'A', 'D', 'D', 'B-', 'F', 'B-', 'F']\n",
            "[2, 9, 2, 9, 2, 2, 10, 5, 10, 5]\n",
            "Chopin/Sonata_2/3rd/xml_score.musicxml A3\n",
            "['D#', 'A#', 'D#', 'A#', 'D#', 'D#', 'B', 'F#', 'B', 'F#']\n",
            "[3, 10, 3, 10, 3, 3, 11, 6, 11, 6]\n",
            "Chopin/Sonata_2/3rd/xml_score.musicxml A4\n",
            "['E', 'B', 'E', 'B', 'E', 'E', 'C', 'G', 'C', 'G']\n",
            "[4, 11, 4, 11, 4, 4, 0, 7, 0, 7]\n",
            "Chopin/Sonata_2/3rd/xml_score.musicxml P5\n",
            "['F', 'C', 'F', 'C', 'F', 'F', 'D-', 'A-', 'D-', 'A-']\n",
            "[5, 0, 5, 0, 5, 5, 1, 8, 1, 8]\n",
            "Chopin/Sonata_2/3rd/xml_score.musicxml A5\n",
            "['F#', 'C#', 'F#', 'C#', 'F#', 'F#', 'D', 'A', 'D', 'A']\n",
            "[6, 1, 6, 1, 6, 6, 2, 9, 2, 9]\n",
            "Chopin/Sonata_2/3rd/xml_score.musicxml M6\n",
            "['G', 'D', 'G', 'D', 'G', 'G', 'E-', 'B-', 'E-', 'B-']\n",
            "[7, 2, 7, 2, 7, 7, 3, 10, 3, 10]\n",
            "Chopin/Sonata_2/3rd/xml_score.musicxml A6\n",
            "['G#', 'D#', 'G#', 'D#', 'G#', 'G#', 'E', 'B', 'E', 'B']\n",
            "[8, 3, 8, 3, 8, 8, 4, 11, 4, 11]\n",
            "Chopin/Sonata_2/3rd/xml_score.musicxml M7\n",
            "['A', 'E', 'A', 'E', 'A', 'A', 'F', 'C', 'F', 'C']\n",
            "[9, 4, 9, 4, 9, 9, 5, 0, 5, 0]\n",
            "Bach/Prelude/bwv_854/xml_score.musicxml P1\n",
            "['E', 'E', 'G#', 'B', 'E', 'G#', 'D#', 'E', 'C#', 'D#']\n",
            "[4, 4, 8, 11, 4, 8, 3, 4, 1, 3]\n",
            "Bach/Prelude/bwv_854/xml_score.musicxml m2\n",
            "['F', 'F', 'A', 'C', 'F', 'A', 'E', 'F', 'D', 'E']\n",
            "[5, 5, 9, 0, 5, 9, 4, 5, 2, 4]\n",
            "Bach/Prelude/bwv_854/xml_score.musicxml M2\n",
            "['F#', 'F#', 'A#', 'C#', 'F#', 'A#', 'E#', 'F#', 'D#', 'E#']\n",
            "[6, 6, 10, 1, 6, 10, 5, 6, 3, 5]\n",
            "Bach/Prelude/bwv_854/xml_score.musicxml m3\n",
            "['G', 'G', 'B', 'D', 'G', 'B', 'F#', 'G', 'E', 'F#']\n",
            "[7, 7, 11, 2, 7, 11, 6, 7, 4, 6]\n",
            "Bach/Prelude/bwv_854/xml_score.musicxml d4\n",
            "['A-', 'A-', 'C', 'E-', 'A-', 'C', 'G', 'A-', 'F', 'G']\n",
            "[8, 8, 0, 3, 8, 0, 7, 8, 5, 7]\n",
            "Bach/Prelude/bwv_854/xml_score.musicxml P4\n",
            "['A', 'A', 'C#', 'E', 'A', 'C#', 'G#', 'A', 'F#', 'G#']\n",
            "[9, 9, 1, 4, 9, 1, 8, 9, 6, 8]\n",
            "Bach/Prelude/bwv_854/xml_score.musicxml d5\n",
            "['B-', 'B-', 'D', 'F', 'B-', 'D', 'A', 'B-', 'G', 'A']\n",
            "[10, 10, 2, 5, 10, 2, 9, 10, 7, 9]\n",
            "Bach/Prelude/bwv_854/xml_score.musicxml P5\n",
            "['B', 'B', 'D#', 'F#', 'B', 'D#', 'A#', 'B', 'G#', 'A#']\n",
            "[11, 11, 3, 6, 11, 3, 10, 11, 8, 10]\n",
            "Bach/Prelude/bwv_854/xml_score.musicxml m6\n",
            "['C', 'C', 'E', 'G', 'C', 'E', 'B', 'C', 'A', 'B']\n",
            "[0, 0, 4, 7, 0, 4, 11, 0, 9, 11]\n",
            "Bach/Prelude/bwv_854/xml_score.musicxml d7\n",
            "['D-', 'D-', 'F', 'A-', 'D-', 'F', 'C', 'D-', 'B-', 'C']\n",
            "[1, 1, 5, 8, 1, 5, 0, 1, 10, 0]\n",
            "Bach/Prelude/bwv_854/xml_score.musicxml m7\n",
            "['D', 'D', 'F#', 'A', 'D', 'F#', 'C#', 'D', 'B', 'C#']\n",
            "[2, 2, 6, 9, 2, 6, 1, 2, 11, 1]\n",
            "Bach/Prelude/bwv_854/xml_score.musicxml d1\n",
            "['E-', 'E-', 'G', 'B-', 'E-', 'G', 'D', 'E-', 'C', 'D']\n",
            "[3, 3, 7, 10, 3, 7, 2, 3, 0, 2]\n",
            "Schubert/Impromptu_op.90_D.899/1/xml_score.musicxml P1\n",
            "['G', 'G', 'G', 'G', 'B', 'C', 'D', 'D', 'D', 'C']\n",
            "[7, 7, 7, 7, 11, 0, 2, 2, 2, 0]\n",
            "Schubert/Impromptu_op.90_D.899/1/xml_score.musicxml A1\n",
            "['G#', 'G#', 'G#', 'G#', 'B#', 'C#', 'D#', 'D#', 'D#', 'C#']\n",
            "[8, 8, 8, 8, 0, 1, 3, 3, 3, 1]\n",
            "Schubert/Impromptu_op.90_D.899/1/xml_score.musicxml M2\n",
            "['A', 'A', 'A', 'A', 'C#', 'D', 'E', 'E', 'E', 'D']\n",
            "[9, 9, 9, 9, 1, 2, 4, 4, 4, 2]\n",
            "Schubert/Impromptu_op.90_D.899/1/xml_score.musicxml m3\n",
            "['B-', 'B-', 'B-', 'B-', 'D', 'E-', 'F', 'F', 'F', 'E-']\n",
            "[10, 10, 10, 10, 2, 3, 5, 5, 5, 3]\n",
            "Schubert/Impromptu_op.90_D.899/1/xml_score.musicxml M3\n",
            "['B', 'B', 'B', 'B', 'D#', 'E', 'F#', 'F#', 'F#', 'E']\n",
            "[11, 11, 11, 11, 3, 4, 6, 6, 6, 4]\n",
            "Schubert/Impromptu_op.90_D.899/1/xml_score.musicxml P4\n",
            "['C', 'C', 'C', 'C', 'E', 'F', 'G', 'G', 'G', 'F']\n",
            "[0, 0, 0, 0, 4, 5, 7, 7, 7, 5]\n",
            "Schubert/Impromptu_op.90_D.899/1/xml_score.musicxml A4\n",
            "['C#', 'C#', 'C#', 'C#', 'E#', 'F#', 'G#', 'G#', 'G#', 'F#']\n",
            "[1, 1, 1, 1, 5, 6, 8, 8, 8, 6]\n",
            "Schubert/Impromptu_op.90_D.899/1/xml_score.musicxml P5\n",
            "['D', 'D', 'D', 'D', 'F#', 'G', 'A', 'A', 'A', 'G']\n",
            "[2, 2, 2, 2, 6, 7, 9, 9, 9, 7]\n",
            "Schubert/Impromptu_op.90_D.899/1/xml_score.musicxml A5\n",
            "['D#', 'D#', 'D#', 'D#', 'F##', 'G#', 'A#', 'A#', 'A#', 'G#']\n",
            "[3, 3, 3, 3, 7, 8, 10, 10, 10, 8]\n",
            "Schubert/Impromptu_op.90_D.899/1/xml_score.musicxml M6\n",
            "['E', 'E', 'E', 'E', 'G#', 'A', 'B', 'B', 'B', 'A']\n",
            "[4, 4, 4, 4, 8, 9, 11, 11, 11, 9]\n",
            "Schubert/Impromptu_op.90_D.899/1/xml_score.musicxml m7\n",
            "['F', 'F', 'F', 'F', 'A', 'B-', 'C', 'C', 'C', 'B-']\n",
            "[5, 5, 5, 5, 9, 10, 0, 0, 0, 10]\n",
            "Schubert/Impromptu_op.90_D.899/1/xml_score.musicxml M7\n",
            "['F#', 'F#', 'F#', 'F#', 'A#', 'B', 'C#', 'C#', 'C#', 'B']\n",
            "[6, 6, 6, 6, 10, 11, 1, 1, 1, 11]\n",
            "Bach/Prelude/bwv_873/xml_score.musicxml P1\n",
            "['C#', 'E', 'G#', 'C#', 'G#', 'C#', 'E', 'C#', 'B', 'C#']\n",
            "[1, 4, 8, 1, 8, 1, 4, 1, 11, 1]\n",
            "Bach/Prelude/bwv_873/xml_score.musicxml m2\n",
            "['D', 'F', 'A', 'D', 'A', 'D', 'F', 'D', 'C', 'D']\n",
            "[2, 5, 9, 2, 9, 2, 5, 2, 0, 2]\n",
            "Bach/Prelude/bwv_873/xml_score.musicxml d3\n",
            "['E-', 'G-', 'B-', 'E-', 'B-', 'E-', 'G-', 'E-', 'D-', 'E-']\n",
            "[3, 6, 10, 3, 10, 3, 6, 3, 1, 3]\n",
            "Bach/Prelude/bwv_873/xml_score.musicxml m3\n",
            "['E', 'G', 'B', 'E', 'B', 'E', 'G', 'E', 'D', 'E']\n",
            "[4, 7, 11, 4, 11, 4, 7, 4, 2, 4]\n",
            "Bach/Prelude/bwv_873/xml_score.musicxml d4\n",
            "['F', 'A-', 'C', 'F', 'C', 'F', 'A-', 'F', 'E-', 'F']\n",
            "[5, 8, 0, 5, 0, 5, 8, 5, 3, 5]\n",
            "Bach/Prelude/bwv_873/xml_score.musicxml P4\n",
            "['F#', 'A', 'C#', 'F#', 'C#', 'F#', 'A', 'F#', 'E', 'F#']\n",
            "[6, 9, 1, 6, 1, 6, 9, 6, 4, 6]\n",
            "Bach/Prelude/bwv_873/xml_score.musicxml d5\n",
            "['G', 'B-', 'D', 'G', 'D', 'G', 'B-', 'G', 'F', 'G']\n",
            "[7, 10, 2, 7, 2, 7, 10, 7, 5, 7]\n",
            "Bach/Prelude/bwv_873/xml_score.musicxml P5\n",
            "['G#', 'B', 'D#', 'G#', 'D#', 'G#', 'B', 'G#', 'F#', 'G#']\n",
            "[8, 11, 3, 8, 3, 8, 11, 8, 6, 8]\n",
            "Bach/Prelude/bwv_873/xml_score.musicxml m6\n",
            "['A', 'C', 'E', 'A', 'E', 'A', 'C', 'A', 'G', 'A']\n",
            "[9, 0, 4, 9, 4, 9, 0, 9, 7, 9]\n",
            "Bach/Prelude/bwv_873/xml_score.musicxml d7\n",
            "['B-', 'D-', 'F', 'B-', 'F', 'B-', 'D-', 'B-', 'A-', 'B-']\n",
            "[10, 1, 5, 10, 5, 10, 1, 10, 8, 10]\n",
            "Bach/Prelude/bwv_873/xml_score.musicxml m7\n",
            "['B', 'D', 'F#', 'B', 'F#', 'B', 'D', 'B', 'A', 'B']\n",
            "[11, 2, 6, 11, 6, 11, 2, 11, 9, 11]\n",
            "Bach/Prelude/bwv_873/xml_score.musicxml d1\n",
            "['C', 'E-', 'G', 'C', 'G', 'C', 'E-', 'C', 'B-', 'C']\n",
            "[0, 3, 7, 0, 7, 0, 3, 0, 10, 0]\n",
            "Beethoven/Piano_Sonatas/28-1/xml_score.musicxml P1\n",
            "['G#', 'E', 'E', 'E', 'B', 'A', 'F#', 'D#', 'B', 'G#']\n",
            "[8, 4, 4, 4, 11, 9, 6, 3, 11, 8]\n",
            "Beethoven/Piano_Sonatas/28-1/xml_score.musicxml m2\n",
            "['A', 'F', 'F', 'F', 'C', 'B-', 'G', 'E', 'C', 'A']\n",
            "[9, 5, 5, 5, 0, 10, 7, 4, 0, 9]\n",
            "Beethoven/Piano_Sonatas/28-1/xml_score.musicxml M2\n",
            "['A#', 'F#', 'F#', 'F#', 'C#', 'B', 'G#', 'E#', 'C#', 'A#']\n",
            "[10, 6, 6, 6, 1, 11, 8, 5, 1, 10]\n",
            "Beethoven/Piano_Sonatas/28-1/xml_score.musicxml m3\n",
            "['B', 'G', 'G', 'G', 'D', 'C', 'A', 'F#', 'D', 'B']\n",
            "[11, 7, 7, 7, 2, 0, 9, 6, 2, 11]\n",
            "Beethoven/Piano_Sonatas/28-1/xml_score.musicxml d4\n",
            "['C', 'A-', 'A-', 'A-', 'E-', 'D-', 'B-', 'G', 'E-', 'C']\n",
            "[0, 8, 8, 8, 3, 1, 10, 7, 3, 0]\n",
            "Beethoven/Piano_Sonatas/28-1/xml_score.musicxml P4\n",
            "['C#', 'A', 'A', 'A', 'E', 'D', 'B', 'G#', 'E', 'C#']\n",
            "[1, 9, 9, 9, 4, 2, 11, 8, 4, 1]\n",
            "Beethoven/Piano_Sonatas/28-1/xml_score.musicxml d5\n",
            "['D', 'B-', 'B-', 'B-', 'F', 'E-', 'C', 'A', 'F', 'D']\n",
            "[2, 10, 10, 10, 5, 3, 0, 9, 5, 2]\n",
            "Beethoven/Piano_Sonatas/28-1/xml_score.musicxml P5\n",
            "['D#', 'B', 'B', 'B', 'F#', 'E', 'C#', 'A#', 'F#', 'D#']\n",
            "[3, 11, 11, 11, 6, 4, 1, 10, 6, 3]\n",
            "Beethoven/Piano_Sonatas/28-1/xml_score.musicxml m6\n",
            "['E', 'C', 'C', 'C', 'G', 'F', 'D', 'B', 'G', 'E']\n",
            "[4, 0, 0, 0, 7, 5, 2, 11, 7, 4]\n",
            "Beethoven/Piano_Sonatas/28-1/xml_score.musicxml d7\n",
            "['F', 'D-', 'D-', 'D-', 'A-', 'G-', 'E-', 'C', 'A-', 'F']\n",
            "[5, 1, 1, 1, 8, 6, 3, 0, 8, 5]\n",
            "Beethoven/Piano_Sonatas/28-1/xml_score.musicxml m7\n",
            "['F#', 'D', 'D', 'D', 'A', 'G', 'E', 'C#', 'A', 'F#']\n",
            "[6, 2, 2, 2, 9, 7, 4, 1, 9, 6]\n",
            "Beethoven/Piano_Sonatas/28-1/xml_score.musicxml d1\n",
            "['G', 'E-', 'E-', 'E-', 'B-', 'A-', 'F', 'D', 'B-', 'G']\n",
            "[7, 3, 3, 3, 10, 8, 5, 2, 10, 7]\n",
            "Schumann/Kreisleriana/2/xml_score.musicxml P1\n",
            "['B-', 'B-', 'D', 'C', 'C', 'F', 'D', 'D', 'B-', 'B-']\n",
            "[10, 10, 2, 0, 0, 5, 2, 2, 10, 10]\n",
            "Schumann/Kreisleriana/2/xml_score.musicxml A1\n",
            "['B', 'B', 'D#', 'C#', 'C#', 'F#', 'D#', 'D#', 'B', 'B']\n",
            "[11, 11, 3, 1, 1, 6, 3, 3, 11, 11]\n",
            "Schumann/Kreisleriana/2/xml_score.musicxml M2\n",
            "['C', 'C', 'E', 'D', 'D', 'G', 'E', 'E', 'C', 'C']\n",
            "[0, 0, 4, 2, 2, 7, 4, 4, 0, 0]\n",
            "Schumann/Kreisleriana/2/xml_score.musicxml m3\n",
            "['D-', 'D-', 'F', 'E-', 'E-', 'A-', 'F', 'F', 'D-', 'D-']\n",
            "[1, 1, 5, 3, 3, 8, 5, 5, 1, 1]\n",
            "Schumann/Kreisleriana/2/xml_score.musicxml M3\n",
            "['D', 'D', 'F#', 'E', 'E', 'A', 'F#', 'F#', 'D', 'D']\n",
            "[2, 2, 6, 4, 4, 9, 6, 6, 2, 2]\n"
          ],
          "name": "stdout"
        }
      ]
    },
    {
      "cell_type": "code",
      "metadata": {
        "id": "ZgHkMeoJdb42",
        "colab": {
          "base_uri": "https://localhost:8080/"
        },
        "outputId": "8e88b8ba-8f1b-42c5-f37c-e8ae18200f47"
      },
      "source": [
        "c = Counter()\r\n",
        "for p in paths:\r\n",
        "    c[p.split(\"/\")[0]] +=1\r\n",
        "\r\n",
        "print(c)"
      ],
      "execution_count": 42,
      "outputs": [
        {
          "output_type": "stream",
          "text": [
            "Counter({'Bach': 59, 'Beethoven': 57, 'Chopin': 34, 'Schubert': 13, 'Haydn': 11, 'Schumann': 10, 'Mozart': 6, 'Brahms': 1})\n"
          ],
          "name": "stdout"
        }
      ]
    },
    {
      "cell_type": "code",
      "metadata": {
        "id": "-GRCM2W3qqeW",
        "outputId": "bb9ccba9-1853-49fe-f042-fcc66a548a3d",
        "colab": {
          "base_uri": "https://localhost:8080/"
        }
      },
      "source": [
        "# Ignore Brahms (only one piece)\r\n",
        "paths = [p for p in paths if p.split(\"/\")[0] !=\"Brahms\"]\r\n",
        "\r\n",
        "# Divide train and validation set\r\n",
        "path_train, path_validation = sklearn.model_selection.train_test_split(paths, test_size=0.2,stratify=[p.split(\"/\")[0] for p in paths ])\r\n",
        "print(\"Train and validation lenghts: \",len(path_train),len(path_validation))"
      ],
      "execution_count": 44,
      "outputs": [
        {
          "output_type": "stream",
          "text": [
            "Train and validation lenghts:  152 38\n"
          ],
          "name": "stdout"
        }
      ]
    },
    {
      "cell_type": "code",
      "metadata": {
        "colab": {
          "base_uri": "https://localhost:8080/",
          "height": 336
        },
        "id": "KIZ2_bX1bom5",
        "outputId": "5c42b1c9-52b0-4ea9-f655-6aec576d50d4"
      },
      "source": [
        "#need to find a better way to visualize this\r\n",
        "composers = list(set([p.split(\"/\")[0] for p in paths ]))\r\n",
        "print(composers)\r\n",
        "\r\n",
        "train_composer = [composers.index(p.split(\"/\")[0]) for p in path_train]\r\n",
        "val_composer = [composers.index(p.split(\"/\")[0]) for p in path_validation]\r\n",
        "\r\n",
        "_ = plt.hist([train_composer, val_composer], label=['train', 'validation'])\r\n",
        "_ = plt.legend(loc='upper left')\r\n",
        "_ = plt.xticks(list(range(7)), composers)"
      ],
      "execution_count": 47,
      "outputs": [
        {
          "output_type": "stream",
          "text": [
            "['Schumann', 'Chopin', 'Bach', 'Beethoven', 'Mozart', 'Schubert', 'Haydn']\n"
          ],
          "name": "stdout"
        },
        {
          "output_type": "stream",
          "text": [
            "/usr/local/lib/python3.6/dist-packages/numpy/core/_asarray.py:83: VisibleDeprecationWarning: Creating an ndarray from ragged nested sequences (which is a list-or-tuple of lists-or-tuples-or ndarrays with different lengths or shapes) is deprecated. If you meant to do this, you must specify 'dtype=object' when creating the ndarray\n",
            "  return array(a, dtype, copy=False, order=order)\n"
          ],
          "name": "stderr"
        },
        {
          "output_type": "display_data",
          "data": {
            "image/png": "[encoded data removed]",
            "text/plain": [
              "<Figure size 432x288 with 1 Axes>"
            ]
          },
          "metadata": {
            "tags": [],
            "image/png": {
              "width": 373,
              "height": 248
            },
            "needs_background": "light"
          }
        }
      ]
    },
    {
      "cell_type": "markdown",
      "metadata": {
        "id": "1-qaT10ApkCY"
      },
      "source": [
        "## Transform the input into a convenient format for the Model"
      ]
    },
    {
      "cell_type": "code",
      "metadata": {
        "colab": {
          "base_uri": "https://localhost:8080/"
        },
        "id": "kEYec2TDOWvj",
        "outputId": "68234182-256a-48ca-e6ee-682e3dba77d6"
      },
      "source": [
        "# Helper functions to feed the correct input into the NN \r\n",
        "\r\n",
        "PAD = \"<PAD>\"\r\n",
        "\r\n",
        "tag_to_ix = {p: accepted_pitches.index(p) for p in accepted_pitches}\r\n",
        "#add PADDING TAD\r\n",
        "tag_to_ix[PAD] = len(accepted_pitches)\r\n",
        "\r\n",
        "midi_to_ix = {m: m for m in range(12)}\r\n",
        "# #add PADDING TAD\r\n",
        "# midi_to_ix[PAD] = 12\r\n",
        "\r\n",
        "print(midi_to_ix[1])\r\n",
        "print(len(midi_to_ix))\r\n",
        "\r\n",
        "\r\n",
        "class Pitch2Diatonic():\r\n",
        "  def __call__(self, in_seq):\r\n",
        "    return [p for p in in_seq]\r\n",
        "\r\n",
        "class Diatonic2Int():\r\n",
        "  def __call__(self, in_seq):\r\n",
        "    idxs = [tag_to_ix[w] for w in in_seq]\r\n",
        "    return idxs\r\n",
        "\r\n",
        "class Int2Pitch():\r\n",
        "  def __call__(self, in_seq):\r\n",
        "    return [accepted_pitches[i] for i in in_seq]\r\n",
        "\r\n",
        "class OneHotEncoder():\r\n",
        "    def __init__(self, alphabet_len):\r\n",
        "        self.alphabet_len = alphabet_len\r\n",
        "        \r\n",
        "    def __call__(self, sample):\r\n",
        "        onehot = np.zeros([len(sample), self.alphabet_len])\r\n",
        "        tot_chars = len(sample)\r\n",
        "        onehot[np.arange(tot_chars), sample] = 1\r\n",
        "        return onehot\r\n",
        "        \r\n",
        "class ToTensorFloat():\r\n",
        "  def __call__(self, sample):\r\n",
        "    return torch.tensor(sample,dtype=torch.float)\r\n",
        "\r\n",
        "class ToTensorLong():\r\n",
        "  def __call__(self, sample):\r\n",
        "    return torch.tensor(sample,dtype=torch.long)\r\n",
        "\r\n",
        "\r\n",
        "pitches_len = len(accepted_pitches)\r\n",
        "midinote_len = 12\r\n",
        "\r\n",
        "### Define the preprocessing pipeline\r\n",
        "transform_diat = transforms.Compose([\r\n",
        "                                     Pitch2Diatonic(),\r\n",
        "                                     Diatonic2Int(),\r\n",
        "                                     ToTensorLong()])\r\n",
        "transform_chrom = transforms.Compose([\r\n",
        "                                      OneHotEncoder(len(midi_to_ix)),\r\n",
        "                                      ToTensorFloat()])"
      ],
      "execution_count": 48,
      "outputs": [
        {
          "output_type": "stream",
          "text": [
            "1\n",
            "12\n"
          ],
          "name": "stdout"
        }
      ]
    },
    {
      "cell_type": "code",
      "metadata": {
        "colab": {
          "base_uri": "https://localhost:8080/"
        },
        "id": "jV9boYaToUs2",
        "outputId": "6c080b91-fa90-40e8-93b8-6ab54164a259"
      },
      "source": [
        "# Create the dataset\r\n",
        "\r\n",
        "class PSDataset(Dataset):\r\n",
        "    def __init__(self, dict_dataset, paths, transf_c, transf_d, augment_dataset, truncate = None):\r\n",
        "        if augment_dataset:\r\n",
        "            self.chromatic_sequences = [e[\"midi_number\"] for e in dict_dataset if e[\"original_path\"] in paths]\r\n",
        "            self.diatonic_sequences = [e[\"pitches\"]\r\n",
        "                                       for e in dict_dataset \r\n",
        "                                       if e[\"original_path\"] in paths]\r\n",
        "        else: #consider only non transposed pieces\r\n",
        "            self.chromatic_sequences = [e[\"midi_number\"] for e in dict_dataset \r\n",
        "                                        if (e[\"original_path\"] in paths and e[\"transposed_of\"]==\"P1\")]\r\n",
        "            self.diatonic_sequences = [e[\"pitches\"]\r\n",
        "                                       for e in dict_dataset \r\n",
        "                                       if (e[\"original_path\"] in paths and e[\"transposed_of\"]==\"P1\")]\r\n",
        "        #the transformations to apply to data\r\n",
        "        self.transf_c = transf_c\r\n",
        "        self.transf_d = transf_d\r\n",
        "        self.truncate = truncate\r\n",
        "\r\n",
        "    def __len__(self):\r\n",
        "        return len(self.chromatic_sequences)\r\n",
        "\r\n",
        "    def __getitem__(self, idx):\r\n",
        "        chromatic_seq = self.chromatic_sequences[idx]\r\n",
        "        diatonic_seq = self.diatonic_sequences[idx]\r\n",
        "        \r\n",
        "\r\n",
        "        #transform\r\n",
        "        chromatic_seq = self.transf_c(chromatic_seq)\r\n",
        "        diatonic_seq = self.transf_d(diatonic_seq)\r\n",
        "\r\n",
        "        if not self.truncate is None:\r\n",
        "            if len(diatonic_seq) > self.truncate:\r\n",
        "                chromatic_seq = chromatic_seq[0:self.truncate]\r\n",
        "                diatonic_seq = diatonic_seq[0:self.truncate]\r\n",
        "\r\n",
        "        #sanity check\r\n",
        "        assert len(chromatic_seq) == len(diatonic_seq)\r\n",
        "        seq_len = len(diatonic_seq)\r\n",
        "        \r\n",
        "        return chromatic_seq, diatonic_seq, seq_len\r\n",
        "\r\n",
        "train_dataset = PSDataset(dict_dataset,path_train, transform_chrom,transform_diat,True)\r\n",
        "validation_dataset = PSDataset(dict_dataset,path_validation, transform_chrom,transform_diat, False)\r\n",
        "\r\n",
        "print(len(train_dataset),len(validation_dataset))\r\n",
        "\r\n",
        "\r\n",
        "\r\n",
        "# test if it works\r\n",
        "chrom, diat, l = next(iter(train_dataset))\r\n",
        "print([[i for i, j in enumerate(m) if j == 1][0] for m in chrom[0:30]])\r\n",
        "# print([diatonic_pitches[p.item()] for p in diat[0:30]])\r\n",
        "print([accepted_pitches[p.item()] for p in diat[0:30]])"
      ],
      "execution_count": 60,
      "outputs": [
        {
          "output_type": "stream",
          "text": [
            "1805 38\n",
            "[3, 7, 10, 5, 7, 3, 0, 0, 3, 0, 3, 8, 7, 10, 4, 7, 10, 4, 1, 0, 9, 5, 0, 8, 6, 2, 0, 11, 0, 2]\n",
            "['E-', 'G', 'B-', 'F', 'G', 'E-', 'C', 'C', 'E-', 'C', 'E-', 'A-', 'G', 'B-', 'E', 'G', 'B-', 'E', 'D-', 'C', 'A', 'F', 'C', 'A-', 'F#', 'D', 'C', 'B', 'C', 'D']\n"
          ],
          "name": "stdout"
        }
      ]
    },
    {
      "cell_type": "code",
      "metadata": {
        "colab": {
          "base_uri": "https://localhost:8080/"
        },
        "id": "hAubyjw2LC8P",
        "outputId": "08432b0c-10cc-4f5f-c8e4-eea6d3672138"
      },
      "source": [
        "def pad_collate(batch):\r\n",
        "    (xx, yy, l) = zip(*batch)\r\n",
        "    \r\n",
        "    xx_pad = pad_sequence(xx)\r\n",
        "    yy_pad = pad_sequence(yy, padding_value=tag_to_ix[PAD])\r\n",
        "\r\n",
        "    #sort the sequences by length\r\n",
        "    seq_lengths, perm_idx = torch.Tensor(l).sort(0, descending=True)\r\n",
        "    xx_pad = xx_pad[:,perm_idx,:]\r\n",
        "    yy_pad = yy_pad[:,perm_idx]\r\n",
        "\r\n",
        "    return xx_pad, yy_pad, seq_lengths\r\n",
        "\r\n",
        "data_loader = DataLoader(dataset=validation_dataset, batch_size=4, shuffle=True, collate_fn=pad_collate)\r\n",
        "\r\n",
        "#something is wrong here looking at the output\r\n",
        "\r\n",
        "\r\n",
        "#test if it work\r\n",
        "for batch in data_loader:\r\n",
        "    print(batch[0].shape,batch[1].shape,batch[2])\r\n",
        "    print(batch[1])\r\n",
        "    break\r\n"
      ],
      "execution_count": 54,
      "outputs": [
        {
          "output_type": "stream",
          "text": [
            "torch.Size([1360, 4, 12]) torch.Size([1360, 4]) tensor([1360., 1097.,  838.,  827.])\n",
            "tensor([[21, 21, 30, 30],\n",
            "        [21, 15, 10, 15],\n",
            "        [ 0, 21, 10, 20],\n",
            "        ...,\n",
            "        [10, 35, 35, 35],\n",
            "        [30, 35, 35, 35],\n",
            "        [21, 35, 35, 35]])\n"
          ],
          "name": "stdout"
        }
      ]
    },
    {
      "cell_type": "markdown",
      "metadata": {
        "id": "6O1OA1AjGWO-"
      },
      "source": [
        "## Model Definition"
      ]
    },
    {
      "cell_type": "code",
      "metadata": {
        "id": "QE7itQ88Qx17"
      },
      "source": [
        "class RNNCRFTagger(nn.Module):\r\n",
        "    def __init__(self, input_dim, hidden_dim, n_labels,n_layers =1):\r\n",
        "        super(RNNCRFTagger,self).__init__()    \r\n",
        "        \r\n",
        "        self.n_labels = n_labels\r\n",
        "        self.hidden_dim = hidden_dim\r\n",
        "\r\n",
        "        self.rnn = nn.GRU(input_size=input_dim, hidden_size=hidden_dim //2, \r\n",
        "                          bidirectional=True, num_layers=n_layers)\r\n",
        "\r\n",
        "        self.top_layer = nn.Linear(hidden_dim, self.n_labels)\r\n",
        "    \r\n",
        "        self.crf = CRF(self.n_labels)\r\n",
        "        \r\n",
        "    def compute_outputs(self, sentences,sentences_len):\r\n",
        "        ## should I initialize here??\r\n",
        "        sentences = torch.nn.utils.rnn.pack_padded_sequence(sentences, sentences_len)\r\n",
        "        rnn_out, _ = self.rnn(sentences)\r\n",
        "        rnn_out,_ = torch.nn.utils.rnn.pad_packed_sequence(rnn_out)\r\n",
        "\r\n",
        "        out = self.top_layer(rnn_out)\r\n",
        "      \r\n",
        "        return out\r\n",
        "                \r\n",
        "    def forward(self, sentences, labels, sentences_len):\r\n",
        "        # Compute the outputs of the lower layers, which will be used as emission\r\n",
        "        # scores for the CRF.\r\n",
        "        scores = self.compute_outputs(sentences,sentences_len)\r\n",
        "\r\n",
        "        # We return the loss value. The CRF returns the log likelihood, but we return \r\n",
        "        # the *negative* log likelihood as the loss value.            \r\n",
        "        # PyTorch's optimizers *minimize* the loss, while we want to *maximize* the\r\n",
        "        # log likelihood.\r\n",
        "\r\n",
        "        pad_mask = torch.arange(max(sentences_len))[:, None] < sentences_len[None, :]\r\n",
        "        pad_mask = pad_mask.byte().to(device)\r\n",
        "        return -self.crf(scores, labels, mask = pad_mask )\r\n",
        "            \r\n",
        "    def predict(self, sentences,sentences_len):\r\n",
        "        # Compute the emission scores, as above.\r\n",
        "        scores = self.compute_outputs(sentences,sentences_len)\r\n",
        "\r\n",
        "        # Apply the Viterbi algorithm to get the predictions. This implementation returns\r\n",
        "        # the result as a list of lists (not a tensor), corresponding to a matrix\r\n",
        "        # of shape (n_sentences, max_len).\r\n",
        "        pad_mask = torch.arange(max(sentences_len))[:, None] < sentences_len[None, :]\r\n",
        "        pad_mask = pad_mask.byte().to(device)\r\n",
        "        return self.crf.decode(scores,mask = pad_mask)"
      ],
      "execution_count": 61,
      "outputs": []
    },
    {
      "cell_type": "markdown",
      "metadata": {
        "id": "vXixmVQfvw8T"
      },
      "source": [
        "## Train model"
      ]
    },
    {
      "cell_type": "code",
      "metadata": {
        "id": "3m_nj4HCuCe1"
      },
      "source": [
        "# TODO: search over the best hyperparameters"
      ],
      "execution_count": null,
      "outputs": []
    },
    {
      "cell_type": "code",
      "metadata": {
        "id": "uAMSIlw0AJb6"
      },
      "source": [
        "def training_loop(model, optimizer, train_dataloader, val_dataloader, n_epochs):\r\n",
        "    history = defaultdict(list)  \r\n",
        "    for i_epoch in range(1,n_epochs +1):\r\n",
        "        t0 = time.time()\r\n",
        "        loss_sum = 0\r\n",
        "        accuracy_sum = 0\r\n",
        "        model.train()\r\n",
        "        for seqs, targets, lens in train_dataloader: #seqs, targets, lens are batches\r\n",
        "            seqs, targets = seqs.to(device), targets.to(device)\r\n",
        "            optimizer.zero_grad()\r\n",
        "\r\n",
        "            loss = model(seqs,targets,lens) / sum(lens) #normalize for the number of symbol considered (without padding)\r\n",
        "            loss.backward()\r\n",
        "            optimizer.step()\r\n",
        "            loss_sum += loss.item()\r\n",
        "\r\n",
        "            predicted = model.predict(seqs,lens)\r\n",
        "            for i,p in enumerate(predicted):\r\n",
        "                acc= accuracy_score(p,targets[:,i][:len(p)].cpu()) #compute the accuracy without considering the padding\r\n",
        "                accuracy_sum += acc/len(lens) #normalize according to the number of sequences in the batch\r\n",
        "\r\n",
        "        train_loss = loss_sum/len(train_dataloader)\r\n",
        "        train_accuracy = accuracy_sum/len(train_dataloader) #normalize according to the number of batches\r\n",
        "        history[\"train_loss\"].append(train_loss)\r\n",
        "        history[\"train_accuracy\"].append(train_accuracy)\r\n",
        "\r\n",
        "\r\n",
        "        # Evaluate on the validation set.\r\n",
        "        model.eval()\r\n",
        "        all_predicted = []\r\n",
        "        all_targets = []\r\n",
        "        with torch.no_grad():\r\n",
        "            for seqs,targets, lens in val_dataloader:\r\n",
        "                # Predict the model's output on a batch.\r\n",
        "                predicted = model.predict(seqs.to(device),lens)                   \r\n",
        "                # Update the evaluation statistics.\r\n",
        "                for i,p in enumerate(predicted):\r\n",
        "                    all_predicted.append(torch.Tensor(p))\r\n",
        "                    all_targets.append(targets[0:int(lens[i]),i])\r\n",
        "                \r\n",
        "        # Compute the overall accuracy for the validation set\r\n",
        "        val_accuracy = accuracy_score(torch.cat(all_predicted),torch.cat(all_targets))\r\n",
        "        history[\"val_accuracy\"].append(val_accuracy)\r\n",
        "\r\n",
        "    \r\n",
        "        t1 = time.time()\r\n",
        "        print(f'Epoch {i_epoch}: train loss = {train_loss:.4f}, train_accuracy: {train_accuracy:.4f},val_accuracy: {val_accuracy:.4f}, time = {t1-t0:.4f}')\r\n",
        "    return history"
      ],
      "execution_count": 62,
      "outputs": []
    },
    {
      "cell_type": "code",
      "metadata": {
        "colab": {
          "base_uri": "https://localhost:8080/",
          "height": 1000
        },
        "id": "2g2st8znpGW_",
        "outputId": "cc0aeed1-89ec-4904-c0e7-6128b2ff66e7"
      },
      "source": [
        "device = torch.device(\"cuda\") if torch.cuda.is_available() else torch.device(\"cpu\")\r\n",
        "print(f\"Training device: {device}\")\r\n",
        "\r\n",
        "n_epochs = 50\r\n",
        "HIDDEN_DIM = 72\r\n",
        "LEARNING_WEIGHT = 5e-1\r\n",
        "WEIGHT_DECAY = 1e-4\r\n",
        "BATCH_SIZE = 256\r\n",
        "\r\n",
        "train_dataset = PSDataset(dict_dataset,path_train, transform_chrom,transform_diat,True, truncate = 100)\r\n",
        "validation_dataset = PSDataset(dict_dataset,path_validation, transform_chrom,transform_diat, False)\r\n",
        "\r\n",
        "train_dataloader = DataLoader(train_dataset, batch_size=BATCH_SIZE, shuffle=True,collate_fn=pad_collate)\r\n",
        "val_dataloader = DataLoader(validation_dataset, batch_size=BATCH_SIZE, shuffle=True,collate_fn=pad_collate)\r\n",
        "\r\n",
        "model = RNNCRFTagger(12,HIDDEN_DIM,len(tag_to_ix), n_layers =1)\r\n",
        "model = model.to(device)\r\n",
        "optimizer = torch.optim.SGD(model.parameters(), lr=LEARNING_WEIGHT, weight_decay=WEIGHT_DECAY)\r\n",
        "# otimizer = torch.optim.Adam(model.parameters(),lr = 0.05, weight_decay=1e-4)\r\n",
        "\r\n",
        "history = training_loop(model,optimizer,train_dataloader,val_dataloader, n_epochs)\r\n",
        "\r\n",
        "# After the final evaluation, we print more detailed evaluation statistics,\r\n",
        "plt.plot(history['train_loss'])\r\n",
        "plt.plot(history['train_accuracy'])\r\n",
        "plt.plot(history['val_accuracy'])\r\n",
        "plt.legend(['training loss', 'training accuracy', 'validation_accuracy'])"
      ],
      "execution_count": 68,
      "outputs": [
        {
          "output_type": "stream",
          "text": [
            "Training device: cuda\n",
            "Epoch 1: train loss = 3.4047, train_accuracy: 0.2288,val_accuracy: 0.2993, time = 8.0031\n",
            "Epoch 2: train loss = 3.0081, train_accuracy: 0.3040,val_accuracy: 0.4517, time = 8.0261\n",
            "Epoch 3: train loss = 2.7856, train_accuracy: 0.4274,val_accuracy: 0.3076, time = 8.0915\n",
            "Epoch 4: train loss = 2.6580, train_accuracy: 0.5217,val_accuracy: 0.3926, time = 7.9780\n",
            "Epoch 5: train loss = 2.5049, train_accuracy: 0.6051,val_accuracy: 0.5806, time = 7.9698\n",
            "Epoch 6: train loss = 2.3793, train_accuracy: 0.6372,val_accuracy: 0.7188, time = 8.0000\n",
            "Epoch 7: train loss = 2.1755, train_accuracy: 0.7073,val_accuracy: 0.7269, time = 8.0231\n",
            "Epoch 8: train loss = 1.9526, train_accuracy: 0.7410,val_accuracy: 0.7981, time = 8.0641\n",
            "Epoch 9: train loss = 1.6668, train_accuracy: 0.7932,val_accuracy: 0.8412, time = 8.0709\n",
            "Epoch 10: train loss = 1.3912, train_accuracy: 0.8255,val_accuracy: 0.8705, time = 8.0912\n",
            "Epoch 11: train loss = 1.1542, train_accuracy: 0.8468,val_accuracy: 0.8669, time = 8.1092\n",
            "Epoch 12: train loss = 0.9900, train_accuracy: 0.8449,val_accuracy: 0.8744, time = 8.0882\n",
            "Epoch 13: train loss = 0.8388, train_accuracy: 0.8490,val_accuracy: 0.8884, time = 8.0002\n",
            "Epoch 14: train loss = 0.7145, train_accuracy: 0.8619,val_accuracy: 0.8793, time = 8.0533\n",
            "Epoch 15: train loss = 0.6183, train_accuracy: 0.8721,val_accuracy: 0.8927, time = 8.0359\n",
            "Epoch 16: train loss = 0.5860, train_accuracy: 0.8685,val_accuracy: 0.8959, time = 8.0353\n",
            "Epoch 17: train loss = 0.5404, train_accuracy: 0.8779,val_accuracy: 0.8890, time = 8.1264\n",
            "Epoch 18: train loss = 0.5137, train_accuracy: 0.8749,val_accuracy: 0.8942, time = 8.8829\n",
            "Epoch 19: train loss = 0.4687, train_accuracy: 0.8856,val_accuracy: 0.8953, time = 8.0298\n",
            "Epoch 20: train loss = 0.4549, train_accuracy: 0.8830,val_accuracy: 0.9125, time = 7.9859\n",
            "Epoch 21: train loss = 0.4226, train_accuracy: 0.8938,val_accuracy: 0.9123, time = 7.9851\n",
            "Epoch 22: train loss = 0.4088, train_accuracy: 0.8919,val_accuracy: 0.9178, time = 8.1296\n",
            "Epoch 23: train loss = 0.4113, train_accuracy: 0.8900,val_accuracy: 0.8755, time = 8.0631\n",
            "Epoch 24: train loss = 0.4313, train_accuracy: 0.8936,val_accuracy: 0.9208, time = 8.0928\n",
            "Epoch 25: train loss = 0.3751, train_accuracy: 0.8947,val_accuracy: 0.9219, time = 8.1565\n",
            "Epoch 26: train loss = 0.3892, train_accuracy: 0.8894,val_accuracy: 0.9251, time = 8.2472\n",
            "Epoch 27: train loss = 0.3619, train_accuracy: 0.8974,val_accuracy: 0.8922, time = 8.0223\n",
            "Epoch 28: train loss = 0.3483, train_accuracy: 0.9016,val_accuracy: 0.9162, time = 8.0076\n",
            "Epoch 29: train loss = 0.3231, train_accuracy: 0.9047,val_accuracy: 0.9172, time = 8.0056\n",
            "Epoch 30: train loss = 0.3270, train_accuracy: 0.8988,val_accuracy: 0.9213, time = 8.0071\n",
            "Epoch 31: train loss = 0.3356, train_accuracy: 0.8917,val_accuracy: 0.9261, time = 8.0100\n",
            "Epoch 32: train loss = 0.3298, train_accuracy: 0.8934,val_accuracy: 0.9053, time = 8.0468\n",
            "Epoch 33: train loss = 0.3242, train_accuracy: 0.8936,val_accuracy: 0.9248, time = 8.1169\n",
            "Epoch 34: train loss = 0.2891, train_accuracy: 0.9080,val_accuracy: 0.9212, time = 8.0439\n",
            "Epoch 35: train loss = 0.2939, train_accuracy: 0.9055,val_accuracy: 0.9313, time = 8.0265\n",
            "Epoch 36: train loss = 0.2751, train_accuracy: 0.9129,val_accuracy: 0.9139, time = 8.0346\n",
            "Epoch 37: train loss = 0.2892, train_accuracy: 0.9074,val_accuracy: 0.9306, time = 8.1118\n",
            "Epoch 38: train loss = 0.2893, train_accuracy: 0.9010,val_accuracy: 0.9237, time = 8.0662\n",
            "Epoch 39: train loss = 0.3183, train_accuracy: 0.8940,val_accuracy: 0.9300, time = 8.0109\n",
            "Epoch 40: train loss = 0.2915, train_accuracy: 0.9037,val_accuracy: 0.8720, time = 8.0131\n",
            "Epoch 41: train loss = 0.2904, train_accuracy: 0.9073,val_accuracy: 0.9179, time = 8.0502\n",
            "Epoch 42: train loss = 0.2950, train_accuracy: 0.8936,val_accuracy: 0.9052, time = 8.0321\n",
            "Epoch 43: train loss = 0.3298, train_accuracy: 0.8855,val_accuracy: 0.8834, time = 8.0171\n",
            "Epoch 44: train loss = 0.2853, train_accuracy: 0.8973,val_accuracy: 0.9211, time = 8.0110\n",
            "Epoch 45: train loss = 0.2667, train_accuracy: 0.9034,val_accuracy: 0.9305, time = 7.9923\n",
            "Epoch 46: train loss = 0.2760, train_accuracy: 0.8964,val_accuracy: 0.9311, time = 8.0787\n",
            "Epoch 47: train loss = 0.2605, train_accuracy: 0.8993,val_accuracy: 0.9272, time = 8.0231\n",
            "Epoch 48: train loss = 0.2350, train_accuracy: 0.9137,val_accuracy: 0.9217, time = 8.0861\n",
            "Epoch 49: train loss = 0.2382, train_accuracy: 0.9134,val_accuracy: 0.9335, time = 8.0109\n",
            "Epoch 50: train loss = 0.2420, train_accuracy: 0.9057,val_accuracy: 0.9338, time = 7.9800\n"
          ],
          "name": "stdout"
        },
        {
          "output_type": "execute_result",
          "data": {
            "text/plain": [
              "<matplotlib.legend.Legend at 0x7f407e5c24a8>"
            ]
          },
          "metadata": {
            "tags": []
          },
          "execution_count": 68
        },
        {
          "output_type": "display_data",
          "data": {
            "image/png": "[encoded data removed]",
            "text/plain": [
              "<Figure size 432x288 with 1 Axes>"
            ]
          },
          "metadata": {
            "tags": [],
            "image/png": {
              "width": 372,
              "height": 248
            },
            "needs_background": "light"
          }
        }
      ]
    },
    {
      "cell_type": "code",
      "metadata": {
        "colab": {
          "base_uri": "https://localhost:8080/",
          "height": 17
        },
        "id": "tTv2BrGbvSHh",
        "outputId": "d88b4318-78e1-484a-87f4-96b9008e5c0c"
      },
      "source": [
        "torch.save(model, \"model_asap_crf100.pkl\")\r\n",
        "files.download(\"model_asap_crf100.pkl\")"
      ],
      "execution_count": 69,
      "outputs": [
        {
          "output_type": "display_data",
          "data": {
            "application/javascript": [
              "\n",
              "    async function download(id, filename, size) {\n",
              "      if (!google.colab.kernel.accessAllowed) {\n",
              "        return;\n",
              "      }\n",
              "      const div = document.createElement('div');\n",
              "      const label = document.createElement('label');\n",
              "      label.textContent = `Downloading \"${filename}\": `;\n",
              "      div.appendChild(label);\n",
              "      const progress = document.createElement('progress');\n",
              "      progress.max = size;\n",
              "      div.appendChild(progress);\n",
              "      document.body.appendChild(div);\n",
              "\n",
              "      const buffers = [];\n",
              "      let downloaded = 0;\n",
              "\n",
              "      const channel = await google.colab.kernel.comms.open(id);\n",
              "      // Send a message to notify the kernel that we're ready.\n",
              "      channel.send({})\n",
              "\n",
              "      for await (const message of channel.messages) {\n",
              "        // Send a message to notify the kernel that we're ready.\n",
              "        channel.send({})\n",
              "        if (message.buffers) {\n",
              "          for (const buffer of message.buffers) {\n",
              "            buffers.push(buffer);\n",
              "            downloaded += buffer.byteLength;\n",
              "            progress.value = downloaded;\n",
              "          }\n",
              "        }\n",
              "      }\n",
              "      const blob = new Blob(buffers, {type: 'application/binary'});\n",
              "      const a = document.createElement('a');\n",
              "      a.href = window.URL.createObjectURL(blob);\n",
              "      a.download = filename;\n",
              "      div.appendChild(a);\n",
              "      a.click();\n",
              "      div.remove();\n",
              "    }\n",
              "  "
            ],
            "text/plain": [
              "<IPython.core.display.Javascript object>"
            ]
          },
          "metadata": {
            "tags": []
          }
        },
        {
          "output_type": "display_data",
          "data": {
            "application/javascript": [
              "download(\"download_3bafc6d5-1df1-4d45-93cb-57b99f6853d1\", \"model_asap_crf100.pkl\", 63501)"
            ],
            "text/plain": [
              "<IPython.core.display.Javascript object>"
            ]
          },
          "metadata": {
            "tags": []
          }
        }
      ]
    },
    {
      "cell_type": "markdown",
      "metadata": {
        "id": "sXcmLpCKt28l"
      },
      "source": [
        "## Test on Mdata dataset"
      ]
    },
    {
      "cell_type": "code",
      "metadata": {
        "id": "BacUqgD5usGL"
      },
      "source": [
        "# load the dataset\r\n",
        "with open('/content/pitch-spelling/datasets/musedata.pkl', 'rb') as fid:\r\n",
        "     full_mdata_dict_dataset = pickle.load( fid)"
      ],
      "execution_count": 71,
      "outputs": []
    },
    {
      "cell_type": "code",
      "metadata": {
        "id": "jgaUwW2fuwg0",
        "outputId": "74101403-b4af-4d64-d279-eb685c918bb8",
        "colab": {
          "base_uri": "https://localhost:8080/"
        }
      },
      "source": [
        "mdata_paths = list(set([e[\"original_path\"] for e in full_mdata_dict_dataset ]))\r\n",
        "\r\n",
        "# # remove the symbphony No.100 from Haydn because of the enharmonic transposition\r\n",
        "# paths.remove(\"datasets\\\\opnd\\\\haydndoversyms-10004m.opnd-m\")\r\n",
        "\r\n",
        "# print(paths)\r\n",
        "print(len(mdata_paths), \"different pieces\")\r\n",
        "print(\"Average number of notes: \", np.mean([len(e[\"midi_number\"]) for e in full_mdata_dict_dataset ]))"
      ],
      "execution_count": 72,
      "outputs": [
        {
          "output_type": "stream",
          "text": [
            "216 different pieces\n",
            "Average number of notes:  858.6319771007974\n"
          ],
          "name": "stdout"
        }
      ]
    },
    {
      "cell_type": "code",
      "metadata": {
        "id": "f-Fg6gJKvNLt"
      },
      "source": [
        "mdata_dataset = PSDataset(full_mdata_dict_dataset,mdata_paths, transform_chrom,transform_diat,False)\r\n",
        "mdata_dataloader  = DataLoader(mdata_dataset,  batch_size=64, shuffle=False, collate_fn=pad_collate)"
      ],
      "execution_count": 78,
      "outputs": []
    },
    {
      "cell_type": "code",
      "metadata": {
        "id": "ml905Mtdvj-T"
      },
      "source": [
        "all_inputs = []\r\n",
        "all_outputs = []\r\n",
        "all_targets = []\r\n",
        "model.eval() # Evaluation mode (e.g. disable dropout)\r\n",
        "with torch.no_grad(): # Disable gradient tracking\r\n",
        "  for seqs, targets,lens in mdata_dataloader:\r\n",
        "    # Move data to device\r\n",
        "    seqs = seqs.to(device)\r\n",
        "\r\n",
        "    # Predict the model's output on a batch.\r\n",
        "    predicted = model.predict(seqs,lens)                   \r\n",
        "    # Update the evaluation statistics.\r\n",
        "    for i,p in enumerate(predicted):\r\n",
        "        all_inputs.append(torch.argmax(seqs[0:int(lens[i]),i,:].cpu(),1).numpy())\r\n",
        "        all_outputs.append(torch.Tensor(p))\r\n",
        "        all_targets.append(targets[0:int(lens[i]),i])"
      ],
      "execution_count": 79,
      "outputs": []
    },
    {
      "cell_type": "code",
      "metadata": {
        "id": "OsefdSHxvrWy",
        "outputId": "09a5714a-5de3-44ec-ce5b-d26d9549e056",
        "colab": {
          "base_uri": "https://localhost:8080/"
        }
      },
      "source": [
        "# Divide accuracy according to author\r\n",
        "authors = []\r\n",
        "\r\n",
        "for sequence in all_inputs:\r\n",
        "    author = [e[\"original_path\"].split(\"\\\\\")[-1][:3] for e in full_mdata_dict_dataset\r\n",
        "              if len(e[\"midi_number\"]) == len(sequence) and\r\n",
        "              list(e[\"midi_number\"]) ==list(sequence) ]\r\n",
        "    # assert len(author) == 1\r\n",
        "    authors.append(author[0])\r\n",
        "\r\n",
        "considered_authors = list(set(authors))\r\n",
        "print(considered_authors)"
      ],
      "execution_count": 82,
      "outputs": [
        {
          "output_type": "stream",
          "text": [
            "['cor', 'han', 'bac', 'bee', 'viv', 'hay', 'moz', 'tel']\n"
          ],
          "name": "stdout"
        }
      ]
    },
    {
      "cell_type": "code",
      "metadata": {
        "id": "XgNt_yG7vrfd",
        "outputId": "927d9efc-c8ed-46da-e03f-937675b85d08",
        "colab": {
          "base_uri": "https://localhost:8080/"
        }
      },
      "source": [
        "errors_per_author = {}\r\n",
        "accuracy_per_author = {}\r\n",
        "for ca in considered_authors:\r\n",
        "    # ca_inputs = torch.cat([all_inputs[i] for i,a in enumerate(authors) if a == ca])\r\n",
        "    ca_outputs = torch.cat([all_outputs[i] for i,a in enumerate(authors) if a == ca])\r\n",
        "    ca_targets = torch.cat([all_targets[i] for i,a in enumerate(authors) if a == ca])\r\n",
        "    # print(ca_inputs.shape,ca_outputs.shape,ca_targets.shape,ca_predicted_pitches.shape)\r\n",
        "    ca_acc = accuracy_score(ca_outputs,ca_targets)\r\n",
        "    accuracy_per_author[ca] = float(ca_acc)\r\n",
        "    errors_per_author[ca] = int(len(ca_targets) - sum(torch.eq(ca_outputs,ca_targets)))\r\n",
        "\r\n",
        "print(errors_per_author)\r\n",
        "print(accuracy_per_author)"
      ],
      "execution_count": 83,
      "outputs": [
        {
          "output_type": "stream",
          "text": [
            "{'cor': 39, 'han': 158, 'bac': 262, 'bee': 381, 'viv': 211, 'hay': 411, 'moz': 154, 'tel': 157}\n",
            "{'cor': 0.9984077083248275, 'han': 0.9935510204081632, 'bac': 0.9893083044276678, 'bee': 0.9844445351733149, 'viv': 0.9913867004122954, 'hay': 0.9832176398530013, 'moz': 0.993712745978607, 'tel': 0.9935918367346939}\n"
          ],
          "name": "stdout"
        }
      ]
    },
    {
      "cell_type": "code",
      "metadata": {
        "id": "J5s0d56evrje"
      },
      "source": [
        ""
      ],
      "execution_count": null,
      "outputs": []
    },
    {
      "cell_type": "code",
      "metadata": {
        "id": "cVvP1eH8vrl3"
      },
      "source": [
        ""
      ],
      "execution_count": null,
      "outputs": []
    }
  ]
}