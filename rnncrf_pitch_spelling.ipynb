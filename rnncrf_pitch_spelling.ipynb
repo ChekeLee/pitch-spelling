{
  "nbformat": 4,
  "nbformat_minor": 0,
  "metadata": {
    "colab": {
      "name": "rnncrf_pitch_spelling",
      "provenance": [],
      "authorship_tag": "ABX9TyOTDh55Hh2OWCo66dGc+SES",
      "include_colab_link": true
    },
    "kernelspec": {
      "name": "python3",
      "display_name": "Python 3"
    },
    "accelerator": "GPU"
  },
  "cells": [
    {
      "cell_type": "markdown",
      "metadata": {
        "id": "view-in-github",
        "colab_type": "text"
      },
      "source": [
        "<a href=\"https://colab.research.google.com/github/fosfrancesco/pitch-spelling/blob/main/rnncrf_pitch_spelling.ipynb\" target=\"_parent\"><img src=\"https://colab.research.google.com/assets/colab-badge.svg\" alt=\"Open In Colab\"/></a>"
      ]
    },
    {
      "cell_type": "code",
      "metadata": {
        "colab": {
          "base_uri": "https://localhost:8080/"
        },
        "id": "fifMg_hxNSOg",
        "outputId": "a8b320f9-4231-40d9-8f10-a7b8acd1da37"
      },
      "source": [
        "! pip install --upgrade pytorch-crf"
      ],
      "execution_count": 1,
      "outputs": [
        {
          "output_type": "stream",
          "text": [
            "Collecting pytorch-crf\n",
            "  Downloading https://files.pythonhosted.org/packages/96/7d/4c4688e26ea015fc118a0327e5726e6596836abce9182d3738be8ec2e32a/pytorch_crf-0.7.2-py3-none-any.whl\n",
            "Installing collected packages: pytorch-crf\n",
            "Successfully installed pytorch-crf-0.7.2\n"
          ],
          "name": "stdout"
        }
      ]
    },
    {
      "cell_type": "code",
      "metadata": {
        "id": "hsciybUBNkur"
      },
      "source": [
        "import music21 as m21\r\n",
        "import matplotlib.pyplot as plt\r\n",
        "import sklearn\r\n",
        "import sklearn.model_selection\r\n",
        "import pickle\r\n",
        "from google.colab import files\r\n",
        "\r\n",
        "from pathlib import Path\r\n",
        "import json\r\n",
        "import matplotlib.pyplot as plt\r\n",
        "import numpy as np\r\n",
        "import sklearn.model_selection\r\n",
        "import sklearn\r\n",
        "import music21 as m21\r\n",
        "from collections import Counter\r\n",
        "\r\n",
        "import torch\r\n",
        "import torch.nn as nn\r\n",
        "from torchvision import transforms\r\n",
        "from torch.utils.data import Dataset, DataLoader\r\n",
        "from torch.utils.data import random_split\r\n",
        "from torch.nn.utils.rnn import pad_sequence\r\n",
        "from torchcrf import CRF\r\n",
        "import torchtext\r\n",
        "from sklearn.metrics import confusion_matrix\r\n",
        "from sklearn.metrics import accuracy_score\r\n",
        "\r\n",
        "from tqdm import tqdm, tqdm_notebook, notebook\r\n",
        "from google.colab import files\r\n",
        "import pickle\r\n",
        "\r\n",
        "from sklearn.metrics import accuracy_score\r\n",
        "\r\n",
        "import time\r\n",
        "\r\n",
        "from collections import defaultdict, Counter\r\n",
        "# import optuna"
      ],
      "execution_count": 2,
      "outputs": []
    },
    {
      "cell_type": "markdown",
      "metadata": {
        "id": "Naq6UG5jRbyK"
      },
      "source": [
        "# RNN-CRF for Pitch Spelling\r\n",
        "\r\n",
        "Dataset: different authors from ASAP collection\r\n",
        "Challenges:\r\n",
        "- extremely long sequences\r\n",
        "- small dataset"
      ]
    },
    {
      "cell_type": "code",
      "metadata": {
        "colab": {
          "base_uri": "https://localhost:8080/"
        },
        "id": "2mHJvrZ2Wo_e",
        "outputId": "1319f78b-cfb1-4e2a-937c-c47cf952757c"
      },
      "source": [
        "pitches_dict = {\r\n",
        "    0 : [\"C\",\"B#\",\"D--\"], # nn.Linear(input_size+context_size, 3)\r\n",
        "    1 : [\"C#\",\"B##\",\"D-\"], # nn.Linear(input_size+context_size, 2)\r\n",
        "    2 : [\"D\",\"C##\",\"E--\"], # nn.Linear(input_size+context_size, 3)\r\n",
        "    3 : [\"D#\",\"E-\",\"F--\"],\r\n",
        "    4 : [\"E\",\"D##\",\"F-\"],\r\n",
        "    5 : [\"F\",\"E#\",\"G--\"],\r\n",
        "    6 : [\"F#\",\"E##\",\"G-\"],\r\n",
        "    7 : [\"G\",\"F##\",\"A--\"],\r\n",
        "    8 : [\"G#\",\"A-\"],\r\n",
        "    9 : [\"A\",\"G##\",\"B--\"],\r\n",
        "    10 : [\"A#\",\"B-\",\"C--\"],\r\n",
        "    11 : [\"B\",\"A##\",\"C-\"]\r\n",
        "}\r\n",
        "\r\n",
        "accepted_pitches = [ii for i in pitches_dict.values() for ii in i]\r\n",
        "print([e for e in enumerate(accepted_pitches)])\r\n",
        "\r\n",
        "double_acc_pitches = [ii for i in pitches_dict.values() for ii in i if ii.endswith(\"##\") or  ii.endswith(\"--\") ]\r\n",
        "print(double_acc_pitches)\r\n",
        "\r\n",
        "def score2midi_numbers(score):\r\n",
        "  return [p.midi%12 for n in score.flat.notes for p in n.pitches]\r\n",
        "\r\n",
        "def score2pitches(score):\r\n",
        "  return [p.name for n in score.flat.notes for p in n.pitches]\r\n",
        "\r\n",
        "interval_dict = {\r\n",
        "    0 : [\"P1\",\"d2\",\"A7\"], \r\n",
        "    1 : [\"m2\",\"A1\"], \r\n",
        "    2 : [\"M2\",\"d3\",\"AA1\"], \r\n",
        "    3 : [\"m3\",\"A2\"],\r\n",
        "    4 : [\"M3\",\"d4\",\"AA2\"],\r\n",
        "    5 : [\"P4\",\"A3\"],\r\n",
        "    6 : [\"d5\",\"A4\"],\r\n",
        "    7 : [\"P5\",\"d6\",\"AA4\"],\r\n",
        "    8 : [\"m6\",\"A5\"],\r\n",
        "    9 : [\"M6\",\"d7\",\"AA5\"],\r\n",
        "    10 : [\"m7\",\"A6\"],\r\n",
        "    11 : [\"M7\",\"d1\",\"AA6\"]\r\n",
        "}\r\n",
        "\r\n",
        "accepted_intervals = [ii for i in interval_dict.values() for ii in i]\r\n",
        "print([e for e in enumerate(accepted_intervals)])\r\n",
        "\r\n",
        "def transp_score(score):\r\n",
        "    \"\"\" For each input return len(accepted_intervals) transposed scores\"\"\"\r\n",
        "    return [score.transpose(interval) for interval in accepted_intervals]\r\n",
        "\r\n",
        "def smart_transp_score(score):\r\n",
        "    \"\"\" For each chromatic interval chose the interval that lead to the smallest number of accidentals\"\"\"\r\n",
        "    scores = []\r\n",
        "    for chromatic_int in interval_dict.keys():\r\n",
        "        temp_scores = []\r\n",
        "        temp_acc_number = []\r\n",
        "        for diat_interval in interval_dict[chromatic_int]:\r\n",
        "            new_score = score.transpose(diat_interval)\r\n",
        "            temp_scores.append(new_score)\r\n",
        "            temp_acc_number.append(sum([pitch.count(\"#\") + pitch.count(\"-\") for pitch in score2pitches(new_score)]))\r\n",
        "            # print(\"choice:\", [note.name for note in temp_scores[-1].flat.notes][0:10],\"acc:\",temp_acc_number[-1] )\r\n",
        "        #keep only the one with the lowest number of accidentals\r\n",
        "        min_index = np.argmin(temp_acc_number)\r\n",
        "        # print(\"preferred the number\", min_index)\r\n",
        "        scores.append(temp_scores[min_index])\r\n",
        "    return scores\r\n",
        "\r\n",
        "def acc_simple_enough(score,accepted_ratio = 0.2 ):\r\n",
        "    pitches = score2pitches(score)\r\n",
        "    double_acc = sum(el in double_acc_pitches for el in pitches)\r\n",
        "    if double_acc/len(pitches) < accepted_ratio:\r\n",
        "        return True\r\n",
        "    else:\r\n",
        "        return False\r\n",
        "\r\n",
        "def argmax(vec):\r\n",
        "    # return the argmax as a python int\r\n",
        "    _, idx = torch.max(vec, 1)\r\n",
        "    return idx.item()\r\n",
        "\r\n",
        "\r\n",
        "# Compute log sum exp in a numerically stable way for the forward algorithm\r\n",
        "def log_sum_exp(vec):\r\n",
        "    max_score = vec[0, argmax(vec)]\r\n",
        "    max_score_broadcast = max_score.view(1, -1).expand(1, vec.size()[1])\r\n",
        "    return max_score + \\\r\n",
        "        torch.log(torch.sum(torch.exp(vec - max_score_broadcast)))\r\n",
        "\r\n",
        "\r\n",
        "diatonic_pitches = [\"C\",\"D\", \"E\", \"F\", \"G\", \"A\", \"B\"]\r\n",
        "\r\n",
        "# #test acc_simple_enough()\r\n",
        "# score = m21.converter.parse(paths[356])\r\n",
        "# scores = smart_transp_score(score)\r\n",
        "# #delete the pieces with non accepted pitches (e.g. triple sharps)\r\n",
        "# scores = [s for s in scores if all(pitch in accepted_pitches for pitch in score2pitches(s))]\r\n",
        "# for s in scores:\r\n",
        "#     print(s.parts[0].flat.getElementsByClass(m21.key.KeySignature)[0], \"simple enough:\", acc_simple_enough(s))\r\n",
        "#     print([n.name for n in s.flat.notes])"
      ],
      "execution_count": 8,
      "outputs": [
        {
          "output_type": "stream",
          "text": [
            "[(0, 'C'), (1, 'B#'), (2, 'D--'), (3, 'C#'), (4, 'B##'), (5, 'D-'), (6, 'D'), (7, 'C##'), (8, 'E--'), (9, 'D#'), (10, 'E-'), (11, 'F--'), (12, 'E'), (13, 'D##'), (14, 'F-'), (15, 'F'), (16, 'E#'), (17, 'G--'), (18, 'F#'), (19, 'E##'), (20, 'G-'), (21, 'G'), (22, 'F##'), (23, 'A--'), (24, 'G#'), (25, 'A-'), (26, 'A'), (27, 'G##'), (28, 'B--'), (29, 'A#'), (30, 'B-'), (31, 'C--'), (32, 'B'), (33, 'A##'), (34, 'C-')]\n",
            "['D--', 'B##', 'C##', 'E--', 'F--', 'D##', 'G--', 'E##', 'F##', 'A--', 'G##', 'B--', 'C--', 'A##']\n",
            "[(0, 'P1'), (1, 'd2'), (2, 'A7'), (3, 'm2'), (4, 'A1'), (5, 'M2'), (6, 'd3'), (7, 'AA1'), (8, 'm3'), (9, 'A2'), (10, 'M3'), (11, 'd4'), (12, 'AA2'), (13, 'P4'), (14, 'A3'), (15, 'd5'), (16, 'A4'), (17, 'P5'), (18, 'd6'), (19, 'AA4'), (20, 'm6'), (21, 'A5'), (22, 'M6'), (23, 'd7'), (24, 'AA5'), (25, 'm7'), (26, 'A6'), (27, 'M7'), (28, 'd1'), (29, 'AA6')]\n"
          ],
          "name": "stdout"
        }
      ]
    },
    {
      "cell_type": "markdown",
      "metadata": {
        "id": "gw-SuL4ZB_2C"
      },
      "source": [
        "## Import ASAP dataset"
      ]
    },
    {
      "cell_type": "code",
      "metadata": {
        "colab": {
          "base_uri": "https://localhost:8080/"
        },
        "id": "CrZ0BwLEj2Gp",
        "outputId": "6b521f78-28db-4d4f-f4ef-9345c5d91db9"
      },
      "source": [
        "!git clone https://github.com/fosfrancesco/pitch-spelling.git"
      ],
      "execution_count": 3,
      "outputs": [
        {
          "output_type": "stream",
          "text": [
            "Cloning into 'pitch-spelling'...\n",
            "remote: Enumerating objects: 42, done.\u001b[K\n",
            "remote: Counting objects: 100% (42/42), done.\u001b[K\n",
            "remote: Compressing objects: 100% (39/39), done.\u001b[K\n",
            "remote: Total 42 (delta 16), reused 14 (delta 2), pack-reused 0\u001b[K\n",
            "Unpacking objects: 100% (42/42), done.\n",
            "Checking out files: 100% (11/11), done.\n"
          ],
          "name": "stdout"
        }
      ]
    },
    {
      "cell_type": "code",
      "metadata": {
        "id": "WaINjDS2kpxE"
      },
      "source": [
        "basepath = \"/content/pitch-spelling\" #to change if running locally\r\n",
        "\r\n",
        "# load the asap datasets\r\n",
        "with open(Path(basepath,'datasets','baroque_asap.pkl'), 'rb') as fid:\r\n",
        "     dataset_baroque = pickle.load( fid)\r\n",
        "\r\n",
        "with open(Path(basepath,'datasets','classical_asap.pkl'), 'rb') as fid:\r\n",
        "     dataset_classical = pickle.load( fid)\r\n",
        "\r\n",
        "with open(Path(basepath,'datasets','romantic_asap.pkl'), 'rb') as fid:\r\n",
        "     dataset_romantic = pickle.load( fid)\r\n",
        "\r\n",
        "# merge the two files together\r\n",
        "full_dict_dataset = dataset_baroque + dataset_classical + dataset_romantic\r\n",
        "# full_dict_dataset = dataset_baroque + dataset_classical"
      ],
      "execution_count": 4,
      "outputs": []
    },
    {
      "cell_type": "code",
      "metadata": {
        "colab": {
          "base_uri": "https://localhost:8080/"
        },
        "id": "pYQdkJAiTS6_",
        "outputId": "72835948-2884-40bb-e5b4-6ebbc8488895"
      },
      "source": [
        "paths = list(set([e[\"original_path\"] for e in full_dict_dataset ]))\r\n",
        "\r\n",
        "# print(paths)\r\n",
        "print(len(paths), \"different pieces\")\r\n",
        "print(\"Average number of notes: \", np.mean([len(e[\"midi_number\"]) for e in full_dict_dataset ]))\r\n"
      ],
      "execution_count": 5,
      "outputs": [
        {
          "output_type": "stream",
          "text": [
            "191 different pieces\n",
            "Average number of notes:  2219.6285387474977\n"
          ],
          "name": "stdout"
        }
      ]
    },
    {
      "cell_type": "markdown",
      "metadata": {
        "id": "IMdKkzNnCTrK"
      },
      "source": [
        "## Chose the convenient data augmentation\r\n",
        "Two possibilities:\r\n",
        "- for each chromatic interval, take only the diatonic transposition that produce the smallest number of accidentals (or the original if present)\r\n",
        "- take only a certain interval of time signatures\r\n",
        "\r\n",
        "The second is probably better for a smaller and simple dataset, but gives the problem of chosing between for example F# and G# that are both present in this bigger dataset. So we go for the first criterion."
      ]
    },
    {
      "cell_type": "code",
      "metadata": {
        "id": "Oign7EZ9BSX4",
        "colab": {
          "base_uri": "https://localhost:8080/"
        },
        "outputId": "9aa3f694-289a-43fd-fd14-9cad3b8dd3b7"
      },
      "source": [
        "# choose only one enharmonic version for each chromatic interval for each piece\r\n",
        "dict_dataset = []\r\n",
        "for path in paths:\r\n",
        "    for c in range(12):\r\n",
        "        pieces_to_consider = [opus for opus in full_dict_dataset \r\n",
        "                              if (opus[\"original_path\"] == path and opus[\"transposed_of\"] in interval_dict[c])  ]\r\n",
        "        # if the original is in pieces_to_consider, go with the original\r\n",
        "        originals = [opus for opus in pieces_to_consider if opus[\"transposed_of\"] == \"P1\"]\r\n",
        "        if len(originals) == 1:\r\n",
        "            dict_dataset.append(originals[0])\r\n",
        "        else: #we go with the accidental minization criteria\r\n",
        "            n_accidentals = [sum([pitch.count(\"#\") + pitch.count(\"-\") for pitch in opus[\"pitches\"]]) \r\n",
        "                            for opus in pieces_to_consider]\r\n",
        "            if len(pieces_to_consider)>0:\r\n",
        "                dict_dataset.append(pieces_to_consider[np.argmin(n_accidentals)])\r\n",
        "            else:\r\n",
        "                print(\"No options for\", path, \". Chromatic: \",c )\r\n",
        "\r\n",
        "# accepted_ks = range(-5,6)\r\n",
        "# dict_dataset = [e for e in full_dict_dataset if e[\"key_signature\"] in accepted_ks]\r\n",
        "\r\n",
        "#test if it worked\r\n",
        "for i,e in enumerate(dict_dataset):\r\n",
        "    print(e[\"original_path\"], e[\"transposed_of\"], e[\"key_signature\"])\r\n",
        "    print(e[\"pitches\"][:10])\r\n",
        "    print(e[\"midi_number\"][:10])\r\n",
        "    if i == 100:\r\n",
        "        break"
      ],
      "execution_count": 9,
      "outputs": [
        {
          "output_type": "stream",
          "text": [
            "No options for Chopin/Sonata_2/1st_no_repeat/xml_score.musicxml . Chromatic:  1\n",
            "No options for Chopin/Sonata_2/2nd/xml_score.musicxml . Chromatic:  4\n",
            "No options for Chopin/Sonata_2/2nd/xml_score.musicxml . Chromatic:  6\n",
            "No options for Chopin/Sonata_2/2nd/xml_score.musicxml . Chromatic:  9\n",
            "No options for Chopin/Sonata_2/2nd/xml_score.musicxml . Chromatic:  11\n",
            "No options for Chopin/Etudes_op_25/10/xml_score.musicxml . Chromatic:  4\n",
            "No options for Chopin/Etudes_op_25/10/xml_score.musicxml . Chromatic:  9\n",
            "No options for Chopin/Etudes_op_10/4/xml_score.musicxml . Chromatic:  4\n",
            "No options for Chopin/Etudes_op_10/4/xml_score.musicxml . Chromatic:  9\n",
            "No options for Schubert/Wanderer_fantasie/xml_score.musicxml . Chromatic:  1\n",
            "No options for Schubert/Wanderer_fantasie/xml_score.musicxml . Chromatic:  4\n",
            "No options for Schubert/Wanderer_fantasie/xml_score.musicxml . Chromatic:  6\n",
            "No options for Schubert/Wanderer_fantasie/xml_score.musicxml . Chromatic:  9\n",
            "No options for Schubert/Wanderer_fantasie/xml_score.musicxml . Chromatic:  11\n",
            "No options for Chopin/Sonata_3/4th/xml_score.musicxml . Chromatic:  1\n",
            "No options for Chopin/Sonata_3/4th/xml_score.musicxml . Chromatic:  3\n",
            "No options for Chopin/Sonata_3/4th/xml_score.musicxml . Chromatic:  6\n",
            "No options for Chopin/Sonata_3/4th/xml_score.musicxml . Chromatic:  8\n",
            "No options for Chopin/Sonata_3/4th/xml_score.musicxml . Chromatic:  10\n",
            "No options for Chopin/Sonata_3/4th/xml_score.musicxml . Chromatic:  11\n",
            "No options for Chopin/Ballades/4/xml_score.musicxml . Chromatic:  6\n",
            "Haydn/Keyboard_Sonatas/48-2/xml_score.musicxml P1 0\n",
            "['G', 'G', 'A', 'G', 'C', 'E', 'F', 'E', 'E', 'D']\n",
            "[7, 7, 9, 7, 0, 4, 5, 4, 4, 2]\n",
            "Haydn/Keyboard_Sonatas/48-2/xml_score.musicxml m2 -5\n",
            "['A-', 'A-', 'B-', 'A-', 'D-', 'F', 'G-', 'F', 'F', 'E-']\n",
            "[8, 8, 10, 8, 1, 5, 6, 5, 5, 3]\n",
            "Haydn/Keyboard_Sonatas/48-2/xml_score.musicxml M2 2\n",
            "['A', 'A', 'B', 'A', 'D', 'F#', 'G', 'F#', 'F#', 'E']\n",
            "[9, 9, 11, 9, 2, 6, 7, 6, 6, 4]\n",
            "Haydn/Keyboard_Sonatas/48-2/xml_score.musicxml m3 -3\n",
            "['B-', 'B-', 'C', 'B-', 'E-', 'G', 'A-', 'G', 'G', 'F']\n",
            "[10, 10, 0, 10, 3, 7, 8, 7, 7, 5]\n",
            "Haydn/Keyboard_Sonatas/48-2/xml_score.musicxml M3 4\n",
            "['B', 'B', 'C#', 'B', 'E', 'G#', 'A', 'G#', 'G#', 'F#']\n",
            "[11, 11, 1, 11, 4, 8, 9, 8, 8, 6]\n",
            "Haydn/Keyboard_Sonatas/48-2/xml_score.musicxml P4 -1\n",
            "['C', 'C', 'D', 'C', 'F', 'A', 'B-', 'A', 'A', 'G']\n",
            "[0, 0, 2, 0, 5, 9, 10, 9, 9, 7]\n",
            "Haydn/Keyboard_Sonatas/48-2/xml_score.musicxml A4 6\n",
            "['C#', 'C#', 'D#', 'C#', 'F#', 'A#', 'B', 'A#', 'A#', 'G#']\n",
            "[1, 1, 3, 1, 6, 10, 11, 10, 10, 8]\n",
            "Haydn/Keyboard_Sonatas/48-2/xml_score.musicxml P5 1\n",
            "['D', 'D', 'E', 'D', 'G', 'B', 'C', 'B', 'B', 'A']\n",
            "[2, 2, 4, 2, 7, 11, 0, 11, 11, 9]\n",
            "Haydn/Keyboard_Sonatas/48-2/xml_score.musicxml m6 -4\n",
            "['E-', 'E-', 'F', 'E-', 'A-', 'C', 'D-', 'C', 'C', 'B-']\n",
            "[3, 3, 5, 3, 8, 0, 1, 0, 0, 10]\n",
            "Haydn/Keyboard_Sonatas/48-2/xml_score.musicxml M6 3\n",
            "['E', 'E', 'F#', 'E', 'A', 'C#', 'D', 'C#', 'C#', 'B']\n",
            "[4, 4, 6, 4, 9, 1, 2, 1, 1, 11]\n",
            "Haydn/Keyboard_Sonatas/48-2/xml_score.musicxml m7 -2\n",
            "['F', 'F', 'G', 'F', 'B-', 'D', 'E-', 'D', 'D', 'C']\n",
            "[5, 5, 7, 5, 10, 2, 3, 2, 2, 0]\n",
            "Haydn/Keyboard_Sonatas/48-2/xml_score.musicxml M7 5\n",
            "['F#', 'F#', 'G#', 'F#', 'B', 'D#', 'E', 'D#', 'D#', 'C#']\n",
            "[6, 6, 8, 6, 11, 3, 4, 3, 3, 1]\n",
            "Chopin/Sonata_2/1st_no_repeat/xml_score.musicxml P1 -5\n",
            "['D-', 'D-', 'E', 'E', 'E', 'E', 'C#', 'G#', 'C#', 'D-']\n",
            "[1, 1, 4, 4, 4, 4, 1, 8, 1, 1]\n",
            "Chopin/Sonata_2/1st_no_repeat/xml_score.musicxml M2 -3\n",
            "['E-', 'E-', 'F#', 'F#', 'F#', 'F#', 'D#', 'A#', 'D#', 'E-']\n",
            "[3, 3, 6, 6, 6, 6, 3, 10, 3, 3]\n",
            "Chopin/Sonata_2/1st_no_repeat/xml_score.musicxml m3 -8\n",
            "['F-', 'F-', 'G', 'G', 'G', 'G', 'E', 'B', 'E', 'F-']\n",
            "[4, 4, 7, 7, 7, 7, 4, 11, 4, 4]\n",
            "Chopin/Sonata_2/1st_no_repeat/xml_score.musicxml M3 -1\n",
            "['F', 'F', 'G#', 'G#', 'G#', 'G#', 'E#', 'B#', 'E#', 'F']\n",
            "[5, 5, 8, 8, 8, 8, 5, 0, 5, 5]\n",
            "Chopin/Sonata_2/1st_no_repeat/xml_score.musicxml P4 -6\n",
            "['G-', 'G-', 'A', 'A', 'A', 'A', 'F#', 'C#', 'F#', 'G-']\n",
            "[6, 6, 9, 9, 9, 9, 6, 1, 6, 6]\n",
            "Chopin/Sonata_2/1st_no_repeat/xml_score.musicxml A4 1\n",
            "['G', 'G', 'A#', 'A#', 'A#', 'A#', 'F##', 'C##', 'F##', 'G']\n",
            "[7, 7, 10, 10, 10, 10, 7, 2, 7, 7]\n",
            "Chopin/Sonata_2/1st_no_repeat/xml_score.musicxml P5 -4\n",
            "['A-', 'A-', 'B', 'B', 'B', 'B', 'G#', 'D#', 'G#', 'A-']\n",
            "[8, 8, 11, 11, 11, 11, 8, 3, 8, 8]\n",
            "Chopin/Sonata_2/1st_no_repeat/xml_score.musicxml m6 -9\n",
            "['B--', 'B--', 'C', 'C', 'C', 'C', 'A', 'E', 'A', 'B--']\n",
            "[9, 9, 0, 0, 0, 0, 9, 4, 9, 9]\n",
            "Chopin/Sonata_2/1st_no_repeat/xml_score.musicxml M6 -2\n",
            "['B-', 'B-', 'C#', 'C#', 'C#', 'C#', 'A#', 'E#', 'A#', 'B-']\n",
            "[10, 10, 1, 1, 1, 1, 10, 5, 10, 10]\n",
            "Chopin/Sonata_2/1st_no_repeat/xml_score.musicxml m7 -7\n",
            "['C-', 'C-', 'D', 'D', 'D', 'D', 'B', 'F#', 'B', 'C-']\n",
            "[11, 11, 2, 2, 2, 2, 11, 6, 11, 11]\n",
            "Chopin/Sonata_2/1st_no_repeat/xml_score.musicxml M7 0\n",
            "['C', 'C', 'D#', 'D#', 'D#', 'D#', 'B#', 'F##', 'B#', 'C']\n",
            "[0, 0, 3, 3, 3, 3, 0, 7, 0, 0]\n",
            "Bach/Fugue/bwv_883/xml_score.musicxml P1 3\n",
            "['C#', 'A', 'F#', 'D', 'D', 'C#', 'B', 'C#', 'C#', 'F#']\n",
            "[1, 9, 6, 2, 2, 1, 11, 1, 1, 6]\n",
            "Bach/Fugue/bwv_883/xml_score.musicxml m2 -2\n",
            "['D', 'B-', 'G', 'E-', 'E-', 'D', 'C', 'D', 'D', 'G']\n",
            "[2, 10, 7, 3, 3, 2, 0, 2, 2, 7]\n",
            "Bach/Fugue/bwv_883/xml_score.musicxml M2 5\n",
            "['D#', 'B', 'G#', 'E', 'E', 'D#', 'C#', 'D#', 'D#', 'G#']\n",
            "[3, 11, 8, 4, 4, 3, 1, 3, 3, 8]\n",
            "Bach/Fugue/bwv_883/xml_score.musicxml m3 0\n",
            "['E', 'C', 'A', 'F', 'F', 'E', 'D', 'E', 'E', 'A']\n",
            "[4, 0, 9, 5, 5, 4, 2, 4, 4, 9]\n",
            "Bach/Fugue/bwv_883/xml_score.musicxml d4 -5\n",
            "['F', 'D-', 'B-', 'G-', 'G-', 'F', 'E-', 'F', 'F', 'B-']\n",
            "[5, 1, 10, 6, 6, 5, 3, 5, 5, 10]\n",
            "Bach/Fugue/bwv_883/xml_score.musicxml P4 2\n",
            "['F#', 'D', 'B', 'G', 'G', 'F#', 'E', 'F#', 'F#', 'B']\n",
            "[6, 2, 11, 7, 7, 6, 4, 6, 6, 11]\n",
            "Bach/Fugue/bwv_883/xml_score.musicxml d5 -3\n",
            "['G', 'E-', 'C', 'A-', 'A-', 'G', 'F', 'G', 'G', 'C']\n",
            "[7, 3, 0, 8, 8, 7, 5, 7, 7, 0]\n",
            "Bach/Fugue/bwv_883/xml_score.musicxml P5 4\n",
            "['G#', 'E', 'C#', 'A', 'A', 'G#', 'F#', 'G#', 'G#', 'C#']\n",
            "[8, 4, 1, 9, 9, 8, 6, 8, 8, 1]\n",
            "Bach/Fugue/bwv_883/xml_score.musicxml m6 -1\n",
            "['A', 'F', 'D', 'B-', 'B-', 'A', 'G', 'A', 'A', 'D']\n",
            "[9, 5, 2, 10, 10, 9, 7, 9, 9, 2]\n",
            "Bach/Fugue/bwv_883/xml_score.musicxml d7 -6\n",
            "['B-', 'G-', 'E-', 'C-', 'C-', 'B-', 'A-', 'B-', 'B-', 'E-']\n",
            "[10, 6, 3, 11, 11, 10, 8, 10, 10, 3]\n",
            "Bach/Fugue/bwv_883/xml_score.musicxml m7 1\n",
            "['B', 'G', 'E', 'C', 'C', 'B', 'A', 'B', 'B', 'E']\n",
            "[11, 7, 4, 0, 0, 11, 9, 11, 11, 4]\n",
            "Bach/Fugue/bwv_883/xml_score.musicxml d1 -4\n",
            "['C', 'A-', 'F', 'D-', 'D-', 'C', 'B-', 'C', 'C', 'F']\n",
            "[0, 8, 5, 1, 1, 0, 10, 0, 0, 5]\n",
            "Bach/Prelude/bwv_885/xml_score.musicxml P1 -2\n",
            "['G', 'G', 'D', 'F', 'E-', 'B-', 'A', 'C', 'E-', 'F#']\n",
            "[7, 7, 2, 5, 3, 10, 9, 0, 3, 6]\n",
            "Bach/Prelude/bwv_885/xml_score.musicxml A1 5\n",
            "['G#', 'G#', 'D#', 'F#', 'E', 'B', 'A#', 'C#', 'E', 'F##']\n",
            "[8, 8, 3, 6, 4, 11, 10, 1, 4, 7]\n",
            "Bach/Prelude/bwv_885/xml_score.musicxml M2 0\n",
            "['A', 'A', 'E', 'G', 'F', 'C', 'B', 'D', 'F', 'G#']\n",
            "[9, 9, 4, 7, 5, 0, 11, 2, 5, 8]\n",
            "Bach/Prelude/bwv_885/xml_score.musicxml m3 -5\n",
            "['B-', 'B-', 'F', 'A-', 'G-', 'D-', 'C', 'E-', 'G-', 'A']\n",
            "[10, 10, 5, 8, 6, 1, 0, 3, 6, 9]\n",
            "Bach/Prelude/bwv_885/xml_score.musicxml M3 2\n",
            "['B', 'B', 'F#', 'A', 'G', 'D', 'C#', 'E', 'G', 'A#']\n",
            "[11, 11, 6, 9, 7, 2, 1, 4, 7, 10]\n",
            "Bach/Prelude/bwv_885/xml_score.musicxml P4 -3\n",
            "['C', 'C', 'G', 'B-', 'A-', 'E-', 'D', 'F', 'A-', 'B']\n",
            "[0, 0, 7, 10, 8, 3, 2, 5, 8, 11]\n",
            "Bach/Prelude/bwv_885/xml_score.musicxml A4 4\n",
            "['C#', 'C#', 'G#', 'B', 'A', 'E', 'D#', 'F#', 'A', 'B#']\n",
            "[1, 1, 8, 11, 9, 4, 3, 6, 9, 0]\n",
            "Bach/Prelude/bwv_885/xml_score.musicxml P5 -1\n",
            "['D', 'D', 'A', 'C', 'B-', 'F', 'E', 'G', 'B-', 'C#']\n",
            "[2, 2, 9, 0, 10, 5, 4, 7, 10, 1]\n",
            "Bach/Prelude/bwv_885/xml_score.musicxml m6 -6\n",
            "['E-', 'E-', 'B-', 'D-', 'C-', 'G-', 'F', 'A-', 'C-', 'D']\n",
            "[3, 3, 10, 1, 11, 6, 5, 8, 11, 2]\n",
            "Bach/Prelude/bwv_885/xml_score.musicxml M6 1\n",
            "['E', 'E', 'B', 'D', 'C', 'G', 'F#', 'A', 'C', 'D#']\n",
            "[4, 4, 11, 2, 0, 7, 6, 9, 0, 3]\n",
            "Bach/Prelude/bwv_885/xml_score.musicxml m7 -4\n",
            "['F', 'F', 'C', 'E-', 'D-', 'A-', 'G', 'B-', 'D-', 'E']\n",
            "[5, 5, 0, 3, 1, 8, 7, 10, 1, 4]\n",
            "Bach/Prelude/bwv_885/xml_score.musicxml M7 3\n",
            "['F#', 'F#', 'C#', 'E', 'D', 'A', 'G#', 'B', 'D', 'E#']\n",
            "[6, 6, 1, 4, 2, 9, 8, 11, 2, 5]\n",
            "Beethoven/Piano_Sonatas/17-1/xml_score.musicxml P1 -1\n",
            "['C#', 'E', 'A', 'C#', 'E', 'A', 'C#', 'E', 'A', 'C#']\n",
            "[1, 4, 9, 1, 4, 9, 1, 4, 9, 1]\n",
            "Beethoven/Piano_Sonatas/17-1/xml_score.musicxml m2 -6\n",
            "['D', 'F', 'B-', 'D', 'F', 'B-', 'D', 'F', 'B-', 'D']\n",
            "[2, 5, 10, 2, 5, 10, 2, 5, 10, 2]\n",
            "Beethoven/Piano_Sonatas/17-1/xml_score.musicxml M2 1\n",
            "['D#', 'F#', 'B', 'D#', 'F#', 'B', 'D#', 'F#', 'B', 'D#']\n",
            "[3, 6, 11, 3, 6, 11, 3, 6, 11, 3]\n",
            "Beethoven/Piano_Sonatas/17-1/xml_score.musicxml m3 -4\n",
            "['E', 'G', 'C', 'E', 'G', 'C', 'E', 'G', 'C', 'E']\n",
            "[4, 7, 0, 4, 7, 0, 4, 7, 0, 4]\n",
            "Beethoven/Piano_Sonatas/17-1/xml_score.musicxml M3 3\n",
            "['E#', 'G#', 'C#', 'E#', 'G#', 'C#', 'E#', 'G#', 'C#', 'E#']\n",
            "[5, 8, 1, 5, 8, 1, 5, 8, 1, 5]\n",
            "Beethoven/Piano_Sonatas/17-1/xml_score.musicxml P4 -2\n",
            "['F#', 'A', 'D', 'F#', 'A', 'D', 'F#', 'A', 'D', 'F#']\n",
            "[6, 9, 2, 6, 9, 2, 6, 9, 2, 6]\n",
            "Beethoven/Piano_Sonatas/17-1/xml_score.musicxml d5 -7\n",
            "['G', 'B-', 'E-', 'G', 'B-', 'E-', 'G', 'B-', 'E-', 'G']\n",
            "[7, 10, 3, 7, 10, 3, 7, 10, 3, 7]\n",
            "Beethoven/Piano_Sonatas/17-1/xml_score.musicxml P5 0\n",
            "['G#', 'B', 'E', 'G#', 'B', 'E', 'G#', 'B', 'E', 'G#']\n",
            "[8, 11, 4, 8, 11, 4, 8, 11, 4, 8]\n",
            "Beethoven/Piano_Sonatas/17-1/xml_score.musicxml m6 -5\n",
            "['A', 'C', 'F', 'A', 'C', 'F', 'A', 'C', 'F', 'A']\n",
            "[9, 0, 5, 9, 0, 5, 9, 0, 5, 9]\n",
            "Beethoven/Piano_Sonatas/17-1/xml_score.musicxml M6 2\n",
            "['A#', 'C#', 'F#', 'A#', 'C#', 'F#', 'A#', 'C#', 'F#', 'A#']\n",
            "[10, 1, 6, 10, 1, 6, 10, 1, 6, 10]\n",
            "Beethoven/Piano_Sonatas/17-1/xml_score.musicxml m7 -3\n",
            "['B', 'D', 'G', 'B', 'D', 'G', 'B', 'D', 'G', 'B']\n",
            "[11, 2, 7, 11, 2, 7, 11, 2, 7, 11]\n",
            "Beethoven/Piano_Sonatas/17-1/xml_score.musicxml d1 -8\n",
            "['C', 'E-', 'A-', 'C', 'E-', 'A-', 'C', 'E-', 'A-', 'C']\n",
            "[0, 3, 8, 0, 3, 8, 0, 3, 8, 0]\n",
            "Beethoven/Piano_Sonatas/22-2/xml_score.musicxml P1 -1\n",
            "['F', 'A', 'C', 'F', 'G', 'E', 'A', 'F', 'B-', 'G']\n",
            "[5, 9, 0, 5, 7, 4, 9, 5, 10, 7]\n",
            "Beethoven/Piano_Sonatas/22-2/xml_score.musicxml A1 6\n",
            "['F#', 'A#', 'C#', 'F#', 'G#', 'E#', 'A#', 'F#', 'B', 'G#']\n",
            "[6, 10, 1, 6, 8, 5, 10, 6, 11, 8]\n",
            "Beethoven/Piano_Sonatas/22-2/xml_score.musicxml M2 1\n",
            "['G', 'B', 'D', 'G', 'A', 'F#', 'B', 'G', 'C', 'A']\n",
            "[7, 11, 2, 7, 9, 6, 11, 7, 0, 9]\n",
            "Beethoven/Piano_Sonatas/22-2/xml_score.musicxml m3 -4\n",
            "['A-', 'C', 'E-', 'A-', 'B-', 'G', 'C', 'A-', 'D-', 'B-']\n",
            "[8, 0, 3, 8, 10, 7, 0, 8, 1, 10]\n",
            "Beethoven/Piano_Sonatas/22-2/xml_score.musicxml M3 3\n",
            "['A', 'C#', 'E', 'A', 'B', 'G#', 'C#', 'A', 'D', 'B']\n",
            "[9, 1, 4, 9, 11, 8, 1, 9, 2, 11]\n",
            "Beethoven/Piano_Sonatas/22-2/xml_score.musicxml P4 -2\n",
            "['B-', 'D', 'F', 'B-', 'C', 'A', 'D', 'B-', 'E-', 'C']\n",
            "[10, 2, 5, 10, 0, 9, 2, 10, 3, 0]\n",
            "Beethoven/Piano_Sonatas/22-2/xml_score.musicxml A4 5\n",
            "['B', 'D#', 'F#', 'B', 'C#', 'A#', 'D#', 'B', 'E', 'C#']\n",
            "[11, 3, 6, 11, 1, 10, 3, 11, 4, 1]\n",
            "Beethoven/Piano_Sonatas/22-2/xml_score.musicxml P5 0\n",
            "['C', 'E', 'G', 'C', 'D', 'B', 'E', 'C', 'F', 'D']\n",
            "[0, 4, 7, 0, 2, 11, 4, 0, 5, 2]\n",
            "Beethoven/Piano_Sonatas/22-2/xml_score.musicxml m6 -5\n",
            "['D-', 'F', 'A-', 'D-', 'E-', 'C', 'F', 'D-', 'G-', 'E-']\n",
            "[1, 5, 8, 1, 3, 0, 5, 1, 6, 3]\n",
            "Beethoven/Piano_Sonatas/22-2/xml_score.musicxml M6 2\n",
            "['D', 'F#', 'A', 'D', 'E', 'C#', 'F#', 'D', 'G', 'E']\n",
            "[2, 6, 9, 2, 4, 1, 6, 2, 7, 4]\n",
            "Beethoven/Piano_Sonatas/22-2/xml_score.musicxml m7 -3\n",
            "['E-', 'G', 'B-', 'E-', 'F', 'D', 'G', 'E-', 'A-', 'F']\n",
            "[3, 7, 10, 3, 5, 2, 7, 3, 8, 5]\n",
            "Beethoven/Piano_Sonatas/22-2/xml_score.musicxml M7 4\n",
            "['E', 'G#', 'B', 'E', 'F#', 'D#', 'G#', 'E', 'A', 'F#']\n",
            "[4, 8, 11, 4, 6, 3, 8, 4, 9, 6]\n",
            "Beethoven/Piano_Sonatas/29-3/xml_score.musicxml P1 3\n",
            "['A', 'A', 'A', 'C#', 'C#', 'C#', 'A', 'C#', 'C#', 'F#']\n",
            "[9, 9, 9, 1, 1, 1, 9, 1, 1, 6]\n",
            "Beethoven/Piano_Sonatas/29-3/xml_score.musicxml m2 -2\n",
            "['B-', 'B-', 'B-', 'D', 'D', 'D', 'B-', 'D', 'D', 'G']\n",
            "[10, 10, 10, 2, 2, 2, 10, 2, 2, 7]\n",
            "Beethoven/Piano_Sonatas/29-3/xml_score.musicxml M2 5\n",
            "['B', 'B', 'B', 'D#', 'D#', 'D#', 'B', 'D#', 'D#', 'G#']\n",
            "[11, 11, 11, 3, 3, 3, 11, 3, 3, 8]\n",
            "Beethoven/Piano_Sonatas/29-3/xml_score.musicxml m3 0\n",
            "['C', 'C', 'C', 'E', 'E', 'E', 'C', 'E', 'E', 'A']\n",
            "[0, 0, 0, 4, 4, 4, 0, 4, 4, 9]\n",
            "Beethoven/Piano_Sonatas/29-3/xml_score.musicxml d4 -5\n",
            "['D-', 'D-', 'D-', 'F', 'F', 'F', 'D-', 'F', 'F', 'B-']\n",
            "[1, 1, 1, 5, 5, 5, 1, 5, 5, 10]\n",
            "Beethoven/Piano_Sonatas/29-3/xml_score.musicxml P4 2\n",
            "['D', 'D', 'D', 'F#', 'F#', 'F#', 'D', 'F#', 'F#', 'B']\n",
            "[2, 2, 2, 6, 6, 6, 2, 6, 6, 11]\n",
            "Beethoven/Piano_Sonatas/29-3/xml_score.musicxml d5 -3\n",
            "['E-', 'E-', 'E-', 'G', 'G', 'G', 'E-', 'G', 'G', 'C']\n",
            "[3, 3, 3, 7, 7, 7, 3, 7, 7, 0]\n",
            "Beethoven/Piano_Sonatas/29-3/xml_score.musicxml P5 4\n",
            "['E', 'E', 'E', 'G#', 'G#', 'G#', 'E', 'G#', 'G#', 'C#']\n",
            "[4, 4, 4, 8, 8, 8, 4, 8, 8, 1]\n",
            "Beethoven/Piano_Sonatas/29-3/xml_score.musicxml m6 -1\n",
            "['F', 'F', 'F', 'A', 'A', 'A', 'F', 'A', 'A', 'D']\n",
            "[5, 5, 5, 9, 9, 9, 5, 9, 9, 2]\n",
            "Beethoven/Piano_Sonatas/29-3/xml_score.musicxml M6 6\n",
            "['F#', 'F#', 'F#', 'A#', 'A#', 'A#', 'F#', 'A#', 'A#', 'D#']\n",
            "[6, 6, 6, 10, 10, 10, 6, 10, 10, 3]\n",
            "Beethoven/Piano_Sonatas/29-3/xml_score.musicxml m7 1\n",
            "['G', 'G', 'G', 'B', 'B', 'B', 'G', 'B', 'B', 'E']\n",
            "[7, 7, 7, 11, 11, 11, 7, 11, 11, 4]\n",
            "Beethoven/Piano_Sonatas/29-3/xml_score.musicxml d1 -4\n",
            "['A-', 'A-', 'A-', 'C', 'C', 'C', 'A-', 'C', 'C', 'F']\n",
            "[8, 8, 8, 0, 0, 0, 8, 0, 0, 5]\n",
            "Chopin/Etudes_op_10/1/xml_score.musicxml P1 0\n",
            "['C', 'C', 'C', 'G', 'C', 'E', 'C', 'G', 'C', 'E']\n",
            "[0, 0, 0, 7, 0, 4, 0, 7, 0, 4]\n",
            "Chopin/Etudes_op_10/1/xml_score.musicxml m2 -5\n",
            "['D-', 'D-', 'D-', 'A-', 'D-', 'F', 'D-', 'A-', 'D-', 'F']\n",
            "[1, 1, 1, 8, 1, 5, 1, 8, 1, 5]\n",
            "Chopin/Etudes_op_10/1/xml_score.musicxml M2 2\n",
            "['D', 'D', 'D', 'A', 'D', 'F#', 'D', 'A', 'D', 'F#']\n",
            "[2, 2, 2, 9, 2, 6, 2, 9, 2, 6]\n",
            "Chopin/Etudes_op_10/1/xml_score.musicxml m3 -3\n",
            "['E-', 'E-', 'E-', 'B-', 'E-', 'G', 'E-', 'B-', 'E-', 'G']\n",
            "[3, 3, 3, 10, 3, 7, 3, 10, 3, 7]\n",
            "Chopin/Etudes_op_10/1/xml_score.musicxml M3 4\n",
            "['E', 'E', 'E', 'B', 'E', 'G#', 'E', 'B', 'E', 'G#']\n",
            "[4, 4, 4, 11, 4, 8, 4, 11, 4, 8]\n",
            "Chopin/Etudes_op_10/1/xml_score.musicxml P4 -1\n",
            "['F', 'F', 'F', 'C', 'F', 'A', 'F', 'C', 'F', 'A']\n",
            "[5, 5, 5, 0, 5, 9, 5, 0, 5, 9]\n",
            "Chopin/Etudes_op_10/1/xml_score.musicxml d5 -6\n",
            "['G-', 'G-', 'G-', 'D-', 'G-', 'B-', 'G-', 'D-', 'G-', 'B-']\n",
            "[6, 6, 6, 1, 6, 10, 6, 1, 6, 10]\n",
            "Chopin/Etudes_op_10/1/xml_score.musicxml P5 1\n",
            "['G', 'G', 'G', 'D', 'G', 'B', 'G', 'D', 'G', 'B']\n",
            "[7, 7, 7, 2, 7, 11, 7, 2, 7, 11]\n",
            "Chopin/Etudes_op_10/1/xml_score.musicxml m6 -4\n",
            "['A-', 'A-', 'A-', 'E-', 'A-', 'C', 'A-', 'E-', 'A-', 'C']\n",
            "[8, 8, 8, 3, 8, 0, 8, 3, 8, 0]\n",
            "Chopin/Etudes_op_10/1/xml_score.musicxml M6 3\n",
            "['A', 'A', 'A', 'E', 'A', 'C#', 'A', 'E', 'A', 'C#']\n",
            "[9, 9, 9, 4, 9, 1, 9, 4, 9, 1]\n",
            "Chopin/Etudes_op_10/1/xml_score.musicxml m7 -2\n",
            "['B-', 'B-', 'B-', 'F', 'B-', 'D', 'B-', 'F', 'B-', 'D']\n",
            "[10, 10, 10, 5, 10, 2, 10, 5, 10, 2]\n",
            "Chopin/Etudes_op_10/1/xml_score.musicxml M7 5\n",
            "['B', 'B', 'B', 'F#', 'B', 'D#', 'B', 'F#', 'B', 'D#']\n",
            "[11, 11, 11, 6, 11, 3, 11, 6, 11, 3]\n",
            "Chopin/Sonata_2/4th/xml_score.musicxml P1 -5\n",
            "['F', 'F', 'G', 'G', 'B-', 'B-', 'D-', 'D-', 'E', 'E']\n",
            "[5, 5, 7, 7, 10, 10, 1, 1, 4, 4]\n",
            "Chopin/Sonata_2/4th/xml_score.musicxml A1 2\n",
            "['F#', 'F#', 'G#', 'G#', 'B', 'B', 'D', 'D', 'E#', 'E#']\n",
            "[6, 6, 8, 8, 11, 11, 2, 2, 5, 5]\n",
            "Chopin/Sonata_2/4th/xml_score.musicxml M2 -3\n",
            "['G', 'G', 'A', 'A', 'C', 'C', 'E-', 'E-', 'F#', 'F#']\n",
            "[7, 7, 9, 9, 0, 0, 3, 3, 6, 6]\n",
            "Chopin/Sonata_2/4th/xml_score.musicxml m3 -8\n",
            "['A-', 'A-', 'B-', 'B-', 'D-', 'D-', 'F-', 'F-', 'G', 'G']\n",
            "[8, 8, 10, 10, 1, 1, 4, 4, 7, 7]\n",
            "Chopin/Sonata_2/4th/xml_score.musicxml M3 -1\n",
            "['A', 'A', 'B', 'B', 'D', 'D', 'F', 'F', 'G#', 'G#']\n",
            "[9, 9, 11, 11, 2, 2, 5, 5, 8, 8]\n",
            "Chopin/Sonata_2/4th/xml_score.musicxml P4 -6\n",
            "['B-', 'B-', 'C', 'C', 'E-', 'E-', 'G-', 'G-', 'A', 'A']\n",
            "[10, 10, 0, 0, 3, 3, 6, 6, 9, 9]\n"
          ],
          "name": "stdout"
        }
      ]
    },
    {
      "cell_type": "code",
      "metadata": {
        "id": "ZgHkMeoJdb42",
        "colab": {
          "base_uri": "https://localhost:8080/"
        },
        "outputId": "1f3d172f-3f93-47ce-aa1b-e37a2afba24e"
      },
      "source": [
        "print(len(dict_dataset))\r\n",
        "\r\n",
        "c = Counter()\r\n",
        "for p in paths:\r\n",
        "    c[p.split(\"/\")[0]] +=1\r\n",
        "\r\n",
        "print(c)"
      ],
      "execution_count": 10,
      "outputs": [
        {
          "output_type": "stream",
          "text": [
            "2271\n",
            "Counter({'Bach': 59, 'Beethoven': 57, 'Chopin': 34, 'Schubert': 13, 'Haydn': 11, 'Schumann': 10, 'Mozart': 6, 'Brahms': 1})\n"
          ],
          "name": "stdout"
        }
      ]
    },
    {
      "cell_type": "code",
      "metadata": {
        "id": "-GRCM2W3qqeW",
        "colab": {
          "base_uri": "https://localhost:8080/"
        },
        "outputId": "d53c8146-8b32-43df-cd69-b7423f1ceda2"
      },
      "source": [
        "# Ignore Brahms (only one piece)\r\n",
        "paths = [p for p in paths if p.split(\"/\")[0] !=\"Brahms\"]\r\n",
        "\r\n",
        "# Divide train and validation set\r\n",
        "path_train, path_validation = sklearn.model_selection.train_test_split(paths, test_size=0.2,stratify=[p.split(\"/\")[0] for p in paths ])\r\n",
        "print(\"Train and validation lenghts: \",len(path_train),len(path_validation))"
      ],
      "execution_count": 11,
      "outputs": [
        {
          "output_type": "stream",
          "text": [
            "Train and validation lenghts:  152 38\n"
          ],
          "name": "stdout"
        }
      ]
    },
    {
      "cell_type": "code",
      "metadata": {
        "colab": {
          "base_uri": "https://localhost:8080/",
          "height": 335
        },
        "id": "KIZ2_bX1bom5",
        "outputId": "ae8d5b50-ed4d-4376-f9d6-e96c6aa73046"
      },
      "source": [
        "#need to find a better way to visualize this\r\n",
        "composers = list(set([p.split(\"/\")[0] for p in paths ]))\r\n",
        "print(composers)\r\n",
        "\r\n",
        "train_composer = [composers.index(p.split(\"/\")[0]) for p in path_train]\r\n",
        "val_composer = [composers.index(p.split(\"/\")[0]) for p in path_validation]\r\n",
        "\r\n",
        "_ = plt.hist([train_composer, val_composer], label=['train', 'validation'])\r\n",
        "_ = plt.legend(loc='upper left')\r\n",
        "_ = plt.xticks(list(range(7)), composers)"
      ],
      "execution_count": 12,
      "outputs": [
        {
          "output_type": "stream",
          "text": [
            "['Haydn', 'Mozart', 'Bach', 'Beethoven', 'Schumann', 'Schubert', 'Chopin']\n"
          ],
          "name": "stdout"
        },
        {
          "output_type": "stream",
          "text": [
            "/usr/local/lib/python3.6/dist-packages/numpy/core/_asarray.py:83: VisibleDeprecationWarning: Creating an ndarray from ragged nested sequences (which is a list-or-tuple of lists-or-tuples-or ndarrays with different lengths or shapes) is deprecated. If you meant to do this, you must specify 'dtype=object' when creating the ndarray\n",
            "  return array(a, dtype, copy=False, order=order)\n"
          ],
          "name": "stderr"
        },
        {
          "output_type": "display_data",
          "data": {
            "image/png": "[encoded data removed]",
            "text/plain": [
              "<Figure size 432x288 with 1 Axes>"
            ]
          },
          "metadata": {
            "tags": [],
            "image/png": {
              "width": 374,
              "height": 248
            },
            "needs_background": "light"
          }
        }
      ]
    },
    {
      "cell_type": "markdown",
      "metadata": {
        "id": "1-qaT10ApkCY"
      },
      "source": [
        "## Transform the input into a convenient format for the Model"
      ]
    },
    {
      "cell_type": "code",
      "metadata": {
        "colab": {
          "base_uri": "https://localhost:8080/"
        },
        "id": "kEYec2TDOWvj",
        "outputId": "1b69573b-cfeb-4dc9-8882-da42f9c25537"
      },
      "source": [
        "# Helper functions to feed the correct input into the NN \r\n",
        "\r\n",
        "PAD = \"<PAD>\"\r\n",
        "\r\n",
        "tag_to_ix = {p: accepted_pitches.index(p) for p in accepted_pitches}\r\n",
        "#add PADDING TAD\r\n",
        "tag_to_ix[PAD] = len(accepted_pitches)\r\n",
        "\r\n",
        "midi_to_ix = {m: m for m in range(12)}\r\n",
        "# #add PADDING TAD\r\n",
        "# midi_to_ix[PAD] = 12\r\n",
        "\r\n",
        "print(midi_to_ix[1])\r\n",
        "print(len(midi_to_ix))\r\n",
        "\r\n",
        "\r\n",
        "class Pitch2Diatonic():\r\n",
        "  def __call__(self, in_seq):\r\n",
        "    return [p for p in in_seq]\r\n",
        "\r\n",
        "class Diatonic2Int():\r\n",
        "  def __call__(self, in_seq):\r\n",
        "    idxs = [tag_to_ix[w] for w in in_seq]\r\n",
        "    return idxs\r\n",
        "\r\n",
        "class Int2Pitch():\r\n",
        "  def __call__(self, in_seq):\r\n",
        "    return [accepted_pitches[i] for i in in_seq]\r\n",
        "\r\n",
        "class OneHotEncoder():\r\n",
        "    def __init__(self, alphabet_len):\r\n",
        "        self.alphabet_len = alphabet_len\r\n",
        "        \r\n",
        "    def __call__(self, sample):\r\n",
        "        onehot = np.zeros([len(sample), self.alphabet_len])\r\n",
        "        tot_chars = len(sample)\r\n",
        "        onehot[np.arange(tot_chars), sample] = 1\r\n",
        "        return onehot\r\n",
        "        \r\n",
        "class ToTensorFloat():\r\n",
        "  def __call__(self, sample):\r\n",
        "    return torch.tensor(sample,dtype=torch.float)\r\n",
        "\r\n",
        "class ToTensorLong():\r\n",
        "  def __call__(self, sample):\r\n",
        "    return torch.tensor(sample,dtype=torch.long)\r\n",
        "\r\n",
        "\r\n",
        "pitches_len = len(accepted_pitches)\r\n",
        "midinote_len = 12\r\n",
        "\r\n",
        "### Define the preprocessing pipeline\r\n",
        "transform_diat = transforms.Compose([\r\n",
        "                                     Pitch2Diatonic(),\r\n",
        "                                     Diatonic2Int(),\r\n",
        "                                     ToTensorLong()])\r\n",
        "transform_chrom = transforms.Compose([\r\n",
        "                                      OneHotEncoder(len(midi_to_ix)),\r\n",
        "                                      ToTensorFloat()])"
      ],
      "execution_count": 13,
      "outputs": [
        {
          "output_type": "stream",
          "text": [
            "1\n",
            "12\n"
          ],
          "name": "stdout"
        }
      ]
    },
    {
      "cell_type": "code",
      "metadata": {
        "colab": {
          "base_uri": "https://localhost:8080/"
        },
        "id": "jV9boYaToUs2",
        "outputId": "92bcd8d3-87a2-4d2c-8e92-4a106139f59f"
      },
      "source": [
        "# Create the dataset\r\n",
        "\r\n",
        "class PSDataset(Dataset):\r\n",
        "    def __init__(self, dict_dataset, paths, transf_c, transf_d, augment_dataset, truncate = None):\r\n",
        "        if augment_dataset:\r\n",
        "            self.chromatic_sequences = [e[\"midi_number\"] for e in dict_dataset if e[\"original_path\"] in paths]\r\n",
        "            self.diatonic_sequences = [e[\"pitches\"]\r\n",
        "                                       for e in dict_dataset \r\n",
        "                                       if e[\"original_path\"] in paths]\r\n",
        "        else: #consider only non transposed pieces\r\n",
        "            self.chromatic_sequences = [e[\"midi_number\"] for e in dict_dataset \r\n",
        "                                        if (e[\"original_path\"] in paths and e[\"transposed_of\"]==\"P1\")]\r\n",
        "            self.diatonic_sequences = [e[\"pitches\"]\r\n",
        "                                       for e in dict_dataset \r\n",
        "                                       if (e[\"original_path\"] in paths and e[\"transposed_of\"]==\"P1\")]\r\n",
        "        #the transformations to apply to data\r\n",
        "        self.transf_c = transf_c\r\n",
        "        self.transf_d = transf_d\r\n",
        "        self.truncate = truncate\r\n",
        "\r\n",
        "    def __len__(self):\r\n",
        "        return len(self.chromatic_sequences)\r\n",
        "\r\n",
        "    def __getitem__(self, idx):\r\n",
        "        chromatic_seq = self.chromatic_sequences[idx]\r\n",
        "        diatonic_seq = self.diatonic_sequences[idx]\r\n",
        "        \r\n",
        "\r\n",
        "        #transform\r\n",
        "        chromatic_seq = self.transf_c(chromatic_seq)\r\n",
        "        diatonic_seq = self.transf_d(diatonic_seq)\r\n",
        "\r\n",
        "        if not self.truncate is None:\r\n",
        "            if len(diatonic_seq) > self.truncate:\r\n",
        "                chromatic_seq = chromatic_seq[0:self.truncate]\r\n",
        "                diatonic_seq = diatonic_seq[0:self.truncate]\r\n",
        "\r\n",
        "        #sanity check\r\n",
        "        assert len(chromatic_seq) == len(diatonic_seq)\r\n",
        "        seq_len = len(diatonic_seq)\r\n",
        "        \r\n",
        "        return chromatic_seq, diatonic_seq, seq_len\r\n",
        "\r\n",
        "train_dataset = PSDataset(dict_dataset,path_train, transform_chrom,transform_diat,True)\r\n",
        "validation_dataset = PSDataset(dict_dataset,path_validation, transform_chrom,transform_diat, False)\r\n",
        "\r\n",
        "print(len(train_dataset),len(validation_dataset))\r\n",
        "\r\n",
        "\r\n",
        "\r\n",
        "# test if it works\r\n",
        "chrom, diat, l = next(iter(train_dataset))\r\n",
        "print([[i for i, j in enumerate(m) if j == 1][0] for m in chrom[0:30]])\r\n",
        "# print([diatonic_pitches[p.item()] for p in diat[0:30]])\r\n",
        "print([accepted_pitches[p.item()] for p in diat[0:30]])"
      ],
      "execution_count": 14,
      "outputs": [
        {
          "output_type": "stream",
          "text": [
            "1812 38\n",
            "[7, 7, 9, 7, 0, 4, 5, 4, 4, 2, 0, 5, 0, 11, 0, 0, 4, 7, 0, 1, 2, 11, 7, 2, 3, 4, 0, 0, 4, 0]\n",
            "['G', 'G', 'A', 'G', 'C', 'E', 'F', 'E', 'E', 'D', 'C', 'F', 'C', 'B', 'C', 'C', 'E', 'G', 'C', 'C#', 'D', 'B', 'G', 'D', 'D#', 'E', 'C', 'C', 'E', 'C']\n"
          ],
          "name": "stdout"
        }
      ]
    },
    {
      "cell_type": "code",
      "metadata": {
        "colab": {
          "base_uri": "https://localhost:8080/"
        },
        "id": "hAubyjw2LC8P",
        "outputId": "d6f8574f-8901-41e7-fd7a-9a0c6091eafa"
      },
      "source": [
        "def pad_collate(batch):\r\n",
        "    (xx, yy, l) = zip(*batch)\r\n",
        "    \r\n",
        "    xx_pad = pad_sequence(xx)\r\n",
        "    yy_pad = pad_sequence(yy, padding_value=tag_to_ix[PAD])\r\n",
        "\r\n",
        "    #sort the sequences by length\r\n",
        "    seq_lengths, perm_idx = torch.Tensor(l).sort(0, descending=True)\r\n",
        "    xx_pad = xx_pad[:,perm_idx,:]\r\n",
        "    yy_pad = yy_pad[:,perm_idx]\r\n",
        "\r\n",
        "    return xx_pad, yy_pad, seq_lengths\r\n",
        "\r\n",
        "data_loader = DataLoader(dataset=validation_dataset, batch_size=4, shuffle=True, collate_fn=pad_collate)\r\n",
        "\r\n",
        "#something is wrong here looking at the output\r\n",
        "\r\n",
        "\r\n",
        "#test if it work\r\n",
        "for batch in data_loader:\r\n",
        "    print(batch[0].shape,batch[1].shape,batch[2])\r\n",
        "    print(batch[1])\r\n",
        "    break\r\n"
      ],
      "execution_count": 15,
      "outputs": [
        {
          "output_type": "stream",
          "text": [
            "torch.Size([3124, 4, 12]) torch.Size([3124, 4]) tensor([3124., 1810., 1300.,  772.])\n",
            "tensor([[26, 21, 26, 26],\n",
            "        [26, 12, 24, 10],\n",
            "        [26, 21,  3, 26],\n",
            "        ...,\n",
            "        [26, 35, 35, 35],\n",
            "        [ 3, 35, 35, 35],\n",
            "        [26, 35, 35, 35]])\n"
          ],
          "name": "stdout"
        }
      ]
    },
    {
      "cell_type": "markdown",
      "metadata": {
        "id": "6O1OA1AjGWO-"
      },
      "source": [
        "## Model Definition"
      ]
    },
    {
      "cell_type": "code",
      "metadata": {
        "id": "QEkFBY5cUsmN"
      },
      "source": [
        "class RNNTagger(nn.Module):\r\n",
        "    \r\n",
        "    def __init__(self, input_dim, hidden_dim, n_labels,n_layers =1):\r\n",
        "        super(RNNTagger,self).__init__()    \r\n",
        "        \r\n",
        "        self.n_labels = n_labels\r\n",
        "        self.hidden_dim = hidden_dim\r\n",
        "\r\n",
        "        # RNN layer. We're using a bidirectional GRU\r\n",
        "        self.rnn = nn.GRU(input_size=input_dim, hidden_size=hidden_dim //2, \r\n",
        "                          bidirectional=True, num_layers=n_layers)\r\n",
        "        \r\n",
        "        # Output layer. The input will be two times\r\n",
        "        # the RNN size since we are using a bidirectional RNN.\r\n",
        "        self.top_layer = nn.Linear(hidden_dim, self.n_labels)\r\n",
        "    \r\n",
        "        # Loss function that we will use during training.\r\n",
        "        self.loss = torch.nn.CrossEntropyLoss(reduction='sum',ignore_index = tag_to_ix[PAD])\r\n",
        "        \r\n",
        "    def compute_outputs(self, sentences,sentences_len):\r\n",
        "        sentences = torch.nn.utils.rnn.pack_padded_sequence(sentences, sentences_len)\r\n",
        "        rnn_out, _ = self.rnn(sentences)\r\n",
        "        rnn_out,_ = torch.nn.utils.rnn.pad_packed_sequence(rnn_out)\r\n",
        "\r\n",
        "        out = self.top_layer(rnn_out)\r\n",
        "       \r\n",
        "        # # Find the positions where the token is a dummy padding token.\r\n",
        "        # pad_mask = (sentences == self.pad_word_id).float()\r\n",
        "\r\n",
        "        # # For these positions, we add some large number in the column corresponding\r\n",
        "        # # to the dummy padding label.\r\n",
        "        # out[:, :, self.pad_label_id] += pad_mask*10000\r\n",
        "\r\n",
        "        return out\r\n",
        "                \r\n",
        "    def forward(self, sentences, labels, sentences_len):\r\n",
        "        # First computes the predictions, and then the loss function.\r\n",
        "        \r\n",
        "        # Compute the outputs. The shape is (max_len, n_sentences, n_labels).\r\n",
        "        scores = self.compute_outputs(sentences,sentences_len)\r\n",
        "        \r\n",
        "        # Flatten the outputs and the gold-standard labels, to compute the loss.\r\n",
        "        # The input to this loss needs to be one 2-dimensional and one 1-dimensional tensor.\r\n",
        "        scores = scores.view(-1, self.n_labels)\r\n",
        "        labels = labels.view(-1)\r\n",
        "        return self.loss(scores, labels)\r\n",
        "\r\n",
        "    def predict(self, sentences,sentences_len):\r\n",
        "        # Compute the outputs from the linear units.\r\n",
        "        scores = self.compute_outputs(sentences,sentences_len)\r\n",
        "\r\n",
        "        # Select the top-scoring labels. The shape is now (max_len, n_sentences).\r\n",
        "        predicted = scores.argmax(dim=2)\r\n",
        "\r\n",
        "        # We transpose the prediction to (n_sentences, max_len), and convert it\r\n",
        "        # to a NumPy matrix.\r\n",
        "        return predicted.t().cpu().numpy()"
      ],
      "execution_count": null,
      "outputs": []
    },
    {
      "cell_type": "code",
      "metadata": {
        "id": "QE7itQ88Qx17"
      },
      "source": [
        "class RNNCRFTagger(nn.Module):\r\n",
        "    def __init__(self, input_dim, hidden_dim, n_labels,n_layers =1):\r\n",
        "        super(RNNCRFTagger,self).__init__()    \r\n",
        "        \r\n",
        "        self.n_labels = n_labels\r\n",
        "        self.hidden_dim = hidden_dim\r\n",
        "\r\n",
        "        self.rnn = nn.GRU(input_size=input_dim, hidden_size=hidden_dim //2, \r\n",
        "                          bidirectional=True, num_layers=n_layers)\r\n",
        "\r\n",
        "        self.top_layer = nn.Linear(hidden_dim, self.n_labels)\r\n",
        "    \r\n",
        "        self.crf = CRF(self.n_labels)\r\n",
        "        \r\n",
        "    def compute_outputs(self, sentences,sentences_len):\r\n",
        "        ## should I initialize here??\r\n",
        "        sentences = torch.nn.utils.rnn.pack_padded_sequence(sentences, sentences_len)\r\n",
        "        rnn_out, _ = self.rnn(sentences)\r\n",
        "        rnn_out,_ = torch.nn.utils.rnn.pad_packed_sequence(rnn_out)\r\n",
        "\r\n",
        "        out = self.top_layer(rnn_out)\r\n",
        "      \r\n",
        "        return out\r\n",
        "                \r\n",
        "    def forward(self, sentences, labels, sentences_len):\r\n",
        "        # Compute the outputs of the lower layers, which will be used as emission\r\n",
        "        # scores for the CRF.\r\n",
        "        scores = self.compute_outputs(sentences,sentences_len)\r\n",
        "\r\n",
        "        # We return the loss value. The CRF returns the log likelihood, but we return \r\n",
        "        # the *negative* log likelihood as the loss value.            \r\n",
        "        # PyTorch's optimizers *minimize* the loss, while we want to *maximize* the\r\n",
        "        # log likelihood.\r\n",
        "\r\n",
        "        pad_mask = torch.arange(max(sentences_len))[:, None] < sentences_len[None, :]\r\n",
        "        pad_mask = pad_mask.byte().to(device)\r\n",
        "        return -self.crf(scores, labels, mask = pad_mask )\r\n",
        "            \r\n",
        "    def predict(self, sentences,sentences_len):\r\n",
        "        # Compute the emission scores, as above.\r\n",
        "        scores = self.compute_outputs(sentences,sentences_len)\r\n",
        "\r\n",
        "        # Apply the Viterbi algorithm to get the predictions. This implementation returns\r\n",
        "        # the result as a list of lists (not a tensor), corresponding to a matrix\r\n",
        "        # of shape (n_sentences, max_len).\r\n",
        "        pad_mask = torch.arange(max(sentences_len))[:, None] < sentences_len[None, :]\r\n",
        "        pad_mask = pad_mask.byte().to(device)\r\n",
        "        return self.crf.decode(scores,mask = pad_mask)"
      ],
      "execution_count": 16,
      "outputs": []
    },
    {
      "cell_type": "markdown",
      "metadata": {
        "id": "vXixmVQfvw8T"
      },
      "source": [
        "## Train model"
      ]
    },
    {
      "cell_type": "code",
      "metadata": {
        "id": "3m_nj4HCuCe1"
      },
      "source": [
        "# TODO: search over the best hyperparameters"
      ],
      "execution_count": null,
      "outputs": []
    },
    {
      "cell_type": "code",
      "metadata": {
        "id": "uAMSIlw0AJb6"
      },
      "source": [
        "def training_loop(model, optimizer, train_dataloader, val_dataloader, n_epochs):\r\n",
        "    history = defaultdict(list)  \r\n",
        "    for i_epoch in range(1,n_epochs +1):\r\n",
        "        t0 = time.time()\r\n",
        "        loss_sum = 0\r\n",
        "        accuracy_sum = 0\r\n",
        "        model.train()\r\n",
        "        for seqs, targets, lens in train_dataloader: #seqs, targets, lens are batches\r\n",
        "            seqs, targets = seqs.to(device), targets.to(device)\r\n",
        "            optimizer.zero_grad()\r\n",
        "\r\n",
        "            loss = model(seqs,targets,lens) / sum(lens) #normalize for the number of symbol considered (without padding)\r\n",
        "            loss.backward()\r\n",
        "            optimizer.step()\r\n",
        "            loss_sum += loss.item()\r\n",
        "\r\n",
        "            predicted = model.predict(seqs,lens)\r\n",
        "            for i,p in enumerate(predicted):\r\n",
        "                acc= accuracy_score(p,targets[:,i][:len(p)].cpu()) #compute the accuracy without considering the padding\r\n",
        "                accuracy_sum += acc/len(lens) #normalize according to the number of sequences in the batch\r\n",
        "\r\n",
        "        train_loss = loss_sum/len(train_dataloader)\r\n",
        "        train_accuracy = accuracy_sum/len(train_dataloader) #normalize according to the number of batches\r\n",
        "        history[\"train_loss\"].append(train_loss)\r\n",
        "        history[\"train_accuracy\"].append(train_accuracy)\r\n",
        "\r\n",
        "\r\n",
        "        # Evaluate on the validation set.\r\n",
        "        model.eval()\r\n",
        "        all_predicted = []\r\n",
        "        all_targets = []\r\n",
        "        with torch.no_grad():\r\n",
        "            for seqs,targets, lens in val_dataloader:\r\n",
        "                # Predict the model's output on a batch.\r\n",
        "                predicted = model.predict(seqs.to(device),lens)                   \r\n",
        "                # Update the evaluation statistics.\r\n",
        "                for i,p in enumerate(predicted):\r\n",
        "                    all_predicted.append(torch.Tensor(p))\r\n",
        "                    all_targets.append(targets[0:int(lens[i]),i])\r\n",
        "                \r\n",
        "        # Compute the overall accuracy for the validation set\r\n",
        "        val_accuracy = accuracy_score(torch.cat(all_predicted),torch.cat(all_targets))\r\n",
        "        history[\"val_accuracy\"].append(val_accuracy)\r\n",
        "\r\n",
        "        #save the model\r\n",
        "        torch.save(model, \"model_temp_epoch{}.pkl\".format(i_epoch))\r\n",
        "        files.download(\"model_temp_epoch{}.pkl\".format(i_epoch))\r\n",
        "\r\n",
        "    \r\n",
        "        t1 = time.time()\r\n",
        "        print(f'Epoch {i_epoch}: train loss = {train_loss:.4f}, train_accuracy: {train_accuracy:.4f},val_accuracy: {val_accuracy:.4f}, time = {t1-t0:.4f}')\r\n",
        "    return history"
      ],
      "execution_count": 20,
      "outputs": []
    },
    {
      "cell_type": "code",
      "metadata": {
        "colab": {
          "base_uri": "https://localhost:8080/",
          "height": 269
        },
        "id": "2g2st8znpGW_",
        "outputId": "fe232e42-e270-4f5d-9bd8-718bba5e7151"
      },
      "source": [
        "device = torch.device(\"cuda\") if torch.cuda.is_available() else torch.device(\"cpu\")\r\n",
        "print(f\"Training device: {device}\")\r\n",
        "\r\n",
        "n_epochs = 50\r\n",
        "HIDDEN_DIM = 72\r\n",
        "LEARNING_WEIGHT = 0.05\r\n",
        "WEIGHT_DECAY = 1e-4\r\n",
        "BATCH_SIZE = 16\r\n",
        "\r\n",
        "train_dataset = PSDataset(dict_dataset,path_train, transform_chrom,transform_diat,True, truncate = None)\r\n",
        "validation_dataset = PSDataset(dict_dataset,path_validation, transform_chrom,transform_diat, False)\r\n",
        "\r\n",
        "train_dataloader = DataLoader(train_dataset, batch_size=BATCH_SIZE, shuffle=True,collate_fn=pad_collate)\r\n",
        "val_dataloader = DataLoader(validation_dataset, batch_size=BATCH_SIZE, shuffle=True,collate_fn=pad_collate)\r\n",
        "\r\n",
        "model = RNNCRFTagger(12,HIDDEN_DIM,len(tag_to_ix), n_layers =1)\r\n",
        "# model = RNNTagger(12,HIDDEN_DIM,len(tag_to_ix), n_layers =1)\r\n",
        "model = model.to(device)\r\n",
        "optimizer = torch.optim.SGD(model.parameters(), lr=LEARNING_WEIGHT, weight_decay=WEIGHT_DECAY)\r\n",
        "# otimizer = torch.optim.Adam(model.parameters(),lr = 0.05, weight_decay=1e-4)\r\n",
        "\r\n",
        "history = training_loop(model,optimizer,train_dataloader,val_dataloader, n_epochs)\r\n",
        "\r\n",
        "# After the final evaluation, we print more detailed evaluation statistics,\r\n",
        "plt.plot(history['train_loss'])\r\n",
        "plt.plot(history['train_accuracy'])\r\n",
        "plt.plot(history['val_accuracy'])\r\n",
        "plt.legend(['training loss', 'training accuracy', 'validation_accuracy'])"
      ],
      "execution_count": null,
      "outputs": [
        {
          "output_type": "stream",
          "text": [
            "Training device: cuda\n"
          ],
          "name": "stdout"
        },
        {
          "output_type": "display_data",
          "data": {
            "application/javascript": [
              "\n",
              "    async function download(id, filename, size) {\n",
              "      if (!google.colab.kernel.accessAllowed) {\n",
              "        return;\n",
              "      }\n",
              "      const div = document.createElement('div');\n",
              "      const label = document.createElement('label');\n",
              "      label.textContent = `Downloading \"${filename}\": `;\n",
              "      div.appendChild(label);\n",
              "      const progress = document.createElement('progress');\n",
              "      progress.max = size;\n",
              "      div.appendChild(progress);\n",
              "      document.body.appendChild(div);\n",
              "\n",
              "      const buffers = [];\n",
              "      let downloaded = 0;\n",
              "\n",
              "      const channel = await google.colab.kernel.comms.open(id);\n",
              "      // Send a message to notify the kernel that we're ready.\n",
              "      channel.send({})\n",
              "\n",
              "      for await (const message of channel.messages) {\n",
              "        // Send a message to notify the kernel that we're ready.\n",
              "        channel.send({})\n",
              "        if (message.buffers) {\n",
              "          for (const buffer of message.buffers) {\n",
              "            buffers.push(buffer);\n",
              "            downloaded += buffer.byteLength;\n",
              "            progress.value = downloaded;\n",
              "          }\n",
              "        }\n",
              "      }\n",
              "      const blob = new Blob(buffers, {type: 'application/binary'});\n",
              "      const a = document.createElement('a');\n",
              "      a.href = window.URL.createObjectURL(blob);\n",
              "      a.download = filename;\n",
              "      div.appendChild(a);\n",
              "      a.click();\n",
              "      div.remove();\n",
              "    }\n",
              "  "
            ],
            "text/plain": [
              "<IPython.core.display.Javascript object>"
            ]
          },
          "metadata": {
            "tags": []
          }
        },
        {
          "output_type": "display_data",
          "data": {
            "application/javascript": [
              "download(\"download_6464265f-a50d-498a-999b-9feda731c406\", \"model_temp_epoch1.pkl\", 63501)"
            ],
            "text/plain": [
              "<IPython.core.display.Javascript object>"
            ]
          },
          "metadata": {
            "tags": []
          }
        },
        {
          "output_type": "stream",
          "text": [
            "Epoch 1: train loss = 3.3616, train_accuracy: 0.1200,val_accuracy: 0.2341, time = 1238.8340\n"
          ],
          "name": "stdout"
        },
        {
          "output_type": "display_data",
          "data": {
            "application/javascript": [
              "\n",
              "    async function download(id, filename, size) {\n",
              "      if (!google.colab.kernel.accessAllowed) {\n",
              "        return;\n",
              "      }\n",
              "      const div = document.createElement('div');\n",
              "      const label = document.createElement('label');\n",
              "      label.textContent = `Downloading \"${filename}\": `;\n",
              "      div.appendChild(label);\n",
              "      const progress = document.createElement('progress');\n",
              "      progress.max = size;\n",
              "      div.appendChild(progress);\n",
              "      document.body.appendChild(div);\n",
              "\n",
              "      const buffers = [];\n",
              "      let downloaded = 0;\n",
              "\n",
              "      const channel = await google.colab.kernel.comms.open(id);\n",
              "      // Send a message to notify the kernel that we're ready.\n",
              "      channel.send({})\n",
              "\n",
              "      for await (const message of channel.messages) {\n",
              "        // Send a message to notify the kernel that we're ready.\n",
              "        channel.send({})\n",
              "        if (message.buffers) {\n",
              "          for (const buffer of message.buffers) {\n",
              "            buffers.push(buffer);\n",
              "            downloaded += buffer.byteLength;\n",
              "            progress.value = downloaded;\n",
              "          }\n",
              "        }\n",
              "      }\n",
              "      const blob = new Blob(buffers, {type: 'application/binary'});\n",
              "      const a = document.createElement('a');\n",
              "      a.href = window.URL.createObjectURL(blob);\n",
              "      a.download = filename;\n",
              "      div.appendChild(a);\n",
              "      a.click();\n",
              "      div.remove();\n",
              "    }\n",
              "  "
            ],
            "text/plain": [
              "<IPython.core.display.Javascript object>"
            ]
          },
          "metadata": {
            "tags": []
          }
        },
        {
          "output_type": "display_data",
          "data": {
            "application/javascript": [
              "download(\"download_1aee510a-6ab7-478c-a340-fef98e81df25\", \"model_temp_epoch2.pkl\", 63501)"
            ],
            "text/plain": [
              "<IPython.core.display.Javascript object>"
            ]
          },
          "metadata": {
            "tags": []
          }
        },
        {
          "output_type": "stream",
          "text": [
            "Epoch 2: train loss = 2.9503, train_accuracy: 0.2989,val_accuracy: 0.4551, time = 1244.3712\n"
          ],
          "name": "stdout"
        },
        {
          "output_type": "display_data",
          "data": {
            "application/javascript": [
              "\n",
              "    async function download(id, filename, size) {\n",
              "      if (!google.colab.kernel.accessAllowed) {\n",
              "        return;\n",
              "      }\n",
              "      const div = document.createElement('div');\n",
              "      const label = document.createElement('label');\n",
              "      label.textContent = `Downloading \"${filename}\": `;\n",
              "      div.appendChild(label);\n",
              "      const progress = document.createElement('progress');\n",
              "      progress.max = size;\n",
              "      div.appendChild(progress);\n",
              "      document.body.appendChild(div);\n",
              "\n",
              "      const buffers = [];\n",
              "      let downloaded = 0;\n",
              "\n",
              "      const channel = await google.colab.kernel.comms.open(id);\n",
              "      // Send a message to notify the kernel that we're ready.\n",
              "      channel.send({})\n",
              "\n",
              "      for await (const message of channel.messages) {\n",
              "        // Send a message to notify the kernel that we're ready.\n",
              "        channel.send({})\n",
              "        if (message.buffers) {\n",
              "          for (const buffer of message.buffers) {\n",
              "            buffers.push(buffer);\n",
              "            downloaded += buffer.byteLength;\n",
              "            progress.value = downloaded;\n",
              "          }\n",
              "        }\n",
              "      }\n",
              "      const blob = new Blob(buffers, {type: 'application/binary'});\n",
              "      const a = document.createElement('a');\n",
              "      a.href = window.URL.createObjectURL(blob);\n",
              "      a.download = filename;\n",
              "      div.appendChild(a);\n",
              "      a.click();\n",
              "      div.remove();\n",
              "    }\n",
              "  "
            ],
            "text/plain": [
              "<IPython.core.display.Javascript object>"
            ]
          },
          "metadata": {
            "tags": []
          }
        },
        {
          "output_type": "display_data",
          "data": {
            "application/javascript": [
              "download(\"download_9be3adf6-dd26-45fb-8532-476fc6fb2999\", \"model_temp_epoch3.pkl\", 63501)"
            ],
            "text/plain": [
              "<IPython.core.display.Javascript object>"
            ]
          },
          "metadata": {
            "tags": []
          }
        },
        {
          "output_type": "stream",
          "text": [
            "Epoch 3: train loss = 2.7448, train_accuracy: 0.4723,val_accuracy: 0.5220, time = 1226.7938\n"
          ],
          "name": "stdout"
        },
        {
          "output_type": "display_data",
          "data": {
            "application/javascript": [
              "\n",
              "    async function download(id, filename, size) {\n",
              "      if (!google.colab.kernel.accessAllowed) {\n",
              "        return;\n",
              "      }\n",
              "      const div = document.createElement('div');\n",
              "      const label = document.createElement('label');\n",
              "      label.textContent = `Downloading \"${filename}\": `;\n",
              "      div.appendChild(label);\n",
              "      const progress = document.createElement('progress');\n",
              "      progress.max = size;\n",
              "      div.appendChild(progress);\n",
              "      document.body.appendChild(div);\n",
              "\n",
              "      const buffers = [];\n",
              "      let downloaded = 0;\n",
              "\n",
              "      const channel = await google.colab.kernel.comms.open(id);\n",
              "      // Send a message to notify the kernel that we're ready.\n",
              "      channel.send({})\n",
              "\n",
              "      for await (const message of channel.messages) {\n",
              "        // Send a message to notify the kernel that we're ready.\n",
              "        channel.send({})\n",
              "        if (message.buffers) {\n",
              "          for (const buffer of message.buffers) {\n",
              "            buffers.push(buffer);\n",
              "            downloaded += buffer.byteLength;\n",
              "            progress.value = downloaded;\n",
              "          }\n",
              "        }\n",
              "      }\n",
              "      const blob = new Blob(buffers, {type: 'application/binary'});\n",
              "      const a = document.createElement('a');\n",
              "      a.href = window.URL.createObjectURL(blob);\n",
              "      a.download = filename;\n",
              "      div.appendChild(a);\n",
              "      a.click();\n",
              "      div.remove();\n",
              "    }\n",
              "  "
            ],
            "text/plain": [
              "<IPython.core.display.Javascript object>"
            ]
          },
          "metadata": {
            "tags": []
          }
        },
        {
          "output_type": "display_data",
          "data": {
            "application/javascript": [
              "download(\"download_841d9d5f-5257-4b55-b421-48084137cf5d\", \"model_temp_epoch4.pkl\", 63501)"
            ],
            "text/plain": [
              "<IPython.core.display.Javascript object>"
            ]
          },
          "metadata": {
            "tags": []
          }
        },
        {
          "output_type": "stream",
          "text": [
            "Epoch 4: train loss = 2.5715, train_accuracy: 0.5558,val_accuracy: 0.6363, time = 1273.9243\n"
          ],
          "name": "stdout"
        },
        {
          "output_type": "display_data",
          "data": {
            "application/javascript": [
              "\n",
              "    async function download(id, filename, size) {\n",
              "      if (!google.colab.kernel.accessAllowed) {\n",
              "        return;\n",
              "      }\n",
              "      const div = document.createElement('div');\n",
              "      const label = document.createElement('label');\n",
              "      label.textContent = `Downloading \"${filename}\": `;\n",
              "      div.appendChild(label);\n",
              "      const progress = document.createElement('progress');\n",
              "      progress.max = size;\n",
              "      div.appendChild(progress);\n",
              "      document.body.appendChild(div);\n",
              "\n",
              "      const buffers = [];\n",
              "      let downloaded = 0;\n",
              "\n",
              "      const channel = await google.colab.kernel.comms.open(id);\n",
              "      // Send a message to notify the kernel that we're ready.\n",
              "      channel.send({})\n",
              "\n",
              "      for await (const message of channel.messages) {\n",
              "        // Send a message to notify the kernel that we're ready.\n",
              "        channel.send({})\n",
              "        if (message.buffers) {\n",
              "          for (const buffer of message.buffers) {\n",
              "            buffers.push(buffer);\n",
              "            downloaded += buffer.byteLength;\n",
              "            progress.value = downloaded;\n",
              "          }\n",
              "        }\n",
              "      }\n",
              "      const blob = new Blob(buffers, {type: 'application/binary'});\n",
              "      const a = document.createElement('a');\n",
              "      a.href = window.URL.createObjectURL(blob);\n",
              "      a.download = filename;\n",
              "      div.appendChild(a);\n",
              "      a.click();\n",
              "      div.remove();\n",
              "    }\n",
              "  "
            ],
            "text/plain": [
              "<IPython.core.display.Javascript object>"
            ]
          },
          "metadata": {
            "tags": []
          }
        },
        {
          "output_type": "display_data",
          "data": {
            "application/javascript": [
              "download(\"download_d149ff2d-c6a1-4b68-93ea-26ae63bca3ff\", \"model_temp_epoch5.pkl\", 63501)"
            ],
            "text/plain": [
              "<IPython.core.display.Javascript object>"
            ]
          },
          "metadata": {
            "tags": []
          }
        },
        {
          "output_type": "stream",
          "text": [
            "Epoch 5: train loss = 2.3452, train_accuracy: 0.6429,val_accuracy: 0.7307, time = 1241.3303\n"
          ],
          "name": "stdout"
        },
        {
          "output_type": "display_data",
          "data": {
            "application/javascript": [
              "\n",
              "    async function download(id, filename, size) {\n",
              "      if (!google.colab.kernel.accessAllowed) {\n",
              "        return;\n",
              "      }\n",
              "      const div = document.createElement('div');\n",
              "      const label = document.createElement('label');\n",
              "      label.textContent = `Downloading \"${filename}\": `;\n",
              "      div.appendChild(label);\n",
              "      const progress = document.createElement('progress');\n",
              "      progress.max = size;\n",
              "      div.appendChild(progress);\n",
              "      document.body.appendChild(div);\n",
              "\n",
              "      const buffers = [];\n",
              "      let downloaded = 0;\n",
              "\n",
              "      const channel = await google.colab.kernel.comms.open(id);\n",
              "      // Send a message to notify the kernel that we're ready.\n",
              "      channel.send({})\n",
              "\n",
              "      for await (const message of channel.messages) {\n",
              "        // Send a message to notify the kernel that we're ready.\n",
              "        channel.send({})\n",
              "        if (message.buffers) {\n",
              "          for (const buffer of message.buffers) {\n",
              "            buffers.push(buffer);\n",
              "            downloaded += buffer.byteLength;\n",
              "            progress.value = downloaded;\n",
              "          }\n",
              "        }\n",
              "      }\n",
              "      const blob = new Blob(buffers, {type: 'application/binary'});\n",
              "      const a = document.createElement('a');\n",
              "      a.href = window.URL.createObjectURL(blob);\n",
              "      a.download = filename;\n",
              "      div.appendChild(a);\n",
              "      a.click();\n",
              "      div.remove();\n",
              "    }\n",
              "  "
            ],
            "text/plain": [
              "<IPython.core.display.Javascript object>"
            ]
          },
          "metadata": {
            "tags": []
          }
        },
        {
          "output_type": "display_data",
          "data": {
            "application/javascript": [
              "download(\"download_e755f4f5-69aa-466c-a331-46d2358d1bcb\", \"model_temp_epoch6.pkl\", 63501)"
            ],
            "text/plain": [
              "<IPython.core.display.Javascript object>"
            ]
          },
          "metadata": {
            "tags": []
          }
        },
        {
          "output_type": "stream",
          "text": [
            "Epoch 6: train loss = 2.0189, train_accuracy: 0.7315,val_accuracy: 0.7941, time = 1300.1969\n"
          ],
          "name": "stdout"
        },
        {
          "output_type": "display_data",
          "data": {
            "application/javascript": [
              "\n",
              "    async function download(id, filename, size) {\n",
              "      if (!google.colab.kernel.accessAllowed) {\n",
              "        return;\n",
              "      }\n",
              "      const div = document.createElement('div');\n",
              "      const label = document.createElement('label');\n",
              "      label.textContent = `Downloading \"${filename}\": `;\n",
              "      div.appendChild(label);\n",
              "      const progress = document.createElement('progress');\n",
              "      progress.max = size;\n",
              "      div.appendChild(progress);\n",
              "      document.body.appendChild(div);\n",
              "\n",
              "      const buffers = [];\n",
              "      let downloaded = 0;\n",
              "\n",
              "      const channel = await google.colab.kernel.comms.open(id);\n",
              "      // Send a message to notify the kernel that we're ready.\n",
              "      channel.send({})\n",
              "\n",
              "      for await (const message of channel.messages) {\n",
              "        // Send a message to notify the kernel that we're ready.\n",
              "        channel.send({})\n",
              "        if (message.buffers) {\n",
              "          for (const buffer of message.buffers) {\n",
              "            buffers.push(buffer);\n",
              "            downloaded += buffer.byteLength;\n",
              "            progress.value = downloaded;\n",
              "          }\n",
              "        }\n",
              "      }\n",
              "      const blob = new Blob(buffers, {type: 'application/binary'});\n",
              "      const a = document.createElement('a');\n",
              "      a.href = window.URL.createObjectURL(blob);\n",
              "      a.download = filename;\n",
              "      div.appendChild(a);\n",
              "      a.click();\n",
              "      div.remove();\n",
              "    }\n",
              "  "
            ],
            "text/plain": [
              "<IPython.core.display.Javascript object>"
            ]
          },
          "metadata": {
            "tags": []
          }
        },
        {
          "output_type": "display_data",
          "data": {
            "application/javascript": [
              "download(\"download_9ca7a782-7223-4ff1-a128-e7efafa8a6fc\", \"model_temp_epoch7.pkl\", 63501)"
            ],
            "text/plain": [
              "<IPython.core.display.Javascript object>"
            ]
          },
          "metadata": {
            "tags": []
          }
        },
        {
          "output_type": "stream",
          "text": [
            "Epoch 7: train loss = 1.6427, train_accuracy: 0.7951,val_accuracy: 0.8396, time = 1277.9057\n"
          ],
          "name": "stdout"
        }
      ]
    },
    {
      "cell_type": "code",
      "metadata": {
        "colab": {
          "base_uri": "https://localhost:8080/",
          "height": 17
        },
        "id": "tTv2BrGbvSHh",
        "outputId": "801ff32d-24dc-4434-a436-17d9ca832214"
      },
      "source": [
        "torch.save(model, \"model_asap_crf300.pkl\")\r\n",
        "files.download(\"model_asap_crf300.pkl\")"
      ],
      "execution_count": null,
      "outputs": [
        {
          "output_type": "display_data",
          "data": {
            "application/javascript": [
              "\n",
              "    async function download(id, filename, size) {\n",
              "      if (!google.colab.kernel.accessAllowed) {\n",
              "        return;\n",
              "      }\n",
              "      const div = document.createElement('div');\n",
              "      const label = document.createElement('label');\n",
              "      label.textContent = `Downloading \"${filename}\": `;\n",
              "      div.appendChild(label);\n",
              "      const progress = document.createElement('progress');\n",
              "      progress.max = size;\n",
              "      div.appendChild(progress);\n",
              "      document.body.appendChild(div);\n",
              "\n",
              "      const buffers = [];\n",
              "      let downloaded = 0;\n",
              "\n",
              "      const channel = await google.colab.kernel.comms.open(id);\n",
              "      // Send a message to notify the kernel that we're ready.\n",
              "      channel.send({})\n",
              "\n",
              "      for await (const message of channel.messages) {\n",
              "        // Send a message to notify the kernel that we're ready.\n",
              "        channel.send({})\n",
              "        if (message.buffers) {\n",
              "          for (const buffer of message.buffers) {\n",
              "            buffers.push(buffer);\n",
              "            downloaded += buffer.byteLength;\n",
              "            progress.value = downloaded;\n",
              "          }\n",
              "        }\n",
              "      }\n",
              "      const blob = new Blob(buffers, {type: 'application/binary'});\n",
              "      const a = document.createElement('a');\n",
              "      a.href = window.URL.createObjectURL(blob);\n",
              "      a.download = filename;\n",
              "      div.appendChild(a);\n",
              "      a.click();\n",
              "      div.remove();\n",
              "    }\n",
              "  "
            ],
            "text/plain": [
              "<IPython.core.display.Javascript object>"
            ]
          },
          "metadata": {
            "tags": []
          }
        },
        {
          "output_type": "display_data",
          "data": {
            "application/javascript": [
              "download(\"download_2becd0ee-42f6-49a2-a019-3deadfab3a8b\", \"model_asap_crf300.pkl\", 63501)"
            ],
            "text/plain": [
              "<IPython.core.display.Javascript object>"
            ]
          },
          "metadata": {
            "tags": []
          }
        }
      ]
    },
    {
      "cell_type": "markdown",
      "metadata": {
        "id": "sXcmLpCKt28l"
      },
      "source": [
        "## Test on Mdata dataset"
      ]
    },
    {
      "cell_type": "code",
      "metadata": {
        "id": "BacUqgD5usGL"
      },
      "source": [
        "# load the dataset\r\n",
        "with open('/content/pitch-spelling/datasets/musedata.pkl', 'rb') as fid:\r\n",
        "     full_mdata_dict_dataset = pickle.load( fid)"
      ],
      "execution_count": null,
      "outputs": []
    },
    {
      "cell_type": "code",
      "metadata": {
        "id": "jgaUwW2fuwg0",
        "colab": {
          "base_uri": "https://localhost:8080/"
        },
        "outputId": "89fc5f7d-884a-4ee6-fc34-b3d512f0c4c7"
      },
      "source": [
        "mdata_paths = list(set([e[\"original_path\"] for e in full_mdata_dict_dataset ]))\r\n",
        "\r\n",
        "# # remove the symbphony No.100 from Haydn because of the enharmonic transposition\r\n",
        "# paths.remove(\"datasets\\\\opnd\\\\haydndoversyms-10004m.opnd-m\")\r\n",
        "\r\n",
        "# print(paths)\r\n",
        "print(len(mdata_paths), \"different pieces\")\r\n",
        "print(\"Average number of notes: \", np.mean([len(e[\"midi_number\"]) for e in full_mdata_dict_dataset ]))"
      ],
      "execution_count": null,
      "outputs": [
        {
          "output_type": "stream",
          "text": [
            "216 different pieces\n",
            "Average number of notes:  858.6319771007974\n"
          ],
          "name": "stdout"
        }
      ]
    },
    {
      "cell_type": "code",
      "metadata": {
        "id": "f-Fg6gJKvNLt"
      },
      "source": [
        "mdata_dataset = PSDataset(full_mdata_dict_dataset,mdata_paths, transform_chrom,transform_diat,False)\r\n",
        "mdata_dataloader  = DataLoader(mdata_dataset,  batch_size=64, shuffle=False, collate_fn=pad_collate)"
      ],
      "execution_count": null,
      "outputs": []
    },
    {
      "cell_type": "code",
      "metadata": {
        "id": "ml905Mtdvj-T"
      },
      "source": [
        "all_inputs = []\r\n",
        "all_outputs = []\r\n",
        "all_targets = []\r\n",
        "model.eval() # Evaluation mode (e.g. disable dropout)\r\n",
        "with torch.no_grad(): # Disable gradient tracking\r\n",
        "  for seqs, targets,lens in mdata_dataloader:\r\n",
        "    # Move data to device\r\n",
        "    seqs = seqs.to(device)\r\n",
        "\r\n",
        "    # Predict the model's output on a batch.\r\n",
        "    predicted = model.predict(seqs,lens)                   \r\n",
        "    # Update the evaluation statistics.\r\n",
        "    for i,p in enumerate(predicted):\r\n",
        "        all_inputs.append(torch.argmax(seqs[0:int(lens[i]),i,:].cpu(),1).numpy())\r\n",
        "        all_outputs.append(torch.Tensor(p))\r\n",
        "        all_targets.append(targets[0:int(lens[i]),i])"
      ],
      "execution_count": null,
      "outputs": []
    },
    {
      "cell_type": "code",
      "metadata": {
        "id": "OsefdSHxvrWy",
        "colab": {
          "base_uri": "https://localhost:8080/"
        },
        "outputId": "33785b90-5e03-4a6d-86dd-92b6b763a505"
      },
      "source": [
        "# Divide accuracy according to author\r\n",
        "authors = []\r\n",
        "\r\n",
        "for sequence in all_inputs:\r\n",
        "    author = [e[\"original_path\"].split(\"\\\\\")[-1][:3] for e in full_mdata_dict_dataset\r\n",
        "              if len(e[\"midi_number\"]) == len(sequence) and\r\n",
        "              list(e[\"midi_number\"]) ==list(sequence) ]\r\n",
        "    # assert len(author) == 1\r\n",
        "    authors.append(author[0])\r\n",
        "\r\n",
        "considered_authors = list(set(authors))\r\n",
        "print(considered_authors)"
      ],
      "execution_count": null,
      "outputs": [
        {
          "output_type": "stream",
          "text": [
            "['bac', 'hay', 'viv', 'cor', 'han', 'moz', 'tel', 'bee']\n"
          ],
          "name": "stdout"
        }
      ]
    },
    {
      "cell_type": "code",
      "metadata": {
        "id": "XgNt_yG7vrfd",
        "colab": {
          "base_uri": "https://localhost:8080/"
        },
        "outputId": "8473393f-dac6-4930-9d9e-da9c1046f1ab"
      },
      "source": [
        "errors_per_author = {}\r\n",
        "accuracy_per_author = {}\r\n",
        "for ca in considered_authors:\r\n",
        "    # ca_inputs = torch.cat([all_inputs[i] for i,a in enumerate(authors) if a == ca])\r\n",
        "    ca_outputs = torch.cat([all_outputs[i] for i,a in enumerate(authors) if a == ca])\r\n",
        "    ca_targets = torch.cat([all_targets[i] for i,a in enumerate(authors) if a == ca])\r\n",
        "    # print(ca_inputs.shape,ca_outputs.shape,ca_targets.shape,ca_predicted_pitches.shape)\r\n",
        "    ca_acc = accuracy_score(ca_outputs,ca_targets)\r\n",
        "    accuracy_per_author[ca] = float(ca_acc)\r\n",
        "    errors_per_author[ca] = int(len(ca_targets) - sum(torch.eq(ca_outputs,ca_targets)))\r\n",
        "\r\n",
        "print(errors_per_author)\r\n",
        "print(accuracy_per_author)"
      ],
      "execution_count": null,
      "outputs": [
        {
          "output_type": "stream",
          "text": [
            "{'bac': 124, 'hay': 371, 'viv': 110, 'cor': 22, 'han': 67, 'moz': 184, 'tel': 64, 'bee': 270}\n",
            "{'bac': 0.9949398082024077, 'hay': 0.9848509595753369, 'viv': 0.9955096542433768, 'cor': 0.999101784183236, 'han': 0.997265306122449, 'moz': 0.9924879562341798, 'tel': 0.9973877551020408, 'bee': 0.9889764422488058}\n"
          ],
          "name": "stdout"
        }
      ]
    },
    {
      "cell_type": "code",
      "metadata": {
        "id": "J5s0d56evrje"
      },
      "source": [
        ""
      ],
      "execution_count": null,
      "outputs": []
    },
    {
      "cell_type": "code",
      "metadata": {
        "id": "cVvP1eH8vrl3"
      },
      "source": [
        ""
      ],
      "execution_count": null,
      "outputs": []
    }
  ]
}