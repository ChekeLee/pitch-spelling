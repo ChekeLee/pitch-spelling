{
 "cells": [
  {
   "cell_type": "markdown",
   "metadata": {
    "colab_type": "text",
    "id": "view-in-github"
   },
   "source": [
    "<a href=\"https://colab.research.google.com/github/fosfrancesco/pitch-spelling/blob/main/rnncrf_pitch_spelling.ipynb\" target=\"_parent\"><img src=\"https://colab.research.google.com/assets/colab-badge.svg\" alt=\"Open In Colab\"/></a>"
   ]
  },
  {
   "cell_type": "code",
   "execution_count": 1,
   "metadata": {
    "colab": {
     "base_uri": "https://localhost:8080/"
    },
    "id": "fifMg_hxNSOg",
    "outputId": "a8b320f9-4231-40d9-8f10-a7b8acd1da37"
   },
   "outputs": [
    {
     "name": "stdout",
     "output_type": "stream",
     "text": [
      "Collecting pytorch-crf\n",
      "  Downloading https://files.pythonhosted.org/packages/96/7d/4c4688e26ea015fc118a0327e5726e6596836abce9182d3738be8ec2e32a/pytorch_crf-0.7.2-py3-none-any.whl\n",
      "Installing collected packages: pytorch-crf\n",
      "Successfully installed pytorch-crf-0.7.2\n"
     ]
    }
   ],
   "source": [
    "! pip install --upgrade pytorch-crf"
   ]
  },
  {
   "cell_type": "code",
   "execution_count": 1,
   "metadata": {
    "id": "hsciybUBNkur"
   },
   "outputs": [],
   "source": [
    "# from google.colab import files\n",
    "\n",
    "import music21 as m21\n",
    "import matplotlib.pyplot as plt\n",
    "import sklearn\n",
    "import sklearn.model_selection\n",
    "import pickle\n",
    "\n",
    "from pathlib import Path\n",
    "import json\n",
    "import matplotlib.pyplot as plt\n",
    "import numpy as np\n",
    "import sklearn.model_selection\n",
    "import sklearn\n",
    "import music21 as m21\n",
    "from collections import Counter\n",
    "\n",
    "import torch\n",
    "import torch.nn as nn\n",
    "from torchvision import transforms\n",
    "from torch.utils.data import Dataset, DataLoader\n",
    "from torch.utils.data import random_split\n",
    "from torch.nn.utils.rnn import pad_sequence\n",
    "from torchcrf import CRF\n",
    "\n",
    "from sklearn.metrics import confusion_matrix\n",
    "from sklearn.metrics import accuracy_score\n",
    "\n",
    "from tqdm import tqdm, tqdm_notebook, notebook\n",
    "import pickle\n",
    "\n",
    "from sklearn.metrics import accuracy_score\n",
    "\n",
    "import time\n",
    "\n",
    "from collections import defaultdict, Counter\n",
    "# import optuna"
   ]
  },
  {
   "cell_type": "markdown",
   "metadata": {
    "id": "Naq6UG5jRbyK"
   },
   "source": [
    "# RNN-CRF for Pitch Spelling\n",
    "\n",
    "Dataset: different authors from ASAP collection\n",
    "Challenges:\n",
    "- extremely long sequences\n",
    "- small dataset"
   ]
  },
  {
   "cell_type": "code",
   "execution_count": 2,
   "metadata": {
    "colab": {
     "base_uri": "https://localhost:8080/"
    },
    "id": "2mHJvrZ2Wo_e",
    "outputId": "1319f78b-cfb1-4e2a-937c-c47cf952757c"
   },
   "outputs": [
    {
     "name": "stdout",
     "output_type": "stream",
     "text": [
      "[(0, 'C'), (1, 'B#'), (2, 'D--'), (3, 'C#'), (4, 'B##'), (5, 'D-'), (6, 'D'), (7, 'C##'), (8, 'E--'), (9, 'D#'), (10, 'E-'), (11, 'F--'), (12, 'E'), (13, 'D##'), (14, 'F-'), (15, 'F'), (16, 'E#'), (17, 'G--'), (18, 'F#'), (19, 'E##'), (20, 'G-'), (21, 'G'), (22, 'F##'), (23, 'A--'), (24, 'G#'), (25, 'A-'), (26, 'A'), (27, 'G##'), (28, 'B--'), (29, 'A#'), (30, 'B-'), (31, 'C--'), (32, 'B'), (33, 'A##'), (34, 'C-')]\n",
      "['D--', 'B##', 'C##', 'E--', 'F--', 'D##', 'G--', 'E##', 'F##', 'A--', 'G##', 'B--', 'C--', 'A##']\n",
      "[(0, 'P1'), (1, 'd2'), (2, 'A7'), (3, 'm2'), (4, 'A1'), (5, 'M2'), (6, 'd3'), (7, 'AA1'), (8, 'm3'), (9, 'A2'), (10, 'M3'), (11, 'd4'), (12, 'AA2'), (13, 'P4'), (14, 'A3'), (15, 'd5'), (16, 'A4'), (17, 'P5'), (18, 'd6'), (19, 'AA4'), (20, 'm6'), (21, 'A5'), (22, 'M6'), (23, 'd7'), (24, 'AA5'), (25, 'm7'), (26, 'A6'), (27, 'M7'), (28, 'd1'), (29, 'AA6')]\n"
     ]
    }
   ],
   "source": [
    "pitches_dict = {\n",
    "    0 : [\"C\",\"B#\",\"D--\"], # nn.Linear(input_size+context_size, 3)\n",
    "    1 : [\"C#\",\"B##\",\"D-\"], # nn.Linear(input_size+context_size, 2)\n",
    "    2 : [\"D\",\"C##\",\"E--\"], # nn.Linear(input_size+context_size, 3)\n",
    "    3 : [\"D#\",\"E-\",\"F--\"],\n",
    "    4 : [\"E\",\"D##\",\"F-\"],\n",
    "    5 : [\"F\",\"E#\",\"G--\"],\n",
    "    6 : [\"F#\",\"E##\",\"G-\"],\n",
    "    7 : [\"G\",\"F##\",\"A--\"],\n",
    "    8 : [\"G#\",\"A-\"],\n",
    "    9 : [\"A\",\"G##\",\"B--\"],\n",
    "    10 : [\"A#\",\"B-\",\"C--\"],\n",
    "    11 : [\"B\",\"A##\",\"C-\"]\n",
    "}\n",
    "\n",
    "accepted_pitches = [ii for i in pitches_dict.values() for ii in i]\n",
    "print([e for e in enumerate(accepted_pitches)])\n",
    "\n",
    "double_acc_pitches = [ii for i in pitches_dict.values() for ii in i if ii.endswith(\"##\") or  ii.endswith(\"--\") ]\n",
    "print(double_acc_pitches)\n",
    "\n",
    "def score2midi_numbers(score):\n",
    "  return [p.midi%12 for n in score.flat.notes for p in n.pitches]\n",
    "\n",
    "def score2pitches(score):\n",
    "  return [p.name for n in score.flat.notes for p in n.pitches]\n",
    "\n",
    "interval_dict = {\n",
    "    0 : [\"P1\",\"d2\",\"A7\"], \n",
    "    1 : [\"m2\",\"A1\"], \n",
    "    2 : [\"M2\",\"d3\",\"AA1\"], \n",
    "    3 : [\"m3\",\"A2\"],\n",
    "    4 : [\"M3\",\"d4\",\"AA2\"],\n",
    "    5 : [\"P4\",\"A3\"],\n",
    "    6 : [\"d5\",\"A4\"],\n",
    "    7 : [\"P5\",\"d6\",\"AA4\"],\n",
    "    8 : [\"m6\",\"A5\"],\n",
    "    9 : [\"M6\",\"d7\",\"AA5\"],\n",
    "    10 : [\"m7\",\"A6\"],\n",
    "    11 : [\"M7\",\"d1\",\"AA6\"]\n",
    "}\n",
    "\n",
    "accepted_intervals = [ii for i in interval_dict.values() for ii in i]\n",
    "print([e for e in enumerate(accepted_intervals)])\n",
    "\n",
    "def transp_score(score):\n",
    "    \"\"\" For each input return len(accepted_intervals) transposed scores\"\"\"\n",
    "    return [score.transpose(interval) for interval in accepted_intervals]\n",
    "\n",
    "def smart_transp_score(score):\n",
    "    \"\"\" For each chromatic interval chose the interval that lead to the smallest number of accidentals\"\"\"\n",
    "    scores = []\n",
    "    for chromatic_int in interval_dict.keys():\n",
    "        temp_scores = []\n",
    "        temp_acc_number = []\n",
    "        for diat_interval in interval_dict[chromatic_int]:\n",
    "            new_score = score.transpose(diat_interval)\n",
    "            temp_scores.append(new_score)\n",
    "            temp_acc_number.append(sum([pitch.count(\"#\") + pitch.count(\"-\") for pitch in score2pitches(new_score)]))\n",
    "            # print(\"choice:\", [note.name for note in temp_scores[-1].flat.notes][0:10],\"acc:\",temp_acc_number[-1] )\n",
    "        #keep only the one with the lowest number of accidentals\n",
    "        min_index = np.argmin(temp_acc_number)\n",
    "        # print(\"preferred the number\", min_index)\n",
    "        scores.append(temp_scores[min_index])\n",
    "    return scores\n",
    "\n",
    "def acc_simple_enough(score,accepted_ratio = 0.2 ):\n",
    "    pitches = score2pitches(score)\n",
    "    double_acc = sum(el in double_acc_pitches for el in pitches)\n",
    "    if double_acc/len(pitches) < accepted_ratio:\n",
    "        return True\n",
    "    else:\n",
    "        return False\n",
    "\n",
    "def argmax(vec):\n",
    "    # return the argmax as a python int\n",
    "    _, idx = torch.max(vec, 1)\n",
    "    return idx.item()\n",
    "\n",
    "\n",
    "# Compute log sum exp in a numerically stable way for the forward algorithm\n",
    "def log_sum_exp(vec):\n",
    "    max_score = vec[0, argmax(vec)]\n",
    "    max_score_broadcast = max_score.view(1, -1).expand(1, vec.size()[1])\n",
    "    return max_score + \\\n",
    "        torch.log(torch.sum(torch.exp(vec - max_score_broadcast)))\n",
    "\n",
    "\n",
    "diatonic_pitches = [\"C\",\"D\", \"E\", \"F\", \"G\", \"A\", \"B\"]\n",
    "\n",
    "# #test acc_simple_enough()\n",
    "# score = m21.converter.parse(paths[356])\n",
    "# scores = smart_transp_score(score)\n",
    "# #delete the pieces with non accepted pitches (e.g. triple sharps)\n",
    "# scores = [s for s in scores if all(pitch in accepted_pitches for pitch in score2pitches(s))]\n",
    "# for s in scores:\n",
    "#     print(s.parts[0].flat.getElementsByClass(m21.key.KeySignature)[0], \"simple enough:\", acc_simple_enough(s))\n",
    "#     print([n.name for n in s.flat.notes])"
   ]
  },
  {
   "cell_type": "markdown",
   "metadata": {
    "id": "gw-SuL4ZB_2C"
   },
   "source": [
    "## Import ASAP dataset"
   ]
  },
  {
   "cell_type": "code",
   "execution_count": 3,
   "metadata": {
    "colab": {
     "base_uri": "https://localhost:8080/"
    },
    "id": "CrZ0BwLEj2Gp",
    "outputId": "6b521f78-28db-4d4f-f4ef-9345c5d91db9"
   },
   "outputs": [],
   "source": [
    "# !git clone https://github.com/fosfrancesco/pitch-spelling.git"
   ]
  },
  {
   "cell_type": "code",
   "execution_count": 4,
   "metadata": {
    "id": "WaINjDS2kpxE"
   },
   "outputs": [],
   "source": [
    "basepath = \"./\" #to change if running locally or on colab\n",
    "\n",
    "# load the asap datasets\n",
    "with open(Path(basepath,'datasets','baroque_asap.pkl'), 'rb') as fid:\n",
    "     dataset_baroque = pickle.load( fid)\n",
    "\n",
    "with open(Path(basepath,'datasets','classical_asap.pkl'), 'rb') as fid:\n",
    "     dataset_classical = pickle.load( fid)\n",
    "\n",
    "with open(Path(basepath,'datasets','romantic_asap.pkl'), 'rb') as fid:\n",
    "     dataset_romantic = pickle.load( fid)\n",
    "\n",
    "# merge the three files together\n",
    "full_dict_dataset = dataset_baroque + dataset_classical + dataset_romantic\n",
    "# full_dict_dataset = dataset_baroque + dataset_classical"
   ]
  },
  {
   "cell_type": "code",
   "execution_count": 5,
   "metadata": {
    "colab": {
     "base_uri": "https://localhost:8080/"
    },
    "id": "pYQdkJAiTS6_",
    "outputId": "72835948-2884-40bb-e5b4-6ebbc8488895"
   },
   "outputs": [
    {
     "name": "stdout",
     "output_type": "stream",
     "text": [
      "191 different pieces\n",
      "Average number of notes:  2219.6285387474977\n"
     ]
    }
   ],
   "source": [
    "paths = list(set([e[\"original_path\"] for e in full_dict_dataset ]))\n",
    "\n",
    "# print(paths)\n",
    "print(len(paths), \"different pieces\")\n",
    "print(\"Average number of notes: \", np.mean([len(e[\"midi_number\"]) for e in full_dict_dataset ]))\n"
   ]
  },
  {
   "cell_type": "markdown",
   "metadata": {
    "id": "IMdKkzNnCTrK"
   },
   "source": [
    "## Chose the convenient data augmentation\n",
    "Two possibilities:\n",
    "- for each chromatic interval, take only the diatonic transposition that produce the smallest number of accidentals (or the original if present)\n",
    "- take only a certain interval of time signatures\n",
    "\n",
    "The second is probably better for a smaller and simple dataset, but gives the problem of chosing between for example F# and G# that are both present in this bigger dataset. So we go for the first criterion."
   ]
  },
  {
   "cell_type": "code",
   "execution_count": 6,
   "metadata": {
    "colab": {
     "base_uri": "https://localhost:8080/"
    },
    "id": "Oign7EZ9BSX4",
    "outputId": "9aa3f694-289a-43fd-fd14-9cad3b8dd3b7"
   },
   "outputs": [
    {
     "name": "stdout",
     "output_type": "stream",
     "text": [
      "No options for Chopin/Sonata_2/2nd/xml_score.musicxml . Chromatic:  4\n",
      "No options for Chopin/Sonata_2/2nd/xml_score.musicxml . Chromatic:  6\n",
      "No options for Chopin/Sonata_2/2nd/xml_score.musicxml . Chromatic:  9\n",
      "No options for Chopin/Sonata_2/2nd/xml_score.musicxml . Chromatic:  11\n",
      "No options for Schubert/Wanderer_fantasie/xml_score.musicxml . Chromatic:  1\n",
      "No options for Schubert/Wanderer_fantasie/xml_score.musicxml . Chromatic:  4\n",
      "No options for Schubert/Wanderer_fantasie/xml_score.musicxml . Chromatic:  6\n",
      "No options for Schubert/Wanderer_fantasie/xml_score.musicxml . Chromatic:  9\n",
      "No options for Schubert/Wanderer_fantasie/xml_score.musicxml . Chromatic:  11\n",
      "No options for Chopin/Sonata_2/1st_no_repeat/xml_score.musicxml . Chromatic:  1\n",
      "No options for Chopin/Sonata_3/4th/xml_score.musicxml . Chromatic:  1\n",
      "No options for Chopin/Sonata_3/4th/xml_score.musicxml . Chromatic:  3\n",
      "No options for Chopin/Sonata_3/4th/xml_score.musicxml . Chromatic:  6\n",
      "No options for Chopin/Sonata_3/4th/xml_score.musicxml . Chromatic:  8\n",
      "No options for Chopin/Sonata_3/4th/xml_score.musicxml . Chromatic:  10\n",
      "No options for Chopin/Sonata_3/4th/xml_score.musicxml . Chromatic:  11\n",
      "No options for Chopin/Ballades/4/xml_score.musicxml . Chromatic:  6\n",
      "No options for Chopin/Etudes_op_25/10/xml_score.musicxml . Chromatic:  4\n",
      "No options for Chopin/Etudes_op_25/10/xml_score.musicxml . Chromatic:  9\n",
      "No options for Chopin/Etudes_op_10/4/xml_score.musicxml . Chromatic:  4\n",
      "No options for Chopin/Etudes_op_10/4/xml_score.musicxml . Chromatic:  9\n",
      "Schumann/Kreisleriana/1/xml_score.musicxml P1 -1\n",
      "['A', 'B-', 'E', 'C#', 'E', 'A', 'A', 'G', 'A', 'B-']\n",
      "[9, 10, 4, 1, 4, 9, 9, 7, 9, 10]\n",
      "Schumann/Kreisleriana/1/xml_score.musicxml m2 -6\n",
      "['B-', 'C-', 'F', 'D', 'F', 'B-', 'B-', 'A-', 'B-', 'C-']\n",
      "[10, 11, 5, 2, 5, 10, 10, 8, 10, 11]\n",
      "Schumann/Kreisleriana/1/xml_score.musicxml M2 1\n",
      "['B', 'C', 'F#', 'D#', 'F#', 'B', 'B', 'A', 'B', 'C']\n",
      "[11, 0, 6, 3, 6, 11, 11, 9, 11, 0]\n",
      "Schumann/Kreisleriana/1/xml_score.musicxml m3 -4\n",
      "['C', 'D-', 'G', 'E', 'G', 'C', 'C', 'B-', 'C', 'D-']\n",
      "[0, 1, 7, 4, 7, 0, 0, 10, 0, 1]\n",
      "Schumann/Kreisleriana/1/xml_score.musicxml M3 3\n",
      "['C#', 'D', 'G#', 'E#', 'G#', 'C#', 'C#', 'B', 'C#', 'D']\n",
      "[1, 2, 8, 5, 8, 1, 1, 11, 1, 2]\n",
      "Schumann/Kreisleriana/1/xml_score.musicxml P4 -2\n",
      "['D', 'E-', 'A', 'F#', 'A', 'D', 'D', 'C', 'D', 'E-']\n",
      "[2, 3, 9, 6, 9, 2, 2, 0, 2, 3]\n",
      "Schumann/Kreisleriana/1/xml_score.musicxml A4 5\n",
      "['D#', 'E', 'A#', 'F##', 'A#', 'D#', 'D#', 'C#', 'D#', 'E']\n",
      "[3, 4, 10, 7, 10, 3, 3, 1, 3, 4]\n",
      "Schumann/Kreisleriana/1/xml_score.musicxml P5 0\n",
      "['E', 'F', 'B', 'G#', 'B', 'E', 'E', 'D', 'E', 'F']\n",
      "[4, 5, 11, 8, 11, 4, 4, 2, 4, 5]\n",
      "Schumann/Kreisleriana/1/xml_score.musicxml m6 -5\n",
      "['F', 'G-', 'C', 'A', 'C', 'F', 'F', 'E-', 'F', 'G-']\n",
      "[5, 6, 0, 9, 0, 5, 5, 3, 5, 6]\n",
      "Schumann/Kreisleriana/1/xml_score.musicxml M6 2\n",
      "['F#', 'G', 'C#', 'A#', 'C#', 'F#', 'F#', 'E', 'F#', 'G']\n",
      "[6, 7, 1, 10, 1, 6, 6, 4, 6, 7]\n",
      "Schumann/Kreisleriana/1/xml_score.musicxml m7 -3\n",
      "['G', 'A-', 'D', 'B', 'D', 'G', 'G', 'F', 'G', 'A-']\n",
      "[7, 8, 2, 11, 2, 7, 7, 5, 7, 8]\n",
      "Schumann/Kreisleriana/1/xml_score.musicxml M7 4\n",
      "['G#', 'A', 'D#', 'B#', 'D#', 'G#', 'G#', 'F#', 'G#', 'A']\n",
      "[8, 9, 3, 0, 3, 8, 8, 6, 8, 9]\n",
      "Beethoven/Piano_Sonatas/29-3/xml_score.musicxml P1 3\n",
      "['A', 'A', 'A', 'C#', 'C#', 'C#', 'A', 'C#', 'C#', 'F#']\n",
      "[9, 9, 9, 1, 1, 1, 9, 1, 1, 6]\n",
      "Beethoven/Piano_Sonatas/29-3/xml_score.musicxml m2 -2\n",
      "['B-', 'B-', 'B-', 'D', 'D', 'D', 'B-', 'D', 'D', 'G']\n",
      "[10, 10, 10, 2, 2, 2, 10, 2, 2, 7]\n",
      "Beethoven/Piano_Sonatas/29-3/xml_score.musicxml M2 5\n",
      "['B', 'B', 'B', 'D#', 'D#', 'D#', 'B', 'D#', 'D#', 'G#']\n",
      "[11, 11, 11, 3, 3, 3, 11, 3, 3, 8]\n",
      "Beethoven/Piano_Sonatas/29-3/xml_score.musicxml m3 0\n",
      "['C', 'C', 'C', 'E', 'E', 'E', 'C', 'E', 'E', 'A']\n",
      "[0, 0, 0, 4, 4, 4, 0, 4, 4, 9]\n",
      "Beethoven/Piano_Sonatas/29-3/xml_score.musicxml d4 -5\n",
      "['D-', 'D-', 'D-', 'F', 'F', 'F', 'D-', 'F', 'F', 'B-']\n",
      "[1, 1, 1, 5, 5, 5, 1, 5, 5, 10]\n",
      "Beethoven/Piano_Sonatas/29-3/xml_score.musicxml P4 2\n",
      "['D', 'D', 'D', 'F#', 'F#', 'F#', 'D', 'F#', 'F#', 'B']\n",
      "[2, 2, 2, 6, 6, 6, 2, 6, 6, 11]\n",
      "Beethoven/Piano_Sonatas/29-3/xml_score.musicxml d5 -3\n",
      "['E-', 'E-', 'E-', 'G', 'G', 'G', 'E-', 'G', 'G', 'C']\n",
      "[3, 3, 3, 7, 7, 7, 3, 7, 7, 0]\n",
      "Beethoven/Piano_Sonatas/29-3/xml_score.musicxml P5 4\n",
      "['E', 'E', 'E', 'G#', 'G#', 'G#', 'E', 'G#', 'G#', 'C#']\n",
      "[4, 4, 4, 8, 8, 8, 4, 8, 8, 1]\n",
      "Beethoven/Piano_Sonatas/29-3/xml_score.musicxml m6 -1\n",
      "['F', 'F', 'F', 'A', 'A', 'A', 'F', 'A', 'A', 'D']\n",
      "[5, 5, 5, 9, 9, 9, 5, 9, 9, 2]\n",
      "Beethoven/Piano_Sonatas/29-3/xml_score.musicxml M6 6\n",
      "['F#', 'F#', 'F#', 'A#', 'A#', 'A#', 'F#', 'A#', 'A#', 'D#']\n",
      "[6, 6, 6, 10, 10, 10, 6, 10, 10, 3]\n",
      "Beethoven/Piano_Sonatas/29-3/xml_score.musicxml m7 1\n",
      "['G', 'G', 'G', 'B', 'B', 'B', 'G', 'B', 'B', 'E']\n",
      "[7, 7, 7, 11, 11, 11, 7, 11, 11, 4]\n",
      "Beethoven/Piano_Sonatas/29-3/xml_score.musicxml d1 -4\n",
      "['A-', 'A-', 'A-', 'C', 'C', 'C', 'A-', 'C', 'C', 'F']\n",
      "[8, 8, 8, 0, 0, 0, 8, 0, 0, 5]\n",
      "Beethoven/Piano_Sonatas/31-1/xml_score.musicxml P1 -4\n",
      "['C', 'A-', 'A-', 'E-', 'A-', 'E-', 'C', 'E-', 'A-', 'E-']\n",
      "[0, 8, 8, 3, 8, 3, 0, 3, 8, 3]\n",
      "Beethoven/Piano_Sonatas/31-1/xml_score.musicxml A1 3\n",
      "['C#', 'A', 'A', 'E', 'A', 'E', 'C#', 'E', 'A', 'E']\n",
      "[1, 9, 9, 4, 9, 4, 1, 4, 9, 4]\n",
      "Beethoven/Piano_Sonatas/31-1/xml_score.musicxml M2 -2\n",
      "['D', 'B-', 'B-', 'F', 'B-', 'F', 'D', 'F', 'B-', 'F']\n",
      "[2, 10, 10, 5, 10, 5, 2, 5, 10, 5]\n",
      "Beethoven/Piano_Sonatas/31-1/xml_score.musicxml m3 -7\n",
      "['E-', 'C-', 'C-', 'G-', 'C-', 'G-', 'E-', 'G-', 'C-', 'G-']\n",
      "[3, 11, 11, 6, 11, 6, 3, 6, 11, 6]\n",
      "Beethoven/Piano_Sonatas/31-1/xml_score.musicxml M3 0\n",
      "['E', 'C', 'C', 'G', 'C', 'G', 'E', 'G', 'C', 'G']\n",
      "[4, 0, 0, 7, 0, 7, 4, 7, 0, 7]\n",
      "Beethoven/Piano_Sonatas/31-1/xml_score.musicxml P4 -5\n",
      "['F', 'D-', 'D-', 'A-', 'D-', 'A-', 'F', 'A-', 'D-', 'A-']\n",
      "[5, 1, 1, 8, 1, 8, 5, 8, 1, 8]\n",
      "Beethoven/Piano_Sonatas/31-1/xml_score.musicxml A4 2\n",
      "['F#', 'D', 'D', 'A', 'D', 'A', 'F#', 'A', 'D', 'A']\n",
      "[6, 2, 2, 9, 2, 9, 6, 9, 2, 9]\n",
      "Beethoven/Piano_Sonatas/31-1/xml_score.musicxml P5 -3\n",
      "['G', 'E-', 'E-', 'B-', 'E-', 'B-', 'G', 'B-', 'E-', 'B-']\n",
      "[7, 3, 3, 10, 3, 10, 7, 10, 3, 10]\n",
      "Beethoven/Piano_Sonatas/31-1/xml_score.musicxml m6 -8\n",
      "['A-', 'F-', 'F-', 'C-', 'F-', 'C-', 'A-', 'C-', 'F-', 'C-']\n",
      "[8, 4, 4, 11, 4, 11, 8, 11, 4, 11]\n",
      "Beethoven/Piano_Sonatas/31-1/xml_score.musicxml M6 -1\n",
      "['A', 'F', 'F', 'C', 'F', 'C', 'A', 'C', 'F', 'C']\n",
      "[9, 5, 5, 0, 5, 0, 9, 0, 5, 0]\n",
      "Beethoven/Piano_Sonatas/31-1/xml_score.musicxml m7 -6\n",
      "['B-', 'G-', 'G-', 'D-', 'G-', 'D-', 'B-', 'D-', 'G-', 'D-']\n",
      "[10, 6, 6, 1, 6, 1, 10, 1, 6, 1]\n",
      "Beethoven/Piano_Sonatas/31-1/xml_score.musicxml M7 1\n",
      "['B', 'G', 'G', 'D', 'G', 'D', 'B', 'D', 'G', 'D']\n",
      "[11, 7, 7, 2, 7, 2, 11, 2, 7, 2]\n",
      "Chopin/Etudes_op_10/7/xml_score.musicxml P1 0\n",
      "['G', 'E', 'G', 'C', 'C', 'E', 'C', 'F', 'A-', 'F']\n",
      "[7, 4, 7, 0, 0, 4, 0, 5, 8, 5]\n",
      "Chopin/Etudes_op_10/7/xml_score.musicxml m2 -5\n",
      "['A-', 'F', 'A-', 'D-', 'D-', 'F', 'D-', 'G-', 'B--', 'G-']\n",
      "[8, 5, 8, 1, 1, 5, 1, 6, 9, 6]\n",
      "Chopin/Etudes_op_10/7/xml_score.musicxml M2 2\n",
      "['A', 'F#', 'A', 'D', 'D', 'F#', 'D', 'G', 'B-', 'G']\n",
      "[9, 6, 9, 2, 2, 6, 2, 7, 10, 7]\n",
      "Chopin/Etudes_op_10/7/xml_score.musicxml m3 -3\n",
      "['B-', 'G', 'B-', 'E-', 'E-', 'G', 'E-', 'A-', 'C-', 'A-']\n",
      "[10, 7, 10, 3, 3, 7, 3, 8, 11, 8]\n",
      "Chopin/Etudes_op_10/7/xml_score.musicxml M3 4\n",
      "['B', 'G#', 'B', 'E', 'E', 'G#', 'E', 'A', 'C', 'A']\n",
      "[11, 8, 11, 4, 4, 8, 4, 9, 0, 9]\n",
      "Chopin/Etudes_op_10/7/xml_score.musicxml P4 -1\n",
      "['C', 'A', 'C', 'F', 'F', 'A', 'F', 'B-', 'D-', 'B-']\n",
      "[0, 9, 0, 5, 5, 9, 5, 10, 1, 10]\n",
      "Chopin/Etudes_op_10/7/xml_score.musicxml A4 6\n",
      "['C#', 'A#', 'C#', 'F#', 'F#', 'A#', 'F#', 'B', 'D', 'B']\n",
      "[1, 10, 1, 6, 6, 10, 6, 11, 2, 11]\n",
      "Chopin/Etudes_op_10/7/xml_score.musicxml P5 1\n",
      "['D', 'B', 'D', 'G', 'G', 'B', 'G', 'C', 'E-', 'C']\n",
      "[2, 11, 2, 7, 7, 11, 7, 0, 3, 0]\n",
      "Chopin/Etudes_op_10/7/xml_score.musicxml m6 -4\n",
      "['E-', 'C', 'E-', 'A-', 'A-', 'C', 'A-', 'D-', 'F-', 'D-']\n",
      "[3, 0, 3, 8, 8, 0, 8, 1, 4, 1]\n",
      "Chopin/Etudes_op_10/7/xml_score.musicxml M6 3\n",
      "['E', 'C#', 'E', 'A', 'A', 'C#', 'A', 'D', 'F', 'D']\n",
      "[4, 1, 4, 9, 9, 1, 9, 2, 5, 2]\n",
      "Chopin/Etudes_op_10/7/xml_score.musicxml m7 -2\n",
      "['F', 'D', 'F', 'B-', 'B-', 'D', 'B-', 'E-', 'G-', 'E-']\n",
      "[5, 2, 5, 10, 10, 2, 10, 3, 6, 3]\n",
      "Chopin/Etudes_op_10/7/xml_score.musicxml M7 5\n",
      "['F#', 'D#', 'F#', 'B', 'B', 'D#', 'B', 'E', 'G', 'E']\n",
      "[6, 3, 6, 11, 11, 3, 11, 4, 7, 4]\n",
      "Beethoven/Piano_Sonatas/11-2/xml_score.musicxml P1 -3\n",
      "['E-', 'G', 'B-', 'E-', 'G', 'B-', 'E-', 'G', 'B-', 'E-']\n",
      "[3, 7, 10, 3, 7, 10, 3, 7, 10, 3]\n",
      "Beethoven/Piano_Sonatas/11-2/xml_score.musicxml A1 4\n",
      "['E', 'G#', 'B', 'E', 'G#', 'B', 'E', 'G#', 'B', 'E']\n",
      "[4, 8, 11, 4, 8, 11, 4, 8, 11, 4]\n",
      "Beethoven/Piano_Sonatas/11-2/xml_score.musicxml M2 -1\n",
      "['F', 'A', 'C', 'F', 'A', 'C', 'F', 'A', 'C', 'F']\n",
      "[5, 9, 0, 5, 9, 0, 5, 9, 0, 5]\n",
      "Beethoven/Piano_Sonatas/11-2/xml_score.musicxml m3 -6\n",
      "['G-', 'B-', 'D-', 'G-', 'B-', 'D-', 'G-', 'B-', 'D-', 'G-']\n",
      "[6, 10, 1, 6, 10, 1, 6, 10, 1, 6]\n",
      "Beethoven/Piano_Sonatas/11-2/xml_score.musicxml M3 1\n",
      "['G', 'B', 'D', 'G', 'B', 'D', 'G', 'B', 'D', 'G']\n",
      "[7, 11, 2, 7, 11, 2, 7, 11, 2, 7]\n",
      "Beethoven/Piano_Sonatas/11-2/xml_score.musicxml P4 -4\n",
      "['A-', 'C', 'E-', 'A-', 'C', 'E-', 'A-', 'C', 'E-', 'A-']\n",
      "[8, 0, 3, 8, 0, 3, 8, 0, 3, 8]\n",
      "Beethoven/Piano_Sonatas/11-2/xml_score.musicxml A4 3\n",
      "['A', 'C#', 'E', 'A', 'C#', 'E', 'A', 'C#', 'E', 'A']\n",
      "[9, 1, 4, 9, 1, 4, 9, 1, 4, 9]\n",
      "Beethoven/Piano_Sonatas/11-2/xml_score.musicxml P5 -2\n",
      "['B-', 'D', 'F', 'B-', 'D', 'F', 'B-', 'D', 'F', 'B-']\n",
      "[10, 2, 5, 10, 2, 5, 10, 2, 5, 10]\n",
      "Beethoven/Piano_Sonatas/11-2/xml_score.musicxml A5 5\n",
      "['B', 'D#', 'F#', 'B', 'D#', 'F#', 'B', 'D#', 'F#', 'B']\n",
      "[11, 3, 6, 11, 3, 6, 11, 3, 6, 11]\n",
      "Beethoven/Piano_Sonatas/11-2/xml_score.musicxml M6 0\n",
      "['C', 'E', 'G', 'C', 'E', 'G', 'C', 'E', 'G', 'C']\n",
      "[0, 4, 7, 0, 4, 7, 0, 4, 7, 0]\n",
      "Beethoven/Piano_Sonatas/11-2/xml_score.musicxml m7 -5\n",
      "['D-', 'F', 'A-', 'D-', 'F', 'A-', 'D-', 'F', 'A-', 'D-']\n",
      "[1, 5, 8, 1, 5, 8, 1, 5, 8, 1]\n",
      "Beethoven/Piano_Sonatas/11-2/xml_score.musicxml M7 2\n",
      "['D', 'F#', 'A', 'D', 'F#', 'A', 'D', 'F#', 'A', 'D']\n",
      "[2, 6, 9, 2, 6, 9, 2, 6, 9, 2]\n",
      "Schubert/Impromptu_op142/3/xml_score.musicxml P1 -2\n",
      "['D', 'B-', 'D', 'D', 'F', 'B-', 'D', 'D', 'B-', 'D']\n",
      "[2, 10, 2, 2, 5, 10, 2, 2, 10, 2]\n",
      "Schubert/Impromptu_op142/3/xml_score.musicxml A1 5\n",
      "['D#', 'B', 'D#', 'D#', 'F#', 'B', 'D#', 'D#', 'B', 'D#']\n",
      "[3, 11, 3, 3, 6, 11, 3, 3, 11, 3]\n",
      "Schubert/Impromptu_op142/3/xml_score.musicxml M2 0\n",
      "['E', 'C', 'E', 'E', 'G', 'C', 'E', 'E', 'C', 'E']\n",
      "[4, 0, 4, 4, 7, 0, 4, 4, 0, 4]\n",
      "Schubert/Impromptu_op142/3/xml_score.musicxml m3 -5\n",
      "['F', 'D-', 'F', 'F', 'A-', 'D-', 'F', 'F', 'D-', 'F']\n",
      "[5, 1, 5, 5, 8, 1, 5, 5, 1, 5]\n",
      "Schubert/Impromptu_op142/3/xml_score.musicxml M3 2\n",
      "['F#', 'D', 'F#', 'F#', 'A', 'D', 'F#', 'F#', 'D', 'F#']\n",
      "[6, 2, 6, 6, 9, 2, 6, 6, 2, 6]\n",
      "Schubert/Impromptu_op142/3/xml_score.musicxml P4 -3\n",
      "['G', 'E-', 'G', 'G', 'B-', 'E-', 'G', 'G', 'E-', 'G']\n",
      "[7, 3, 7, 7, 10, 3, 7, 7, 3, 7]\n",
      "Schubert/Impromptu_op142/3/xml_score.musicxml A4 4\n",
      "['G#', 'E', 'G#', 'G#', 'B', 'E', 'G#', 'G#', 'E', 'G#']\n",
      "[8, 4, 8, 8, 11, 4, 8, 8, 4, 8]\n",
      "Schubert/Impromptu_op142/3/xml_score.musicxml P5 -1\n",
      "['A', 'F', 'A', 'A', 'C', 'F', 'A', 'A', 'F', 'A']\n",
      "[9, 5, 9, 9, 0, 5, 9, 9, 5, 9]\n",
      "Schubert/Impromptu_op142/3/xml_score.musicxml A5 6\n",
      "['A#', 'F#', 'A#', 'A#', 'C#', 'F#', 'A#', 'A#', 'F#', 'A#']\n",
      "[10, 6, 10, 10, 1, 6, 10, 10, 6, 10]\n",
      "Schubert/Impromptu_op142/3/xml_score.musicxml M6 1\n",
      "['B', 'G', 'B', 'B', 'D', 'G', 'B', 'B', 'G', 'B']\n",
      "[11, 7, 11, 11, 2, 7, 11, 11, 7, 11]\n",
      "Schubert/Impromptu_op142/3/xml_score.musicxml m7 -4\n",
      "['C', 'A-', 'C', 'C', 'E-', 'A-', 'C', 'C', 'A-', 'C']\n",
      "[0, 8, 0, 0, 3, 8, 0, 0, 8, 0]\n",
      "Schubert/Impromptu_op142/3/xml_score.musicxml M7 3\n",
      "['C#', 'A', 'C#', 'C#', 'E', 'A', 'C#', 'C#', 'A', 'C#']\n",
      "[1, 9, 1, 1, 4, 9, 1, 1, 9, 1]\n",
      "Bach/Prelude/bwv_856/xml_score.musicxml P1 -1\n",
      "['F', 'F', 'C', 'A', 'A', 'G', 'A', 'C', 'C', 'F']\n",
      "[5, 5, 0, 9, 9, 7, 9, 0, 0, 5]\n",
      "Bach/Prelude/bwv_856/xml_score.musicxml m2 -6\n",
      "['G-', 'G-', 'D-', 'B-', 'B-', 'A-', 'B-', 'D-', 'D-', 'G-']\n",
      "[6, 6, 1, 10, 10, 8, 10, 1, 1, 6]\n",
      "Bach/Prelude/bwv_856/xml_score.musicxml M2 1\n",
      "['G', 'G', 'D', 'B', 'B', 'A', 'B', 'D', 'D', 'G']\n",
      "[7, 7, 2, 11, 11, 9, 11, 2, 2, 7]\n",
      "Bach/Prelude/bwv_856/xml_score.musicxml m3 -4\n",
      "['A-', 'A-', 'E-', 'C', 'C', 'B-', 'C', 'E-', 'E-', 'A-']\n",
      "[8, 8, 3, 0, 0, 10, 0, 3, 3, 8]\n",
      "Bach/Prelude/bwv_856/xml_score.musicxml M3 3\n",
      "['A', 'A', 'E', 'C#', 'C#', 'B', 'C#', 'E', 'E', 'A']\n",
      "[9, 9, 4, 1, 1, 11, 1, 4, 4, 9]\n",
      "Bach/Prelude/bwv_856/xml_score.musicxml P4 -2\n",
      "['B-', 'B-', 'F', 'D', 'D', 'C', 'D', 'F', 'F', 'B-']\n",
      "[10, 10, 5, 2, 2, 0, 2, 5, 5, 10]\n",
      "Bach/Prelude/bwv_856/xml_score.musicxml A4 5\n",
      "['B', 'B', 'F#', 'D#', 'D#', 'C#', 'D#', 'F#', 'F#', 'B']\n",
      "[11, 11, 6, 3, 3, 1, 3, 6, 6, 11]\n",
      "Bach/Prelude/bwv_856/xml_score.musicxml P5 0\n",
      "['C', 'C', 'G', 'E', 'E', 'D', 'E', 'G', 'G', 'C']\n",
      "[0, 0, 7, 4, 4, 2, 4, 7, 7, 0]\n",
      "Bach/Prelude/bwv_856/xml_score.musicxml m6 -5\n",
      "['D-', 'D-', 'A-', 'F', 'F', 'E-', 'F', 'A-', 'A-', 'D-']\n",
      "[1, 1, 8, 5, 5, 3, 5, 8, 8, 1]\n",
      "Bach/Prelude/bwv_856/xml_score.musicxml M6 2\n",
      "['D', 'D', 'A', 'F#', 'F#', 'E', 'F#', 'A', 'A', 'D']\n",
      "[2, 2, 9, 6, 6, 4, 6, 9, 9, 2]\n",
      "Bach/Prelude/bwv_856/xml_score.musicxml m7 -3\n",
      "['E-', 'E-', 'B-', 'G', 'G', 'F', 'G', 'B-', 'B-', 'E-']\n",
      "[3, 3, 10, 7, 7, 5, 7, 10, 10, 3]\n",
      "Bach/Prelude/bwv_856/xml_score.musicxml M7 4\n",
      "['E', 'E', 'B', 'G#', 'G#', 'F#', 'G#', 'B', 'B', 'E']\n",
      "[4, 4, 11, 8, 8, 6, 8, 11, 11, 4]\n",
      "Chopin/Etudes_op_10/12/xml_score.musicxml P1 -3\n",
      "['B', 'D', 'F', 'G', 'B', 'A-', 'G', 'F', 'D', 'E-']\n",
      "[11, 2, 5, 7, 11, 8, 7, 5, 2, 3]\n",
      "Chopin/Etudes_op_10/12/xml_score.musicxml m2 -8\n",
      "['C', 'E-', 'G-', 'A-', 'C', 'B--', 'A-', 'G-', 'E-', 'F-']\n",
      "[0, 3, 6, 8, 0, 9, 8, 6, 3, 4]\n",
      "Chopin/Etudes_op_10/12/xml_score.musicxml M2 -1\n",
      "['C#', 'E', 'G', 'A', 'C#', 'B-', 'A', 'G', 'E', 'F']\n",
      "[1, 4, 7, 9, 1, 10, 9, 7, 4, 5]\n",
      "Chopin/Etudes_op_10/12/xml_score.musicxml m3 -6\n",
      "['D', 'F', 'A-', 'B-', 'D', 'C-', 'B-', 'A-', 'F', 'G-']\n",
      "[2, 5, 8, 10, 2, 11, 10, 8, 5, 6]\n",
      "Chopin/Etudes_op_10/12/xml_score.musicxml M3 1\n",
      "['D#', 'F#', 'A', 'B', 'D#', 'C', 'B', 'A', 'F#', 'G']\n",
      "[3, 6, 9, 11, 3, 0, 11, 9, 6, 7]\n",
      "Chopin/Etudes_op_10/12/xml_score.musicxml P4 -4\n",
      "['E', 'G', 'B-', 'C', 'E', 'D-', 'C', 'B-', 'G', 'A-']\n",
      "[4, 7, 10, 0, 4, 1, 0, 10, 7, 8]\n",
      "Chopin/Etudes_op_10/12/xml_score.musicxml d5 -9\n",
      "['F', 'A-', 'C-', 'D-', 'F', 'E--', 'D-', 'C-', 'A-', 'B--']\n",
      "[5, 8, 11, 1, 5, 2, 1, 11, 8, 9]\n",
      "Chopin/Etudes_op_10/12/xml_score.musicxml P5 -2\n",
      "['F#', 'A', 'C', 'D', 'F#', 'E-', 'D', 'C', 'A', 'B-']\n",
      "[6, 9, 0, 2, 6, 3, 2, 0, 9, 10]\n",
      "Chopin/Etudes_op_10/12/xml_score.musicxml m6 -7\n",
      "['G', 'B-', 'D-', 'E-', 'G', 'F-', 'E-', 'D-', 'B-', 'C-']\n",
      "[7, 10, 1, 3, 7, 4, 3, 1, 10, 11]\n",
      "Chopin/Etudes_op_10/12/xml_score.musicxml M6 0\n",
      "['G#', 'B', 'D', 'E', 'G#', 'F', 'E', 'D', 'B', 'C']\n",
      "[8, 11, 2, 4, 8, 5, 4, 2, 11, 0]\n",
      "Chopin/Etudes_op_10/12/xml_score.musicxml m7 -5\n",
      "['A', 'C', 'E-', 'F', 'A', 'G-', 'F', 'E-', 'C', 'D-']\n",
      "[9, 0, 3, 5, 9, 6, 5, 3, 0, 1]\n",
      "Chopin/Etudes_op_10/12/xml_score.musicxml d1 -10\n",
      "['B-', 'D-', 'F-', 'G-', 'B-', 'A--', 'G-', 'F-', 'D-', 'E--']\n",
      "[10, 1, 4, 6, 10, 7, 6, 4, 1, 2]\n",
      "Bach/Prelude/bwv_889/xml_score.musicxml P1 0\n",
      "['A', 'C', 'D', 'E', 'F', 'A', 'C', 'B', 'G#', 'D#']\n",
      "[9, 0, 2, 4, 5, 9, 0, 11, 8, 3]\n",
      "Bach/Prelude/bwv_889/xml_score.musicxml m2 -5\n",
      "['B-', 'D-', 'E-', 'F', 'G-', 'B-', 'D-', 'C', 'A', 'E']\n",
      "[10, 1, 3, 5, 6, 10, 1, 0, 9, 4]\n",
      "Bach/Prelude/bwv_889/xml_score.musicxml M2 2\n",
      "['B', 'D', 'E', 'F#', 'G', 'B', 'D', 'C#', 'A#', 'E#']\n",
      "[11, 2, 4, 6, 7, 11, 2, 1, 10, 5]\n",
      "Bach/Prelude/bwv_889/xml_score.musicxml m3 -3\n",
      "['C', 'E-', 'F', 'G', 'A-', 'C', 'E-', 'D', 'B', 'F#']\n",
      "[0, 3, 5, 7, 8, 0, 3, 2, 11, 6]\n",
      "Bach/Prelude/bwv_889/xml_score.musicxml M3 4\n",
      "['C#', 'E', 'F#', 'G#', 'A', 'C#', 'E', 'D#', 'B#', 'F##']\n",
      "[1, 4, 6, 8, 9, 1, 4, 3, 0, 7]\n"
     ]
    }
   ],
   "source": [
    "# choose only one enharmonic version for each chromatic interval for each piece\n",
    "dict_dataset = []\n",
    "for path in paths:\n",
    "    for c in range(12):\n",
    "        pieces_to_consider = [opus for opus in full_dict_dataset \n",
    "                              if (opus[\"original_path\"] == path and opus[\"transposed_of\"] in interval_dict[c])  ]\n",
    "        # if the original is in pieces_to_consider, go with the original\n",
    "        originals = [opus for opus in pieces_to_consider if opus[\"transposed_of\"] == \"P1\"]\n",
    "        if len(originals) == 1:\n",
    "            dict_dataset.append(originals[0])\n",
    "        else: #we go with the accidental minization criteria\n",
    "            n_accidentals = [sum([pitch.count(\"#\") + pitch.count(\"-\") for pitch in opus[\"pitches\"]]) \n",
    "                            for opus in pieces_to_consider]\n",
    "            if len(pieces_to_consider)>0:\n",
    "                dict_dataset.append(pieces_to_consider[np.argmin(n_accidentals)])\n",
    "            else:\n",
    "                print(\"No options for\", path, \". Chromatic: \",c )\n",
    "\n",
    "# accepted_ks = range(-5,6)\n",
    "# dict_dataset = [e for e in full_dict_dataset if e[\"key_signature\"] in accepted_ks]\n",
    "\n",
    "#test if it worked\n",
    "for i,e in enumerate(dict_dataset):\n",
    "    print(e[\"original_path\"], e[\"transposed_of\"], e[\"key_signature\"])\n",
    "    print(e[\"pitches\"][:10])\n",
    "    print(e[\"midi_number\"][:10])\n",
    "    if i == 100:\n",
    "        break"
   ]
  },
  {
   "cell_type": "code",
   "execution_count": 7,
   "metadata": {
    "colab": {
     "base_uri": "https://localhost:8080/"
    },
    "id": "ZgHkMeoJdb42",
    "outputId": "1f3d172f-3f93-47ce-aa1b-e37a2afba24e"
   },
   "outputs": [
    {
     "name": "stdout",
     "output_type": "stream",
     "text": [
      "2271\n",
      "Counter({'Bach': 59, 'Beethoven': 57, 'Chopin': 34, 'Schubert': 13, 'Haydn': 11, 'Schumann': 10, 'Mozart': 6, 'Brahms': 1})\n"
     ]
    }
   ],
   "source": [
    "print(len(dict_dataset))\n",
    "\n",
    "c = Counter()\n",
    "for p in paths:\n",
    "    c[p.split(\"/\")[0]] +=1\n",
    "\n",
    "print(c)"
   ]
  },
  {
   "cell_type": "code",
   "execution_count": 8,
   "metadata": {
    "colab": {
     "base_uri": "https://localhost:8080/"
    },
    "id": "-GRCM2W3qqeW",
    "outputId": "d53c8146-8b32-43df-cd69-b7423f1ceda2"
   },
   "outputs": [
    {
     "name": "stdout",
     "output_type": "stream",
     "text": [
      "Train and validation lenghts:  152 38\n"
     ]
    }
   ],
   "source": [
    "# Ignore Brahms (only one piece)\n",
    "paths = [p for p in paths if p.split(\"/\")[0] !=\"Brahms\"]\n",
    "\n",
    "# Divide train and validation set\n",
    "path_train, path_validation = sklearn.model_selection.train_test_split(paths, test_size=0.2,stratify=[p.split(\"/\")[0] for p in paths ])\n",
    "print(\"Train and validation lenghts: \",len(path_train),len(path_validation))"
   ]
  },
  {
   "cell_type": "code",
   "execution_count": 9,
   "metadata": {
    "colab": {
     "base_uri": "https://localhost:8080/",
     "height": 335
    },
    "id": "KIZ2_bX1bom5",
    "outputId": "ae8d5b50-ed4d-4376-f9d6-e96c6aa73046"
   },
   "outputs": [
    {
     "name": "stdout",
     "output_type": "stream",
     "text": [
      "['Schumann', 'Beethoven', 'Mozart', 'Haydn', 'Schubert', 'Chopin', 'Bach']\n"
     ]
    },
    {
     "data": {
      "image/png": "[encoded data removed]",
      "text/plain": [
       "<Figure size 432x288 with 1 Axes>"
      ]
     },
     "metadata": {
      "image/png": {
       "height": 248,
       "width": 369
      },
      "needs_background": "light"
     },
     "output_type": "display_data"
    }
   ],
   "source": [
    "#need to find a better way to visualize this\n",
    "composers = list(set([p.split(\"/\")[0] for p in paths ]))\n",
    "print(composers)\n",
    "\n",
    "train_composer = [composers.index(p.split(\"/\")[0]) for p in path_train]\n",
    "val_composer = [composers.index(p.split(\"/\")[0]) for p in path_validation]\n",
    "\n",
    "_ = plt.hist([train_composer, val_composer], label=['train', 'validation'])\n",
    "_ = plt.legend(loc='upper left')\n",
    "_ = plt.xticks(list(range(7)), composers)"
   ]
  },
  {
   "cell_type": "markdown",
   "metadata": {
    "id": "1-qaT10ApkCY"
   },
   "source": [
    "## Transform the input into a convenient format for the Model"
   ]
  },
  {
   "cell_type": "code",
   "execution_count": 10,
   "metadata": {
    "colab": {
     "base_uri": "https://localhost:8080/"
    },
    "id": "kEYec2TDOWvj",
    "outputId": "1b69573b-cfeb-4dc9-8882-da42f9c25537"
   },
   "outputs": [
    {
     "name": "stdout",
     "output_type": "stream",
     "text": [
      "1\n",
      "12\n"
     ]
    }
   ],
   "source": [
    "# Helper functions to feed the correct input into the NN \n",
    "\n",
    "PAD = \"<PAD>\"\n",
    "\n",
    "tag_to_ix = {p: accepted_pitches.index(p) for p in accepted_pitches}\n",
    "#add PADDING TAD\n",
    "tag_to_ix[PAD] = len(accepted_pitches)\n",
    "\n",
    "midi_to_ix = {m: m for m in range(12)}\n",
    "# #add PADDING TAD\n",
    "# midi_to_ix[PAD] = 12\n",
    "\n",
    "print(midi_to_ix[1])\n",
    "print(len(midi_to_ix))\n",
    "\n",
    "\n",
    "class Pitch2Diatonic():\n",
    "    def __call__(self, in_seq):\n",
    "        return [p for p in in_seq]\n",
    "\n",
    "class Diatonic2Int():\n",
    "    def __call__(self, in_seq):\n",
    "        idxs = [tag_to_ix[w] for w in in_seq]\n",
    "        return idxs\n",
    "\n",
    "class Int2Pitch():\n",
    "    def __call__(self, in_seq):\n",
    "        return [accepted_pitches[i] for i in in_seq]\n",
    "\n",
    "class OneHotEncoder():\n",
    "    def __init__(self, alphabet_len):\n",
    "        self.alphabet_len = alphabet_len\n",
    "        \n",
    "    def __call__(self, sample):\n",
    "        onehot = np.zeros([len(sample), self.alphabet_len])\n",
    "        tot_chars = len(sample)\n",
    "        onehot[np.arange(tot_chars), sample] = 1\n",
    "        return onehot\n",
    "        \n",
    "class ToTensorFloat():\n",
    "    def __call__(self, sample):\n",
    "        return torch.tensor(sample,dtype=torch.float)\n",
    "\n",
    "class ToTensorLong():\n",
    "    def __call__(self, sample):\n",
    "        return torch.tensor(sample,dtype=torch.long)\n",
    "\n",
    "\n",
    "pitches_len = len(accepted_pitches)\n",
    "midinote_len = 12\n",
    "\n",
    "### Define the preprocessing pipeline\n",
    "transform_diat = transforms.Compose([\n",
    "                                     Pitch2Diatonic(),\n",
    "                                     Diatonic2Int(),\n",
    "                                     ToTensorLong()])\n",
    "transform_chrom = transforms.Compose([\n",
    "                                      OneHotEncoder(len(midi_to_ix)),\n",
    "                                      ToTensorFloat()])"
   ]
  },
  {
   "cell_type": "code",
   "execution_count": 11,
   "metadata": {
    "colab": {
     "base_uri": "https://localhost:8080/"
    },
    "id": "jV9boYaToUs2",
    "outputId": "92bcd8d3-87a2-4d2c-8e92-4a106139f59f"
   },
   "outputs": [
    {
     "name": "stdout",
     "output_type": "stream",
     "text": [
      "1804 38\n",
      "[9, 10, 4, 1, 4, 9, 9, 7, 9, 10, 5, 2, 5, 2, 2, 9, 0, 1, 2, 2, 7, 4, 7, 4, 4, 10, 2, 3, 9, 9]\n",
      "['A', 'B-', 'E', 'C#', 'E', 'A', 'A', 'G', 'A', 'B-', 'F', 'D', 'F', 'D', 'D', 'A', 'B#', 'C#', 'D', 'D', 'G', 'E', 'G', 'E', 'E', 'B-', 'D', 'E-', 'A', 'A']\n"
     ]
    }
   ],
   "source": [
    "# Create the dataset\n",
    "\n",
    "class PSDataset(Dataset):\n",
    "    def __init__(self, dict_dataset, paths, transf_c, transf_d, augment_dataset, truncate = None):\n",
    "        if augment_dataset:\n",
    "            self.chromatic_sequences = [e[\"midi_number\"] for e in dict_dataset if e[\"original_path\"] in paths]\n",
    "            self.diatonic_sequences = [e[\"pitches\"]\n",
    "                                       for e in dict_dataset \n",
    "                                       if e[\"original_path\"] in paths]\n",
    "        else: #consider only non transposed pieces\n",
    "            self.chromatic_sequences = [e[\"midi_number\"] for e in dict_dataset \n",
    "                                        if (e[\"original_path\"] in paths and e[\"transposed_of\"]==\"P1\")]\n",
    "            self.diatonic_sequences = [e[\"pitches\"]\n",
    "                                       for e in dict_dataset \n",
    "                                       if (e[\"original_path\"] in paths and e[\"transposed_of\"]==\"P1\")]\n",
    "        #the transformations to apply to data\n",
    "        self.transf_c = transf_c\n",
    "        self.transf_d = transf_d\n",
    "        self.truncate = truncate\n",
    "\n",
    "    def __len__(self):\n",
    "        return len(self.chromatic_sequences)\n",
    "\n",
    "    def __getitem__(self, idx):\n",
    "        chromatic_seq = self.chromatic_sequences[idx]\n",
    "        diatonic_seq = self.diatonic_sequences[idx]\n",
    "        \n",
    "\n",
    "        #transform\n",
    "        chromatic_seq = self.transf_c(chromatic_seq)\n",
    "        diatonic_seq = self.transf_d(diatonic_seq)\n",
    "\n",
    "        if not self.truncate is None:\n",
    "            if len(diatonic_seq) > self.truncate:\n",
    "                chromatic_seq = chromatic_seq[0:self.truncate]\n",
    "                diatonic_seq = diatonic_seq[0:self.truncate]\n",
    "\n",
    "        #sanity check\n",
    "        assert len(chromatic_seq) == len(diatonic_seq)\n",
    "        seq_len = len(diatonic_seq)\n",
    "        \n",
    "        return chromatic_seq, diatonic_seq, seq_len\n",
    "\n",
    "train_dataset = PSDataset(dict_dataset,path_train, transform_chrom,transform_diat,True)\n",
    "validation_dataset = PSDataset(dict_dataset,path_validation, transform_chrom,transform_diat, False)\n",
    "\n",
    "print(len(train_dataset),len(validation_dataset))\n",
    "\n",
    "\n",
    "\n",
    "# test if it works\n",
    "chrom, diat, l = next(iter(train_dataset))\n",
    "print([[i for i, j in enumerate(m) if j == 1][0] for m in chrom[0:30]])\n",
    "# print([diatonic_pitches[p.item()] for p in diat[0:30]])\n",
    "print([accepted_pitches[p.item()] for p in diat[0:30]])"
   ]
  },
  {
   "cell_type": "code",
   "execution_count": 12,
   "metadata": {
    "colab": {
     "base_uri": "https://localhost:8080/"
    },
    "id": "hAubyjw2LC8P",
    "outputId": "d6f8574f-8901-41e7-fd7a-9a0c6091eafa"
   },
   "outputs": [
    {
     "name": "stdout",
     "output_type": "stream",
     "text": [
      "torch.Size([6365, 4, 12]) torch.Size([6365, 4]) tensor([6365., 5076., 4654., 2566.])\n",
      "tensor([[10,  3, 34, 21],\n",
      "        [10, 24, 25, 21],\n",
      "        [10,  3, 10, 26],\n",
      "        ...,\n",
      "        [25, 35, 35, 35],\n",
      "        [25, 35, 35, 35],\n",
      "        [25, 35, 35, 35]])\n"
     ]
    }
   ],
   "source": [
    "def pad_collate(batch):\n",
    "    (xx, yy, l) = zip(*batch)\n",
    "    \n",
    "    xx_pad = pad_sequence(xx)\n",
    "    yy_pad = pad_sequence(yy, padding_value=tag_to_ix[PAD])\n",
    "\n",
    "    #sort the sequences by length\n",
    "    seq_lengths, perm_idx = torch.Tensor(l).sort(0, descending=True)\n",
    "    xx_pad = xx_pad[:,perm_idx,:]\n",
    "    yy_pad = yy_pad[:,perm_idx]\n",
    "\n",
    "    return xx_pad, yy_pad, seq_lengths\n",
    "\n",
    "data_loader = DataLoader(dataset=validation_dataset, batch_size=4, shuffle=True, collate_fn=pad_collate)\n",
    "\n",
    "\n",
    "\n",
    "#test if it work\n",
    "for batch in data_loader:\n",
    "    print(batch[0].shape,batch[1].shape,batch[2])\n",
    "    print(batch[1])\n",
    "    break"
   ]
  },
  {
   "cell_type": "markdown",
   "metadata": {
    "id": "6O1OA1AjGWO-"
   },
   "source": [
    "## Model Definition"
   ]
  },
  {
   "cell_type": "code",
   "execution_count": 13,
   "metadata": {
    "id": "QEkFBY5cUsmN"
   },
   "outputs": [],
   "source": [
    "class RNNTagger(nn.Module):\n",
    "    \n",
    "    def __init__(self, input_dim, hidden_dim, n_labels,n_layers =1):\n",
    "        super(RNNTagger,self).__init__()    \n",
    "        \n",
    "        self.n_labels = n_labels\n",
    "        self.hidden_dim = hidden_dim\n",
    "\n",
    "        # RNN layer. We're using a bidirectional GRU\n",
    "        self.rnn = nn.GRU(input_size=input_dim, hidden_size=hidden_dim //2, \n",
    "                          bidirectional=True, num_layers=n_layers)\n",
    "        \n",
    "        # Output layer. The input will be two times\n",
    "        # the RNN size since we are using a bidirectional RNN.\n",
    "        self.top_layer = nn.Linear(hidden_dim, self.n_labels)\n",
    "    \n",
    "        # Loss function that we will use during training.\n",
    "        self.loss = torch.nn.CrossEntropyLoss(reduction='sum',ignore_index = tag_to_ix[PAD])\n",
    "        \n",
    "    def compute_outputs(self, sentences,sentences_len):\n",
    "        sentences = torch.nn.utils.rnn.pack_padded_sequence(sentences, sentences_len)\n",
    "        rnn_out, _ = self.rnn(sentences)\n",
    "        rnn_out,_ = torch.nn.utils.rnn.pad_packed_sequence(rnn_out)\n",
    "\n",
    "        out = self.top_layer(rnn_out)\n",
    "       \n",
    "        # # Find the positions where the token is a dummy padding token.\n",
    "        # pad_mask = (sentences == self.pad_word_id).float()\n",
    "\n",
    "        # # For these positions, we add some large number in the column corresponding\n",
    "        # # to the dummy padding label.\n",
    "        # out[:, :, self.pad_label_id] += pad_mask*10000\n",
    "\n",
    "        return out\n",
    "                \n",
    "    def forward(self, sentences, labels, sentences_len):\n",
    "        # First computes the predictions, and then the loss function.\n",
    "        \n",
    "        # Compute the outputs. The shape is (max_len, n_sentences, n_labels).\n",
    "        scores = self.compute_outputs(sentences,sentences_len)\n",
    "        \n",
    "        # Flatten the outputs and the gold-standard labels, to compute the loss.\n",
    "        # The input to this loss needs to be one 2-dimensional and one 1-dimensional tensor.\n",
    "        scores = scores.view(-1, self.n_labels)\n",
    "        labels = labels.view(-1)\n",
    "        return self.loss(scores, labels)\n",
    "\n",
    "    def predict(self, sentences,sentences_len):\n",
    "        # Compute the outputs from the linear units.\n",
    "        scores = self.compute_outputs(sentences,sentences_len)\n",
    "\n",
    "        # Select the top-scoring labels. The shape is now (max_len, n_sentences).\n",
    "        predicted = scores.argmax(dim=2)\n",
    "\n",
    "        # We transpose the prediction to (n_sentences, max_len), and convert it\n",
    "        # to a NumPy matrix.\n",
    "        return predicted.t().cpu().numpy()"
   ]
  },
  {
   "cell_type": "code",
   "execution_count": 14,
   "metadata": {
    "id": "QE7itQ88Qx17"
   },
   "outputs": [],
   "source": [
    "class RNNCRFTagger(nn.Module):\n",
    "    def __init__(self, input_dim, hidden_dim, n_labels,n_layers =1):\n",
    "        super(RNNCRFTagger,self).__init__()    \n",
    "        \n",
    "        self.n_labels = n_labels\n",
    "        self.hidden_dim = hidden_dim\n",
    "\n",
    "        self.rnn = nn.GRU(input_size=input_dim, hidden_size=hidden_dim //2, \n",
    "                          bidirectional=True, num_layers=n_layers)\n",
    "\n",
    "        self.top_layer = nn.Linear(hidden_dim, self.n_labels)\n",
    "    \n",
    "        self.crf = CRF(self.n_labels)\n",
    "        \n",
    "    def compute_outputs(self, sentences,sentences_len):\n",
    "        ## should I initialize here??\n",
    "        sentences = torch.nn.utils.rnn.pack_padded_sequence(sentences, sentences_len)\n",
    "        rnn_out, _ = self.rnn(sentences)\n",
    "        rnn_out,_ = torch.nn.utils.rnn.pad_packed_sequence(rnn_out)\n",
    "\n",
    "        out = self.top_layer(rnn_out)\n",
    "      \n",
    "        return out\n",
    "                \n",
    "    def forward(self, sentences, labels, sentences_len):\n",
    "        # Compute the outputs of the lower layers, which will be used as emission\n",
    "        # scores for the CRF.\n",
    "        scores = self.compute_outputs(sentences,sentences_len)\n",
    "\n",
    "        # We return the loss value. The CRF returns the log likelihood, but we return \n",
    "        # the *negative* log likelihood as the loss value.            \n",
    "        # PyTorch's optimizers *minimize* the loss, while we want to *maximize* the\n",
    "        # log likelihood.\n",
    "\n",
    "        pad_mask = torch.arange(max(sentences_len))[:, None] < sentences_len[None, :]\n",
    "        pad_mask = pad_mask.byte().to(device)\n",
    "        return -self.crf(scores, labels, mask = pad_mask )\n",
    "            \n",
    "    def predict(self, sentences,sentences_len):\n",
    "        # Compute the emission scores, as above.\n",
    "        scores = self.compute_outputs(sentences,sentences_len)\n",
    "\n",
    "        # Apply the Viterbi algorithm to get the predictions. This implementation returns\n",
    "        # the result as a list of lists (not a tensor), corresponding to a matrix\n",
    "        # of shape (n_sentences, max_len).\n",
    "        pad_mask = torch.arange(max(sentences_len))[:, None] < sentences_len[None, :]\n",
    "        pad_mask = pad_mask.byte().to(device)\n",
    "        return self.crf.decode(scores,mask = pad_mask)"
   ]
  },
  {
   "cell_type": "markdown",
   "metadata": {
    "id": "vXixmVQfvw8T"
   },
   "source": [
    "## Train model"
   ]
  },
  {
   "cell_type": "code",
   "execution_count": 15,
   "metadata": {
    "id": "3m_nj4HCuCe1"
   },
   "outputs": [],
   "source": [
    "# TODO: search over the best hyperparameters"
   ]
  },
  {
   "cell_type": "code",
   "execution_count": 16,
   "metadata": {
    "id": "uAMSIlw0AJb6"
   },
   "outputs": [],
   "source": [
    "def training_loop(model, optimizer, train_dataloader, val_dataloader, n_epochs):\n",
    "    history = defaultdict(list)  \n",
    "    for i_epoch in range(1,n_epochs +1):\n",
    "        t0 = time.time()\n",
    "        loss_sum = 0\n",
    "        accuracy_sum = 0\n",
    "        model.train()\n",
    "        for seqs, targets, lens in train_dataloader: #seqs, targets, lens are batches\n",
    "            seqs, targets = seqs.to(device), targets.to(device)\n",
    "            optimizer.zero_grad()\n",
    "\n",
    "            loss = model(seqs,targets,lens) / sum(lens) #normalize for the number of symbol considered (without padding)\n",
    "            loss.backward()\n",
    "            optimizer.step()\n",
    "            loss_sum += loss.item()\n",
    "\n",
    "            predicted = model.predict(seqs,lens)\n",
    "            for i,p in enumerate(predicted):\n",
    "                acc= accuracy_score(p,targets[:,i][:len(p)].cpu()) #compute the accuracy without considering the padding\n",
    "                accuracy_sum += acc/len(lens) #normalize according to the number of sequences in the batch\n",
    "\n",
    "        train_loss = loss_sum/len(train_dataloader)\n",
    "        train_accuracy = accuracy_sum/len(train_dataloader) #normalize according to the number of batches\n",
    "        history[\"train_loss\"].append(train_loss)\n",
    "        history[\"train_accuracy\"].append(train_accuracy)\n",
    "\n",
    "\n",
    "        # Evaluate on the validation set\n",
    "        model.eval()\n",
    "        all_predicted = []\n",
    "        all_targets = []\n",
    "        with torch.no_grad():\n",
    "            for seqs,targets, lens in val_dataloader:\n",
    "                # Predict the model's output on a batch\n",
    "                predicted = model.predict(seqs.to(device),lens)                   \n",
    "                # Update the lists that will be used to compute the accuracy\n",
    "                for i,p in enumerate(predicted):\n",
    "                    all_predicted.append(torch.Tensor(p))\n",
    "                    all_targets.append(targets[0:int(lens[i]),i])\n",
    "                \n",
    "        # Compute the overall accuracy for the validation set\n",
    "        val_accuracy = accuracy_score(torch.cat(all_predicted),torch.cat(all_targets))\n",
    "        history[\"val_accuracy\"].append(val_accuracy)\n",
    "\n",
    "        #save the model\n",
    "        torch.save(model, \"./models/temp/model_temp_epoch{}.pkl\".format(i_epoch))\n",
    "#         files.download(\"model_temp_epoch{}.pkl\".format(i_epoch))\n",
    "\n",
    "    \n",
    "        t1 = time.time()\n",
    "        print(f'Epoch {i_epoch}: train loss = {train_loss:.4f}, train_accuracy: {train_accuracy:.4f},val_accuracy: {val_accuracy:.4f}, time = {t1-t0:.4f}')\n",
    "    return history"
   ]
  },
  {
   "cell_type": "code",
   "execution_count": null,
   "metadata": {
    "colab": {
     "base_uri": "https://localhost:8080/",
     "height": 269
    },
    "id": "2g2st8znpGW_",
    "outputId": "fe232e42-e270-4f5d-9bd8-718bba5e7151"
   },
   "outputs": [
    {
     "name": "stdout",
     "output_type": "stream",
     "text": [
      "Training device: cuda\n",
      "Epoch 1: train loss = 3.3197, train_accuracy: 0.0731,val_accuracy: 0.1529, time = 711.8035\n",
      "Epoch 2: train loss = 2.9160, train_accuracy: 0.3023,val_accuracy: 0.4987, time = 717.3231\n",
      "Epoch 3: train loss = 2.7270, train_accuracy: 0.5133,val_accuracy: 0.5876, time = 718.5597\n",
      "Epoch 4: train loss = 2.5562, train_accuracy: 0.6048,val_accuracy: 0.6681, time = 712.9922\n",
      "Epoch 5: train loss = 2.3244, train_accuracy: 0.6753,val_accuracy: 0.7373, time = 742.2230\n",
      "Epoch 6: train loss = 2.0046, train_accuracy: 0.7395,val_accuracy: 0.7900, time = 717.8578\n",
      "Epoch 7: train loss = 1.6323, train_accuracy: 0.7840,val_accuracy: 0.8344, time = 712.3407\n",
      "Epoch 8: train loss = 1.2850, train_accuracy: 0.8182,val_accuracy: 0.8593, time = 719.6853\n",
      "Epoch 9: train loss = 1.0255, train_accuracy: 0.8301,val_accuracy: 0.8640, time = 708.9008\n",
      "Epoch 10: train loss = 0.8555, train_accuracy: 0.8341,val_accuracy: 0.8697, time = 721.0234\n",
      "Epoch 11: train loss = 0.7434, train_accuracy: 0.8400,val_accuracy: 0.8744, time = 723.3992\n",
      "Epoch 12: train loss = 0.6635, train_accuracy: 0.8455,val_accuracy: 0.8750, time = 706.3158\n",
      "Epoch 13: train loss = 0.6079, train_accuracy: 0.8481,val_accuracy: 0.8820, time = 710.9923\n",
      "Epoch 14: train loss = 0.5748, train_accuracy: 0.8514,val_accuracy: 0.8820, time = 697.2036\n",
      "Epoch 15: train loss = 0.5347, train_accuracy: 0.8540,val_accuracy: 0.8853, time = 710.1234\n",
      "Epoch 16: train loss = 0.5075, train_accuracy: 0.8560,val_accuracy: 0.8840, time = 711.6479\n",
      "Epoch 17: train loss = 0.4880, train_accuracy: 0.8583,val_accuracy: 0.8849, time = 712.9411\n",
      "Epoch 18: train loss = 0.4698, train_accuracy: 0.8603,val_accuracy: 0.8898, time = 725.8706\n",
      "Epoch 19: train loss = 0.4541, train_accuracy: 0.8621,val_accuracy: 0.8891, time = 721.5331\n",
      "Epoch 20: train loss = 0.4413, train_accuracy: 0.8641,val_accuracy: 0.8943, time = 720.9610\n",
      "Epoch 21: train loss = 0.4266, train_accuracy: 0.8654,val_accuracy: 0.8924, time = 712.4487\n",
      "Epoch 22: train loss = 0.4166, train_accuracy: 0.8674,val_accuracy: 0.8942, time = 712.3691\n",
      "Epoch 23: train loss = 0.4040, train_accuracy: 0.8684,val_accuracy: 0.8914, time = 701.7486\n",
      "Epoch 24: train loss = 0.3967, train_accuracy: 0.8695,val_accuracy: 0.8937, time = 725.8464\n",
      "Epoch 25: train loss = 0.3905, train_accuracy: 0.8714,val_accuracy: 0.8929, time = 713.0453\n",
      "Epoch 26: train loss = 0.3815, train_accuracy: 0.8719,val_accuracy: 0.8973, time = 722.5785\n",
      "Epoch 27: train loss = 0.3759, train_accuracy: 0.8733,val_accuracy: 0.8983, time = 689.2104\n",
      "Epoch 28: train loss = 0.3713, train_accuracy: 0.8743,val_accuracy: 0.8971, time = 706.8821\n",
      "Epoch 29: train loss = 0.3660, train_accuracy: 0.8750,val_accuracy: 0.8985, time = 705.2721\n",
      "Epoch 30: train loss = 0.3595, train_accuracy: 0.8758,val_accuracy: 0.9022, time = 695.5366\n",
      "Epoch 31: train loss = 0.3551, train_accuracy: 0.8768,val_accuracy: 0.8998, time = 716.8738\n"
     ]
    }
   ],
   "source": [
    "device = torch.device(\"cuda\") if torch.cuda.is_available() else torch.device(\"cpu\")\n",
    "print(f\"Training device: {device}\")\n",
    "\n",
    "n_epochs = 50\n",
    "HIDDEN_DIM = 72\n",
    "LEARNING_WEIGHT = 0.05\n",
    "WEIGHT_DECAY = 1e-4\n",
    "BATCH_SIZE = 16\n",
    "\n",
    "train_dataset = PSDataset(dict_dataset,path_train, transform_chrom,transform_diat,True, truncate = None)\n",
    "validation_dataset = PSDataset(dict_dataset,path_validation, transform_chrom,transform_diat, False)\n",
    "\n",
    "train_dataloader = DataLoader(train_dataset, batch_size=BATCH_SIZE, shuffle=True,collate_fn=pad_collate)\n",
    "val_dataloader = DataLoader(validation_dataset, batch_size=BATCH_SIZE, shuffle=True,collate_fn=pad_collate)\n",
    "\n",
    "model = RNNCRFTagger(12,HIDDEN_DIM,len(tag_to_ix), n_layers =1)\n",
    "# model = RNNTagger(12,HIDDEN_DIM,len(tag_to_ix), n_layers =1)\n",
    "model = model.to(device)\n",
    "optimizer = torch.optim.SGD(model.parameters(), lr=LEARNING_WEIGHT, weight_decay=WEIGHT_DECAY)\n",
    "# otimizer = torch.optim.Adam(model.parameters(),lr = 0.05, weight_decay=1e-4)\n",
    "\n",
    "history = training_loop(model,optimizer,train_dataloader,val_dataloader, n_epochs)\n",
    "\n",
    "# After the final evaluation, we print more detailed evaluation statistics,\n",
    "plt.plot(history['train_loss'])\n",
    "plt.plot(history['train_accuracy'])\n",
    "plt.plot(history['val_accuracy'])\n",
    "plt.legend(['training loss', 'training accuracy', 'validation_accuracy'])"
   ]
  },
  {
   "cell_type": "code",
   "execution_count": null,
   "metadata": {
    "colab": {
     "base_uri": "https://localhost:8080/",
     "height": 17
    },
    "id": "tTv2BrGbvSHh",
    "outputId": "801ff32d-24dc-4434-a436-17d9ca832214"
   },
   "outputs": [
    {
     "data": {
      "application/javascript": [
       "\n",
       "    async function download(id, filename, size) {\n",
       "      if (!google.colab.kernel.accessAllowed) {\n",
       "        return;\n",
       "      }\n",
       "      const div = document.createElement('div');\n",
       "      const label = document.createElement('label');\n",
       "      label.textContent = `Downloading \"${filename}\": `;\n",
       "      div.appendChild(label);\n",
       "      const progress = document.createElement('progress');\n",
       "      progress.max = size;\n",
       "      div.appendChild(progress);\n",
       "      document.body.appendChild(div);\n",
       "\n",
       "      const buffers = [];\n",
       "      let downloaded = 0;\n",
       "\n",
       "      const channel = await google.colab.kernel.comms.open(id);\n",
       "      // Send a message to notify the kernel that we're ready.\n",
       "      channel.send({})\n",
       "\n",
       "      for await (const message of channel.messages) {\n",
       "        // Send a message to notify the kernel that we're ready.\n",
       "        channel.send({})\n",
       "        if (message.buffers) {\n",
       "          for (const buffer of message.buffers) {\n",
       "            buffers.push(buffer);\n",
       "            downloaded += buffer.byteLength;\n",
       "            progress.value = downloaded;\n",
       "          }\n",
       "        }\n",
       "      }\n",
       "      const blob = new Blob(buffers, {type: 'application/binary'});\n",
       "      const a = document.createElement('a');\n",
       "      a.href = window.URL.createObjectURL(blob);\n",
       "      a.download = filename;\n",
       "      div.appendChild(a);\n",
       "      a.click();\n",
       "      div.remove();\n",
       "    }\n",
       "  "
      ],
      "text/plain": [
       "<IPython.core.display.Javascript object>"
      ]
     },
     "metadata": {
      "tags": []
     },
     "output_type": "display_data"
    },
    {
     "data": {
      "application/javascript": [
       "download(\"download_2becd0ee-42f6-49a2-a019-3deadfab3a8b\", \"model_asap_crf300.pkl\", 63501)"
      ],
      "text/plain": [
       "<IPython.core.display.Javascript object>"
      ]
     },
     "metadata": {
      "tags": []
     },
     "output_type": "display_data"
    }
   ],
   "source": [
    "# torch.save(model, \"./models/model_asap_crf300.pkl\")\n",
    "# files.download(\"model_asap_crf300.pkl\")"
   ]
  },
  {
   "cell_type": "markdown",
   "metadata": {
    "id": "sXcmLpCKt28l"
   },
   "source": [
    "## Test on Mdata dataset"
   ]
  },
  {
   "cell_type": "code",
   "execution_count": null,
   "metadata": {
    "id": "BacUqgD5usGL"
   },
   "outputs": [],
   "source": [
    "# load the dataset\n",
    "with open('/content/pitch-spelling/datasets/musedata.pkl', 'rb') as fid:\n",
    "     full_mdata_dict_dataset = pickle.load( fid)"
   ]
  },
  {
   "cell_type": "code",
   "execution_count": null,
   "metadata": {
    "colab": {
     "base_uri": "https://localhost:8080/"
    },
    "id": "jgaUwW2fuwg0",
    "outputId": "89fc5f7d-884a-4ee6-fc34-b3d512f0c4c7"
   },
   "outputs": [
    {
     "name": "stdout",
     "output_type": "stream",
     "text": [
      "216 different pieces\n",
      "Average number of notes:  858.6319771007974\n"
     ]
    }
   ],
   "source": [
    "mdata_paths = list(set([e[\"original_path\"] for e in full_mdata_dict_dataset ]))\n",
    "\n",
    "# # remove the symbphony No.100 from Haydn because of the enharmonic transposition\n",
    "# paths.remove(\"datasets\\\\opnd\\\\haydndoversyms-10004m.opnd-m\")\n",
    "\n",
    "# print(paths)\n",
    "print(len(mdata_paths), \"different pieces\")\n",
    "print(\"Average number of notes: \", np.mean([len(e[\"midi_number\"]) for e in full_mdata_dict_dataset ]))"
   ]
  },
  {
   "cell_type": "code",
   "execution_count": null,
   "metadata": {
    "id": "f-Fg6gJKvNLt"
   },
   "outputs": [],
   "source": [
    "mdata_dataset = PSDataset(full_mdata_dict_dataset,mdata_paths, transform_chrom,transform_diat,False)\n",
    "mdata_dataloader  = DataLoader(mdata_dataset,  batch_size=64, shuffle=False, collate_fn=pad_collate)"
   ]
  },
  {
   "cell_type": "code",
   "execution_count": null,
   "metadata": {
    "id": "ml905Mtdvj-T"
   },
   "outputs": [],
   "source": [
    "all_inputs = []\n",
    "all_outputs = []\n",
    "all_targets = []\n",
    "model.eval() # Evaluation mode (e.g. disable dropout)\n",
    "with torch.no_grad(): # Disable gradient tracking\n",
    "  for seqs, targets,lens in mdata_dataloader:\n",
    "    # Move data to device\n",
    "    seqs = seqs.to(device)\n",
    "\n",
    "    # Predict the model's output on a batch.\n",
    "    predicted = model.predict(seqs,lens)                   \n",
    "    # Update the evaluation statistics.\n",
    "    for i,p in enumerate(predicted):\n",
    "        all_inputs.append(torch.argmax(seqs[0:int(lens[i]),i,:].cpu(),1).numpy())\n",
    "        all_outputs.append(torch.Tensor(p))\n",
    "        all_targets.append(targets[0:int(lens[i]),i])"
   ]
  },
  {
   "cell_type": "code",
   "execution_count": null,
   "metadata": {
    "colab": {
     "base_uri": "https://localhost:8080/"
    },
    "id": "OsefdSHxvrWy",
    "outputId": "33785b90-5e03-4a6d-86dd-92b6b763a505"
   },
   "outputs": [
    {
     "name": "stdout",
     "output_type": "stream",
     "text": [
      "['bac', 'hay', 'viv', 'cor', 'han', 'moz', 'tel', 'bee']\n"
     ]
    }
   ],
   "source": [
    "# Divide accuracy according to author\n",
    "authors = []\n",
    "\n",
    "for sequence in all_inputs:\n",
    "    author = [e[\"original_path\"].split(\"\\\\\")[-1][:3] for e in full_mdata_dict_dataset\n",
    "              if len(e[\"midi_number\"]) == len(sequence) and\n",
    "              list(e[\"midi_number\"]) ==list(sequence) ]\n",
    "    # assert len(author) == 1\n",
    "    authors.append(author[0])\n",
    "\n",
    "considered_authors = list(set(authors))\n",
    "print(considered_authors)"
   ]
  },
  {
   "cell_type": "code",
   "execution_count": null,
   "metadata": {
    "colab": {
     "base_uri": "https://localhost:8080/"
    },
    "id": "XgNt_yG7vrfd",
    "outputId": "8473393f-dac6-4930-9d9e-da9c1046f1ab"
   },
   "outputs": [
    {
     "name": "stdout",
     "output_type": "stream",
     "text": [
      "{'bac': 124, 'hay': 371, 'viv': 110, 'cor': 22, 'han': 67, 'moz': 184, 'tel': 64, 'bee': 270}\n",
      "{'bac': 0.9949398082024077, 'hay': 0.9848509595753369, 'viv': 0.9955096542433768, 'cor': 0.999101784183236, 'han': 0.997265306122449, 'moz': 0.9924879562341798, 'tel': 0.9973877551020408, 'bee': 0.9889764422488058}\n"
     ]
    }
   ],
   "source": [
    "errors_per_author = {}\n",
    "accuracy_per_author = {}\n",
    "for ca in considered_authors:\n",
    "    # ca_inputs = torch.cat([all_inputs[i] for i,a in enumerate(authors) if a == ca])\n",
    "    ca_outputs = torch.cat([all_outputs[i] for i,a in enumerate(authors) if a == ca])\n",
    "    ca_targets = torch.cat([all_targets[i] for i,a in enumerate(authors) if a == ca])\n",
    "    # print(ca_inputs.shape,ca_outputs.shape,ca_targets.shape,ca_predicted_pitches.shape)\n",
    "    ca_acc = accuracy_score(ca_outputs,ca_targets)\n",
    "    accuracy_per_author[ca] = float(ca_acc)\n",
    "    errors_per_author[ca] = int(len(ca_targets) - sum(torch.eq(ca_outputs,ca_targets)))\n",
    "\n",
    "print(errors_per_author)\n",
    "print(accuracy_per_author)"
   ]
  },
  {
   "cell_type": "code",
   "execution_count": null,
   "metadata": {
    "id": "J5s0d56evrje"
   },
   "outputs": [],
   "source": []
  },
  {
   "cell_type": "code",
   "execution_count": null,
   "metadata": {
    "id": "cVvP1eH8vrl3"
   },
   "outputs": [],
   "source": []
  }
 ],
 "metadata": {
  "accelerator": "GPU",
  "colab": {
   "authorship_tag": "ABX9TyOTDh55Hh2OWCo66dGc+SES",
   "include_colab_link": true,
   "name": "rnncrf_pitch_spelling",
   "provenance": []
  },
  "kernelspec": {
   "display_name": "Python 3",
   "language": "python",
   "name": "python3"
  },
  "language_info": {
   "codemirror_mode": {
    "name": "ipython",
    "version": 3
   },
   "file_extension": ".py",
   "mimetype": "text/x-python",
   "name": "python",
   "nbconvert_exporter": "python",
   "pygments_lexer": "ipython3",
   "version": "3.6.10"
  }
 },
 "nbformat": 4,
 "nbformat_minor": 1
}
