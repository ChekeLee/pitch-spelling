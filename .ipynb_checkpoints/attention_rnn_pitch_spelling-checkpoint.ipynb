{
 "cells": [
  {
   "cell_type": "markdown",
   "metadata": {
    "colab_type": "text",
    "id": "view-in-github"
   },
   "source": [
    "<a href=\"https://colab.research.google.com/github/fosfrancesco/pitch-spelling/blob/main/rnncrf_pitch_spelling.ipynb\" target=\"_parent\"><img src=\"https://colab.research.google.com/assets/colab-badge.svg\" alt=\"Open In Colab\"/></a>"
   ]
  },
  {
   "cell_type": "code",
   "execution_count": 1,
   "metadata": {
    "colab": {
     "base_uri": "https://localhost:8080/"
    },
    "id": "fifMg_hxNSOg",
    "outputId": "a8b320f9-4231-40d9-8f10-a7b8acd1da37"
   },
   "outputs": [
    {
     "name": "stdout",
     "output_type": "stream",
     "text": [
      "Collecting pytorch-crf\n",
      "  Downloading https://files.pythonhosted.org/packages/96/7d/4c4688e26ea015fc118a0327e5726e6596836abce9182d3738be8ec2e32a/pytorch_crf-0.7.2-py3-none-any.whl\n",
      "Installing collected packages: pytorch-crf\n",
      "Successfully installed pytorch-crf-0.7.2\n"
     ]
    }
   ],
   "source": [
    "! pip install --upgrade pytorch-crf"
   ]
  },
  {
   "cell_type": "code",
   "execution_count": 35,
   "metadata": {
    "id": "hsciybUBNkur"
   },
   "outputs": [],
   "source": [
    "# from google.colab import files\n",
    "\n",
    "import music21 as m21\n",
    "import matplotlib.pyplot as plt\n",
    "import sklearn\n",
    "import sklearn.model_selection\n",
    "import pickle\n",
    "\n",
    "from pathlib import Path\n",
    "import json\n",
    "import matplotlib.pyplot as plt\n",
    "import numpy as np\n",
    "import sklearn.model_selection\n",
    "import sklearn\n",
    "import music21 as m21\n",
    "from collections import Counter\n",
    "\n",
    "import torch\n",
    "import torch.nn as nn\n",
    "from torchvision import transforms\n",
    "from torch.utils.data import Dataset, DataLoader\n",
    "from torch.utils.data import random_split\n",
    "from torch.nn.utils.rnn import pad_sequence\n",
    "from torchcrf import CRF\n",
    "\n",
    "from sklearn.metrics import confusion_matrix\n",
    "from sklearn.metrics import accuracy_score\n",
    "\n",
    "from tqdm import tqdm, tqdm_notebook, notebook\n",
    "import pickle\n",
    "\n",
    "from sklearn.metrics import accuracy_score\n",
    "\n",
    "import time\n",
    "\n",
    "from collections import defaultdict, Counter\n",
    "# import optuna"
   ]
  },
  {
   "cell_type": "markdown",
   "metadata": {
    "id": "Naq6UG5jRbyK"
   },
   "source": [
    "# RNN-CRF for Pitch Spelling\n",
    "\n",
    "Dataset: different authors from ASAP collection\n",
    "Challenges:\n",
    "- extremely long sequences\n",
    "- small dataset"
   ]
  },
  {
   "cell_type": "code",
   "execution_count": 36,
   "metadata": {
    "colab": {
     "base_uri": "https://localhost:8080/"
    },
    "id": "2mHJvrZ2Wo_e",
    "outputId": "1319f78b-cfb1-4e2a-937c-c47cf952757c"
   },
   "outputs": [
    {
     "name": "stdout",
     "output_type": "stream",
     "text": [
      "[(0, 'C'), (1, 'B#'), (2, 'D--'), (3, 'C#'), (4, 'B##'), (5, 'D-'), (6, 'D'), (7, 'C##'), (8, 'E--'), (9, 'D#'), (10, 'E-'), (11, 'F--'), (12, 'E'), (13, 'D##'), (14, 'F-'), (15, 'F'), (16, 'E#'), (17, 'G--'), (18, 'F#'), (19, 'E##'), (20, 'G-'), (21, 'G'), (22, 'F##'), (23, 'A--'), (24, 'G#'), (25, 'A-'), (26, 'A'), (27, 'G##'), (28, 'B--'), (29, 'A#'), (30, 'B-'), (31, 'C--'), (32, 'B'), (33, 'A##'), (34, 'C-')]\n",
      "['D--', 'B##', 'C##', 'E--', 'F--', 'D##', 'G--', 'E##', 'F##', 'A--', 'G##', 'B--', 'C--', 'A##']\n",
      "[(0, 'P1'), (1, 'd2'), (2, 'A7'), (3, 'm2'), (4, 'A1'), (5, 'M2'), (6, 'd3'), (7, 'AA1'), (8, 'm3'), (9, 'A2'), (10, 'M3'), (11, 'd4'), (12, 'AA2'), (13, 'P4'), (14, 'A3'), (15, 'd5'), (16, 'A4'), (17, 'P5'), (18, 'd6'), (19, 'AA4'), (20, 'm6'), (21, 'A5'), (22, 'M6'), (23, 'd7'), (24, 'AA5'), (25, 'm7'), (26, 'A6'), (27, 'M7'), (28, 'd1'), (29, 'AA6')]\n"
     ]
    }
   ],
   "source": [
    "pitches_dict = {\n",
    "    0 : [\"C\",\"B#\",\"D--\"], # nn.Linear(input_size+context_size, 3)\n",
    "    1 : [\"C#\",\"B##\",\"D-\"], # nn.Linear(input_size+context_size, 2)\n",
    "    2 : [\"D\",\"C##\",\"E--\"], # nn.Linear(input_size+context_size, 3)\n",
    "    3 : [\"D#\",\"E-\",\"F--\"],\n",
    "    4 : [\"E\",\"D##\",\"F-\"],\n",
    "    5 : [\"F\",\"E#\",\"G--\"],\n",
    "    6 : [\"F#\",\"E##\",\"G-\"],\n",
    "    7 : [\"G\",\"F##\",\"A--\"],\n",
    "    8 : [\"G#\",\"A-\"],\n",
    "    9 : [\"A\",\"G##\",\"B--\"],\n",
    "    10 : [\"A#\",\"B-\",\"C--\"],\n",
    "    11 : [\"B\",\"A##\",\"C-\"]\n",
    "}\n",
    "\n",
    "accepted_pitches = [ii for i in pitches_dict.values() for ii in i]\n",
    "print([e for e in enumerate(accepted_pitches)])\n",
    "\n",
    "double_acc_pitches = [ii for i in pitches_dict.values() for ii in i if ii.endswith(\"##\") or  ii.endswith(\"--\") ]\n",
    "print(double_acc_pitches)\n",
    "\n",
    "def score2midi_numbers(score):\n",
    "    return [p.midi%12 for n in score.flat.notes for p in n.pitches]\n",
    "\n",
    "def score2pitches(score):\n",
    "    return [p.name for n in score.flat.notes for p in n.pitches]\n",
    "\n",
    "interval_dict = {\n",
    "    0 : [\"P1\",\"d2\",\"A7\"], \n",
    "    1 : [\"m2\",\"A1\"], \n",
    "    2 : [\"M2\",\"d3\",\"AA1\"], \n",
    "    3 : [\"m3\",\"A2\"],\n",
    "    4 : [\"M3\",\"d4\",\"AA2\"],\n",
    "    5 : [\"P4\",\"A3\"],\n",
    "    6 : [\"d5\",\"A4\"],\n",
    "    7 : [\"P5\",\"d6\",\"AA4\"],\n",
    "    8 : [\"m6\",\"A5\"],\n",
    "    9 : [\"M6\",\"d7\",\"AA5\"],\n",
    "    10 : [\"m7\",\"A6\"],\n",
    "    11 : [\"M7\",\"d1\",\"AA6\"]\n",
    "}\n",
    "\n",
    "accepted_intervals = [ii for i in interval_dict.values() for ii in i]\n",
    "print([e for e in enumerate(accepted_intervals)])\n",
    "\n",
    "def transp_score(score):\n",
    "    \"\"\" For each input return len(accepted_intervals) transposed scores\"\"\"\n",
    "    return [score.transpose(interval) for interval in accepted_intervals]\n",
    "\n",
    "def smart_transp_score(score):\n",
    "    \"\"\" For each chromatic interval chose the interval that lead to the smallest number of accidentals\"\"\"\n",
    "    scores = []\n",
    "    for chromatic_int in interval_dict.keys():\n",
    "        temp_scores = []\n",
    "        temp_acc_number = []\n",
    "        for diat_interval in interval_dict[chromatic_int]:\n",
    "            new_score = score.transpose(diat_interval)\n",
    "            temp_scores.append(new_score)\n",
    "            temp_acc_number.append(sum([pitch.count(\"#\") + pitch.count(\"-\") for pitch in score2pitches(new_score)]))\n",
    "            # print(\"choice:\", [note.name for note in temp_scores[-1].flat.notes][0:10],\"acc:\",temp_acc_number[-1] )\n",
    "        #keep only the one with the lowest number of accidentals\n",
    "        min_index = np.argmin(temp_acc_number)\n",
    "        # print(\"preferred the number\", min_index)\n",
    "        scores.append(temp_scores[min_index])\n",
    "    return scores\n",
    "\n",
    "def acc_simple_enough(score,accepted_ratio = 0.2 ):\n",
    "    pitches = score2pitches(score)\n",
    "    double_acc = sum(el in double_acc_pitches for el in pitches)\n",
    "    if double_acc/len(pitches) < accepted_ratio:\n",
    "        return True\n",
    "    else:\n",
    "        return False\n",
    "\n",
    "\n",
    "\n",
    "diatonic_pitches = [\"C\",\"D\", \"E\", \"F\", \"G\", \"A\", \"B\"]\n",
    "\n",
    "# #test acc_simple_enough()\n",
    "# score = m21.converter.parse(paths[356])\n",
    "# scores = smart_transp_score(score)\n",
    "# #delete the pieces with non accepted pitches (e.g. triple sharps)\n",
    "# scores = [s for s in scores if all(pitch in accepted_pitches for pitch in score2pitches(s))]\n",
    "# for s in scores:\n",
    "#     print(s.parts[0].flat.getElementsByClass(m21.key.KeySignature)[0], \"simple enough:\", acc_simple_enough(s))\n",
    "#     print([n.name for n in s.flat.notes])"
   ]
  },
  {
   "cell_type": "markdown",
   "metadata": {
    "id": "gw-SuL4ZB_2C"
   },
   "source": [
    "## Import ASAP dataset"
   ]
  },
  {
   "cell_type": "code",
   "execution_count": 3,
   "metadata": {
    "colab": {
     "base_uri": "https://localhost:8080/"
    },
    "id": "CrZ0BwLEj2Gp",
    "outputId": "6b521f78-28db-4d4f-f4ef-9345c5d91db9"
   },
   "outputs": [],
   "source": [
    "# !git clone https://github.com/fosfrancesco/pitch-spelling.git"
   ]
  },
  {
   "cell_type": "code",
   "execution_count": 37,
   "metadata": {
    "id": "WaINjDS2kpxE"
   },
   "outputs": [],
   "source": [
    "basepath = \"./\" #to change if running locally or on colab\n",
    "\n",
    "# load the asap datasets\n",
    "with open(Path(basepath,'datasets','baroque_aug_asap.pkl'), 'rb') as fid:\n",
    "     dataset_baroque = pickle.load( fid)\n",
    "\n",
    "with open(Path(basepath,'datasets','classical_aug_asap.pkl'), 'rb') as fid:\n",
    "     dataset_classical = pickle.load( fid)\n",
    "\n",
    "with open(Path(basepath,'datasets','romantic_aug_asap.pkl'), 'rb') as fid:\n",
    "     dataset_romantic = pickle.load( fid)\n",
    "        \n",
    "with open(Path(basepath,'datasets','remaining_aug_asap.pkl'), 'rb') as fid:\n",
    "     dataset_remaining = pickle.load( fid)\n",
    "\n",
    "# merge the three files together\n",
    "full_dict_dataset = dataset_baroque + dataset_classical + dataset_romantic + dataset_remaining\n",
    "# full_dict_dataset = dataset_baroque + dataset_classical"
   ]
  },
  {
   "cell_type": "code",
   "execution_count": 38,
   "metadata": {
    "colab": {
     "base_uri": "https://localhost:8080/"
    },
    "id": "pYQdkJAiTS6_",
    "outputId": "72835948-2884-40bb-e5b4-6ebbc8488895"
   },
   "outputs": [
    {
     "name": "stdout",
     "output_type": "stream",
     "text": [
      "222 different pieces\n",
      "Average number of notes:  2410.253424657534\n"
     ]
    }
   ],
   "source": [
    "paths = list(set([e[\"original_path\"] for e in full_dict_dataset ]))\n",
    "\n",
    "# print(paths)\n",
    "print(len(paths), \"different pieces\")\n",
    "print(\"Average number of notes: \", np.mean([len(e[\"midi_number\"]) for e in full_dict_dataset ]))\n"
   ]
  },
  {
   "cell_type": "markdown",
   "metadata": {
    "id": "IMdKkzNnCTrK"
   },
   "source": [
    "## Chose the convenient data augmentation\n",
    "Two possibilities:\n",
    "- for each chromatic interval, take only the diatonic transposition that produce the smallest number of accidentals (or the original if present)\n",
    "- take only a certain interval of time signatures\n",
    "\n",
    "The second is probably better for a smaller and simple dataset, but gives the problem of chosing between for example F# and G# that are both present in this bigger dataset. So we go for the first criterion."
   ]
  },
  {
   "cell_type": "code",
   "execution_count": 39,
   "metadata": {
    "colab": {
     "base_uri": "https://localhost:8080/"
    },
    "id": "Oign7EZ9BSX4",
    "outputId": "9aa3f694-289a-43fd-fd14-9cad3b8dd3b7"
   },
   "outputs": [
    {
     "name": "stdout",
     "output_type": "stream",
     "text": [
      "No options for Ravel/Miroirs/4_Alborada_del_gracioso/xml_score.musicxml . Chromatic:  11\n",
      "No options for Scriabin/Sonatas/5/xml_score.musicxml . Chromatic:  1\n",
      "No options for Scriabin/Sonatas/5/xml_score.musicxml . Chromatic:  6\n",
      "No options for Scriabin/Sonatas/5/xml_score.musicxml . Chromatic:  11\n",
      "No options for Liszt/Mephisto_Waltz/xml_score.musicxml . Chromatic:  11\n",
      "No options for Liszt/Transcendental_Etudes/9/xml_score.musicxml . Chromatic:  6\n",
      "No options for Liszt/Transcendental_Etudes/9/xml_score.musicxml . Chromatic:  11\n",
      "No options for Balakirev/Islamey/xml_score.musicxml . Chromatic:  1\n",
      "No options for Balakirev/Islamey/xml_score.musicxml . Chromatic:  4\n",
      "No options for Balakirev/Islamey/xml_score.musicxml . Chromatic:  6\n",
      "No options for Balakirev/Islamey/xml_score.musicxml . Chromatic:  9\n",
      "No options for Balakirev/Islamey/xml_score.musicxml . Chromatic:  11\n",
      "No options for Chopin/Sonata_2/2nd/xml_score.musicxml . Chromatic:  4\n",
      "No options for Chopin/Sonata_2/2nd/xml_score.musicxml . Chromatic:  6\n",
      "No options for Chopin/Sonata_2/2nd/xml_score.musicxml . Chromatic:  9\n",
      "No options for Chopin/Sonata_2/2nd/xml_score.musicxml . Chromatic:  11\n",
      "No options for Chopin/Sonata_3/4th/xml_score.musicxml . Chromatic:  1\n",
      "No options for Chopin/Sonata_3/4th/xml_score.musicxml . Chromatic:  3\n",
      "No options for Chopin/Sonata_3/4th/xml_score.musicxml . Chromatic:  6\n",
      "No options for Chopin/Sonata_3/4th/xml_score.musicxml . Chromatic:  8\n",
      "No options for Chopin/Sonata_3/4th/xml_score.musicxml . Chromatic:  10\n",
      "No options for Chopin/Sonata_3/4th/xml_score.musicxml . Chromatic:  11\n",
      "No options for Ravel/Gaspard_de_la_Nuit/1_Ondine/xml_score.musicxml . Chromatic:  4\n",
      "No options for Debussy/Images_Book_1/1_Reflets_dans_lEau/xml_score.musicxml . Chromatic:  3\n",
      "No options for Debussy/Images_Book_1/1_Reflets_dans_lEau/xml_score.musicxml . Chromatic:  8\n",
      "No options for Liszt/Transcendental_Etudes/10/xml_score.musicxml . Chromatic:  1\n",
      "No options for Liszt/Transcendental_Etudes/10/xml_score.musicxml . Chromatic:  6\n",
      "No options for Schubert/Wanderer_fantasie/xml_score.musicxml . Chromatic:  1\n",
      "No options for Schubert/Wanderer_fantasie/xml_score.musicxml . Chromatic:  4\n",
      "No options for Schubert/Wanderer_fantasie/xml_score.musicxml . Chromatic:  6\n",
      "No options for Schubert/Wanderer_fantasie/xml_score.musicxml . Chromatic:  9\n",
      "No options for Schubert/Wanderer_fantasie/xml_score.musicxml . Chromatic:  11\n",
      "No options for Liszt/Transcendental_Etudes/11/xml_score.musicxml . Chromatic:  1\n",
      "No options for Liszt/Transcendental_Etudes/11/xml_score.musicxml . Chromatic:  6\n",
      "No options for Chopin/Etudes_op_25/10/xml_score.musicxml . Chromatic:  4\n",
      "No options for Chopin/Etudes_op_25/10/xml_score.musicxml . Chromatic:  9\n",
      "No options for Chopin/Sonata_2/1st_no_repeat/xml_score.musicxml . Chromatic:  1\n",
      "No options for Liszt/Transcendental_Etudes/4/xml_score.musicxml . Chromatic:  2\n",
      "No options for Liszt/Transcendental_Etudes/4/xml_score.musicxml . Chromatic:  4\n",
      "No options for Liszt/Transcendental_Etudes/4/xml_score.musicxml . Chromatic:  9\n",
      "No options for Liszt/Sonata/xml_score.musicxml . Chromatic:  4\n",
      "No options for Liszt/Sonata/xml_score.musicxml . Chromatic:  6\n",
      "No options for Liszt/Sonata/xml_score.musicxml . Chromatic:  11\n",
      "No options for Chopin/Ballades/4/xml_score.musicxml . Chromatic:  6\n",
      "No options for Chopin/Etudes_op_10/4/xml_score.musicxml . Chromatic:  4\n",
      "No options for Chopin/Etudes_op_10/4/xml_score.musicxml . Chromatic:  9\n",
      "Bach/Fugue/bwv_867/xml_score.musicxml P1 -5\n",
      "['B-', 'F', 'G-', 'F', 'E-', 'D-', 'F', 'C', 'D-', 'B-']\n",
      "[10, 5, 6, 5, 3, 1, 5, 0, 1, 10]\n",
      "Bach/Fugue/bwv_867/xml_score.musicxml A1 2\n",
      "['B', 'F#', 'G', 'F#', 'E', 'D', 'F#', 'C#', 'D', 'B']\n",
      "[11, 6, 7, 6, 4, 2, 6, 1, 2, 11]\n",
      "Bach/Fugue/bwv_867/xml_score.musicxml M2 -3\n",
      "['C', 'G', 'A-', 'G', 'F', 'E-', 'G', 'D', 'E-', 'C']\n",
      "[0, 7, 8, 7, 5, 3, 7, 2, 3, 0]\n",
      "Bach/Fugue/bwv_867/xml_score.musicxml A2 4\n",
      "['C#', 'G#', 'A', 'G#', 'F#', 'E', 'G#', 'D#', 'E', 'C#']\n",
      "[1, 8, 9, 8, 6, 4, 8, 3, 4, 1]\n",
      "Bach/Fugue/bwv_867/xml_score.musicxml M3 -1\n",
      "['D', 'A', 'B-', 'A', 'G', 'F', 'A', 'E', 'F', 'D']\n",
      "[2, 9, 10, 9, 7, 5, 9, 4, 5, 2]\n",
      "Bach/Fugue/bwv_867/xml_score.musicxml P4 -6\n",
      "['E-', 'B-', 'C-', 'B-', 'A-', 'G-', 'B-', 'F', 'G-', 'E-']\n",
      "[3, 10, 11, 10, 8, 6, 10, 5, 6, 3]\n",
      "Bach/Fugue/bwv_867/xml_score.musicxml A4 1\n",
      "['E', 'B', 'C', 'B', 'A', 'G', 'B', 'F#', 'G', 'E']\n",
      "[4, 11, 0, 11, 9, 7, 11, 6, 7, 4]\n",
      "Bach/Fugue/bwv_867/xml_score.musicxml P5 -4\n",
      "['F', 'C', 'D-', 'C', 'B-', 'A-', 'C', 'G', 'A-', 'F']\n",
      "[5, 0, 1, 0, 10, 8, 0, 7, 8, 5]\n",
      "Bach/Fugue/bwv_867/xml_score.musicxml A5 3\n",
      "['F#', 'C#', 'D', 'C#', 'B', 'A', 'C#', 'G#', 'A', 'F#']\n",
      "[6, 1, 2, 1, 11, 9, 1, 8, 9, 6]\n",
      "Bach/Fugue/bwv_867/xml_score.musicxml M6 -2\n",
      "['G', 'D', 'E-', 'D', 'C', 'B-', 'D', 'A', 'B-', 'G']\n",
      "[7, 2, 3, 2, 0, 10, 2, 9, 10, 7]\n",
      "Bach/Fugue/bwv_867/xml_score.musicxml A6 5\n",
      "['G#', 'D#', 'E', 'D#', 'C#', 'B', 'D#', 'A#', 'B', 'G#']\n",
      "[8, 3, 4, 3, 1, 11, 3, 10, 11, 8]\n",
      "Bach/Fugue/bwv_867/xml_score.musicxml M7 0\n",
      "['A', 'E', 'F', 'E', 'D', 'C', 'E', 'B', 'C', 'A']\n",
      "[9, 4, 5, 4, 2, 0, 4, 11, 0, 9]\n",
      "Beethoven/Piano_Sonatas/7-1/xml_score.musicxml P1 2\n",
      "['D', 'D', 'D', 'C#', 'C#', 'B', 'B', 'A', 'A', 'C#']\n",
      "[2, 2, 2, 1, 1, 11, 11, 9, 9, 1]\n",
      "Beethoven/Piano_Sonatas/7-1/xml_score.musicxml m2 -3\n",
      "['E-', 'E-', 'E-', 'D', 'D', 'C', 'C', 'B-', 'B-', 'D']\n",
      "[3, 3, 3, 2, 2, 0, 0, 10, 10, 2]\n",
      "Beethoven/Piano_Sonatas/7-1/xml_score.musicxml M2 4\n",
      "['E', 'E', 'E', 'D#', 'D#', 'C#', 'C#', 'B', 'B', 'D#']\n",
      "[4, 4, 4, 3, 3, 1, 1, 11, 11, 3]\n",
      "Beethoven/Piano_Sonatas/7-1/xml_score.musicxml m3 -1\n",
      "['F', 'F', 'F', 'E', 'E', 'D', 'D', 'C', 'C', 'E']\n",
      "[5, 5, 5, 4, 4, 2, 2, 0, 0, 4]\n",
      "Beethoven/Piano_Sonatas/7-1/xml_score.musicxml M3 6\n",
      "['F#', 'F#', 'F#', 'E#', 'E#', 'D#', 'D#', 'C#', 'C#', 'E#']\n",
      "[6, 6, 6, 5, 5, 3, 3, 1, 1, 5]\n",
      "Beethoven/Piano_Sonatas/7-1/xml_score.musicxml P4 1\n",
      "['G', 'G', 'G', 'F#', 'F#', 'E', 'E', 'D', 'D', 'F#']\n",
      "[7, 7, 7, 6, 6, 4, 4, 2, 2, 6]\n",
      "Beethoven/Piano_Sonatas/7-1/xml_score.musicxml d5 -4\n",
      "['A-', 'A-', 'A-', 'G', 'G', 'F', 'F', 'E-', 'E-', 'G']\n",
      "[8, 8, 8, 7, 7, 5, 5, 3, 3, 7]\n",
      "Beethoven/Piano_Sonatas/7-1/xml_score.musicxml P5 3\n",
      "['A', 'A', 'A', 'G#', 'G#', 'F#', 'F#', 'E', 'E', 'G#']\n",
      "[9, 9, 9, 8, 8, 6, 6, 4, 4, 8]\n",
      "Beethoven/Piano_Sonatas/7-1/xml_score.musicxml m6 -2\n",
      "['B-', 'B-', 'B-', 'A', 'A', 'G', 'G', 'F', 'F', 'A']\n",
      "[10, 10, 10, 9, 9, 7, 7, 5, 5, 9]\n",
      "Beethoven/Piano_Sonatas/7-1/xml_score.musicxml M6 5\n",
      "['B', 'B', 'B', 'A#', 'A#', 'G#', 'G#', 'F#', 'F#', 'A#']\n",
      "[11, 11, 11, 10, 10, 8, 8, 6, 6, 10]\n",
      "Beethoven/Piano_Sonatas/7-1/xml_score.musicxml m7 0\n",
      "['C', 'C', 'C', 'B', 'B', 'A', 'A', 'G', 'G', 'B']\n",
      "[0, 0, 0, 11, 11, 9, 9, 7, 7, 11]\n",
      "Beethoven/Piano_Sonatas/7-1/xml_score.musicxml d1 -5\n",
      "['D-', 'D-', 'D-', 'C', 'C', 'B-', 'B-', 'A-', 'A-', 'C']\n",
      "[1, 1, 1, 0, 0, 10, 10, 8, 8, 0]\n",
      "Beethoven/Piano_Sonatas/22-1/xml_score.musicxml P1 -1\n",
      "['C', 'E', 'F', 'A', 'F', 'F', 'B-', 'G', 'F', 'C']\n",
      "[0, 4, 5, 9, 5, 5, 10, 7, 5, 0]\n",
      "Beethoven/Piano_Sonatas/22-1/xml_score.musicxml A1 6\n",
      "['C#', 'E#', 'F#', 'A#', 'F#', 'F#', 'B', 'G#', 'F#', 'C#']\n",
      "[1, 5, 6, 10, 6, 6, 11, 8, 6, 1]\n",
      "Beethoven/Piano_Sonatas/22-1/xml_score.musicxml M2 1\n",
      "['D', 'F#', 'G', 'B', 'G', 'G', 'C', 'A', 'G', 'D']\n",
      "[2, 6, 7, 11, 7, 7, 0, 9, 7, 2]\n",
      "Beethoven/Piano_Sonatas/22-1/xml_score.musicxml m3 -4\n",
      "['E-', 'G', 'A-', 'C', 'A-', 'A-', 'D-', 'B-', 'A-', 'E-']\n",
      "[3, 7, 8, 0, 8, 8, 1, 10, 8, 3]\n",
      "Beethoven/Piano_Sonatas/22-1/xml_score.musicxml M3 3\n",
      "['E', 'G#', 'A', 'C#', 'A', 'A', 'D', 'B', 'A', 'E']\n",
      "[4, 8, 9, 1, 9, 9, 2, 11, 9, 4]\n",
      "Beethoven/Piano_Sonatas/22-1/xml_score.musicxml P4 -2\n",
      "['F', 'A', 'B-', 'D', 'B-', 'B-', 'E-', 'C', 'B-', 'F']\n",
      "[5, 9, 10, 2, 10, 10, 3, 0, 10, 5]\n",
      "Beethoven/Piano_Sonatas/22-1/xml_score.musicxml A4 5\n",
      "['F#', 'A#', 'B', 'D#', 'B', 'B', 'E', 'C#', 'B', 'F#']\n",
      "[6, 10, 11, 3, 11, 11, 4, 1, 11, 6]\n",
      "Beethoven/Piano_Sonatas/22-1/xml_score.musicxml P5 0\n",
      "['G', 'B', 'C', 'E', 'C', 'C', 'F', 'D', 'C', 'G']\n",
      "[7, 11, 0, 4, 0, 0, 5, 2, 0, 7]\n",
      "Beethoven/Piano_Sonatas/22-1/xml_score.musicxml m6 -5\n",
      "['A-', 'C', 'D-', 'F', 'D-', 'D-', 'G-', 'E-', 'D-', 'A-']\n",
      "[8, 0, 1, 5, 1, 1, 6, 3, 1, 8]\n",
      "Beethoven/Piano_Sonatas/22-1/xml_score.musicxml M6 2\n",
      "['A', 'C#', 'D', 'F#', 'D', 'D', 'G', 'E', 'D', 'A']\n",
      "[9, 1, 2, 6, 2, 2, 7, 4, 2, 9]\n",
      "Beethoven/Piano_Sonatas/22-1/xml_score.musicxml m7 -3\n",
      "['B-', 'D', 'E-', 'G', 'E-', 'E-', 'A-', 'F', 'E-', 'B-']\n",
      "[10, 2, 3, 7, 3, 3, 8, 5, 3, 10]\n",
      "Beethoven/Piano_Sonatas/22-1/xml_score.musicxml M7 4\n",
      "['B', 'D#', 'E', 'G#', 'E', 'E', 'A', 'F#', 'E', 'B']\n",
      "[11, 3, 4, 8, 4, 4, 9, 6, 4, 11]\n",
      "Beethoven/Piano_Sonatas/2-1/xml_score.musicxml P1 3\n",
      "['A', 'A', 'A', 'E', 'E', 'E', 'E', 'E', 'D', 'D']\n",
      "[9, 9, 9, 4, 4, 4, 4, 4, 2, 2]\n",
      "Beethoven/Piano_Sonatas/2-1/xml_score.musicxml m2 -2\n",
      "['B-', 'B-', 'B-', 'F', 'F', 'F', 'F', 'F', 'E-', 'E-']\n",
      "[10, 10, 10, 5, 5, 5, 5, 5, 3, 3]\n",
      "Beethoven/Piano_Sonatas/2-1/xml_score.musicxml M2 5\n",
      "['B', 'B', 'B', 'F#', 'F#', 'F#', 'F#', 'F#', 'E', 'E']\n",
      "[11, 11, 11, 6, 6, 6, 6, 6, 4, 4]\n",
      "Beethoven/Piano_Sonatas/2-1/xml_score.musicxml m3 0\n",
      "['C', 'C', 'C', 'G', 'G', 'G', 'G', 'G', 'F', 'F']\n",
      "[0, 0, 0, 7, 7, 7, 7, 7, 5, 5]\n",
      "Beethoven/Piano_Sonatas/2-1/xml_score.musicxml M3 7\n",
      "['C#', 'C#', 'C#', 'G#', 'G#', 'G#', 'G#', 'G#', 'F#', 'F#']\n",
      "[1, 1, 1, 8, 8, 8, 8, 8, 6, 6]\n",
      "Beethoven/Piano_Sonatas/2-1/xml_score.musicxml P4 2\n",
      "['D', 'D', 'D', 'A', 'A', 'A', 'A', 'A', 'G', 'G']\n",
      "[2, 2, 2, 9, 9, 9, 9, 9, 7, 7]\n",
      "Beethoven/Piano_Sonatas/2-1/xml_score.musicxml d5 -3\n",
      "['E-', 'E-', 'E-', 'B-', 'B-', 'B-', 'B-', 'B-', 'A-', 'A-']\n",
      "[3, 3, 3, 10, 10, 10, 10, 10, 8, 8]\n",
      "Beethoven/Piano_Sonatas/2-1/xml_score.musicxml P5 4\n",
      "['E', 'E', 'E', 'B', 'B', 'B', 'B', 'B', 'A', 'A']\n",
      "[4, 4, 4, 11, 11, 11, 11, 11, 9, 9]\n",
      "Beethoven/Piano_Sonatas/2-1/xml_score.musicxml m6 -1\n",
      "['F', 'F', 'F', 'C', 'C', 'C', 'C', 'C', 'B-', 'B-']\n",
      "[5, 5, 5, 0, 0, 0, 0, 0, 10, 10]\n",
      "Beethoven/Piano_Sonatas/2-1/xml_score.musicxml M6 6\n",
      "['F#', 'F#', 'F#', 'C#', 'C#', 'C#', 'C#', 'C#', 'B', 'B']\n",
      "[6, 6, 6, 1, 1, 1, 1, 1, 11, 11]\n",
      "Beethoven/Piano_Sonatas/2-1/xml_score.musicxml m7 1\n",
      "['G', 'G', 'G', 'D', 'D', 'D', 'D', 'D', 'C', 'C']\n",
      "[7, 7, 7, 2, 2, 2, 2, 2, 0, 0]\n",
      "Beethoven/Piano_Sonatas/2-1/xml_score.musicxml d1 -4\n",
      "['A-', 'A-', 'A-', 'E-', 'E-', 'E-', 'E-', 'E-', 'D-', 'D-']\n",
      "[8, 8, 8, 3, 3, 3, 3, 3, 1, 1]\n",
      "Bach/Prelude/bwv_865/xml_score.musicxml P1 0\n",
      "['A', 'A', 'B', 'C', 'E', 'C', 'A', 'G#', 'A', 'A']\n",
      "[9, 9, 11, 0, 4, 0, 9, 8, 9, 9]\n",
      "Bach/Prelude/bwv_865/xml_score.musicxml m2 -5\n",
      "['B-', 'B-', 'C', 'D-', 'F', 'D-', 'B-', 'A', 'B-', 'B-']\n",
      "[10, 10, 0, 1, 5, 1, 10, 9, 10, 10]\n",
      "Bach/Prelude/bwv_865/xml_score.musicxml M2 2\n",
      "['B', 'B', 'C#', 'D', 'F#', 'D', 'B', 'A#', 'B', 'B']\n",
      "[11, 11, 1, 2, 6, 2, 11, 10, 11, 11]\n",
      "Bach/Prelude/bwv_865/xml_score.musicxml m3 -3\n",
      "['C', 'C', 'D', 'E-', 'G', 'E-', 'C', 'B', 'C', 'C']\n",
      "[0, 0, 2, 3, 7, 3, 0, 11, 0, 0]\n",
      "Bach/Prelude/bwv_865/xml_score.musicxml M3 4\n",
      "['C#', 'C#', 'D#', 'E', 'G#', 'E', 'C#', 'B#', 'C#', 'C#']\n",
      "[1, 1, 3, 4, 8, 4, 1, 0, 1, 1]\n",
      "Bach/Prelude/bwv_865/xml_score.musicxml P4 -1\n",
      "['D', 'D', 'E', 'F', 'A', 'F', 'D', 'C#', 'D', 'D']\n",
      "[2, 2, 4, 5, 9, 5, 2, 1, 2, 2]\n",
      "Bach/Prelude/bwv_865/xml_score.musicxml d5 -6\n",
      "['E-', 'E-', 'F', 'G-', 'B-', 'G-', 'E-', 'D', 'E-', 'E-']\n",
      "[3, 3, 5, 6, 10, 6, 3, 2, 3, 3]\n",
      "Bach/Prelude/bwv_865/xml_score.musicxml P5 1\n",
      "['E', 'E', 'F#', 'G', 'B', 'G', 'E', 'D#', 'E', 'E']\n",
      "[4, 4, 6, 7, 11, 7, 4, 3, 4, 4]\n",
      "Bach/Prelude/bwv_865/xml_score.musicxml m6 -4\n",
      "['F', 'F', 'G', 'A-', 'C', 'A-', 'F', 'E', 'F', 'F']\n",
      "[5, 5, 7, 8, 0, 8, 5, 4, 5, 5]\n",
      "Bach/Prelude/bwv_865/xml_score.musicxml M6 3\n",
      "['F#', 'F#', 'G#', 'A', 'C#', 'A', 'F#', 'E#', 'F#', 'F#']\n",
      "[6, 6, 8, 9, 1, 9, 6, 5, 6, 6]\n",
      "Bach/Prelude/bwv_865/xml_score.musicxml m7 -2\n",
      "['G', 'G', 'A', 'B-', 'D', 'B-', 'G', 'F#', 'G', 'G']\n",
      "[7, 7, 9, 10, 2, 10, 7, 6, 7, 7]\n",
      "Bach/Prelude/bwv_865/xml_score.musicxml M7 5\n",
      "['G#', 'G#', 'A#', 'B', 'D#', 'B', 'G#', 'F##', 'G#', 'G#']\n",
      "[8, 8, 10, 11, 3, 11, 8, 7, 8, 8]\n",
      "Bach/Prelude/bwv_858/xml_score.musicxml P1 6\n",
      "['F#', 'A#', 'C#', 'A#', 'F#', 'C#', 'C#', 'F#', 'A#', 'C#']\n",
      "[6, 10, 1, 10, 6, 1, 1, 6, 10, 1]\n",
      "Bach/Prelude/bwv_858/xml_score.musicxml m2 1\n",
      "['G', 'B', 'D', 'B', 'G', 'D', 'D', 'G', 'B', 'D']\n",
      "[7, 11, 2, 11, 7, 2, 2, 7, 11, 2]\n",
      "Bach/Prelude/bwv_858/xml_score.musicxml d3 -4\n",
      "['A-', 'C', 'E-', 'C', 'A-', 'E-', 'E-', 'A-', 'C', 'E-']\n",
      "[8, 0, 3, 0, 8, 3, 3, 8, 0, 3]\n",
      "Bach/Prelude/bwv_858/xml_score.musicxml m3 3\n",
      "['A', 'C#', 'E', 'C#', 'A', 'E', 'E', 'A', 'C#', 'E']\n",
      "[9, 1, 4, 1, 9, 4, 4, 9, 1, 4]\n",
      "Bach/Prelude/bwv_858/xml_score.musicxml d4 -2\n",
      "['B-', 'D', 'F', 'D', 'B-', 'F', 'F', 'B-', 'D', 'F']\n",
      "[10, 2, 5, 2, 10, 5, 5, 10, 2, 5]\n",
      "Bach/Prelude/bwv_858/xml_score.musicxml P4 5\n",
      "['B', 'D#', 'F#', 'D#', 'B', 'F#', 'F#', 'B', 'D#', 'F#']\n",
      "[11, 3, 6, 3, 11, 6, 6, 11, 3, 6]\n",
      "Bach/Prelude/bwv_858/xml_score.musicxml d5 0\n",
      "['C', 'E', 'G', 'E', 'C', 'G', 'G', 'C', 'E', 'G']\n",
      "[0, 4, 7, 4, 0, 7, 7, 0, 4, 7]\n",
      "Bach/Prelude/bwv_858/xml_score.musicxml d6 -5\n",
      "['D-', 'F', 'A-', 'F', 'D-', 'A-', 'A-', 'D-', 'F', 'A-']\n",
      "[1, 5, 8, 5, 1, 8, 8, 1, 5, 8]\n",
      "Bach/Prelude/bwv_858/xml_score.musicxml m6 2\n",
      "['D', 'F#', 'A', 'F#', 'D', 'A', 'A', 'D', 'F#', 'A']\n",
      "[2, 6, 9, 6, 2, 9, 9, 2, 6, 9]\n",
      "Bach/Prelude/bwv_858/xml_score.musicxml d7 -3\n",
      "['E-', 'G', 'B-', 'G', 'E-', 'B-', 'B-', 'E-', 'G', 'B-']\n",
      "[3, 7, 10, 7, 3, 10, 10, 3, 7, 10]\n",
      "Bach/Prelude/bwv_858/xml_score.musicxml m7 4\n",
      "['E', 'G#', 'B', 'G#', 'E', 'B', 'B', 'E', 'G#', 'B']\n",
      "[4, 8, 11, 8, 4, 11, 11, 4, 8, 11]\n",
      "Bach/Prelude/bwv_858/xml_score.musicxml d1 -1\n",
      "['F', 'A', 'C', 'A', 'F', 'C', 'C', 'F', 'A', 'C']\n",
      "[5, 9, 0, 9, 5, 0, 0, 5, 9, 0]\n",
      "Beethoven/Piano_Sonatas/11-3/xml_score.musicxml P1 -2\n",
      "['D', 'E-', 'F', 'B-', 'B-', 'D', 'B-', 'A', 'G', 'E-']\n",
      "[2, 3, 5, 10, 10, 2, 10, 9, 7, 3]\n",
      "Beethoven/Piano_Sonatas/11-3/xml_score.musicxml A1 5\n",
      "['D#', 'E', 'F#', 'B', 'B', 'D#', 'B', 'A#', 'G#', 'E']\n",
      "[3, 4, 6, 11, 11, 3, 11, 10, 8, 4]\n",
      "Beethoven/Piano_Sonatas/11-3/xml_score.musicxml M2 0\n",
      "['E', 'F', 'G', 'C', 'C', 'E', 'C', 'B', 'A', 'F']\n",
      "[4, 5, 7, 0, 0, 4, 0, 11, 9, 5]\n",
      "Beethoven/Piano_Sonatas/11-3/xml_score.musicxml m3 -5\n",
      "['F', 'G-', 'A-', 'D-', 'D-', 'F', 'D-', 'C', 'B-', 'G-']\n",
      "[5, 6, 8, 1, 1, 5, 1, 0, 10, 6]\n",
      "Beethoven/Piano_Sonatas/11-3/xml_score.musicxml M3 2\n",
      "['F#', 'G', 'A', 'D', 'D', 'F#', 'D', 'C#', 'B', 'G']\n",
      "[6, 7, 9, 2, 2, 6, 2, 1, 11, 7]\n",
      "Beethoven/Piano_Sonatas/11-3/xml_score.musicxml P4 -3\n",
      "['G', 'A-', 'B-', 'E-', 'E-', 'G', 'E-', 'D', 'C', 'A-']\n",
      "[7, 8, 10, 3, 3, 7, 3, 2, 0, 8]\n",
      "Beethoven/Piano_Sonatas/11-3/xml_score.musicxml A4 4\n",
      "['G#', 'A', 'B', 'E', 'E', 'G#', 'E', 'D#', 'C#', 'A']\n",
      "[8, 9, 11, 4, 4, 8, 4, 3, 1, 9]\n",
      "Beethoven/Piano_Sonatas/11-3/xml_score.musicxml P5 -1\n",
      "['A', 'B-', 'C', 'F', 'F', 'A', 'F', 'E', 'D', 'B-']\n",
      "[9, 10, 0, 5, 5, 9, 5, 4, 2, 10]\n",
      "Beethoven/Piano_Sonatas/11-3/xml_score.musicxml m6 -6\n",
      "['B-', 'C-', 'D-', 'G-', 'G-', 'B-', 'G-', 'F', 'E-', 'C-']\n",
      "[10, 11, 1, 6, 6, 10, 6, 5, 3, 11]\n",
      "Beethoven/Piano_Sonatas/11-3/xml_score.musicxml M6 1\n",
      "['B', 'C', 'D', 'G', 'G', 'B', 'G', 'F#', 'E', 'C']\n",
      "[11, 0, 2, 7, 7, 11, 7, 6, 4, 0]\n",
      "Beethoven/Piano_Sonatas/11-3/xml_score.musicxml m7 -4\n",
      "['C', 'D-', 'E-', 'A-', 'A-', 'C', 'A-', 'G', 'F', 'D-']\n",
      "[0, 1, 3, 8, 8, 0, 8, 7, 5, 1]\n",
      "Beethoven/Piano_Sonatas/11-3/xml_score.musicxml M7 3\n",
      "['C#', 'D', 'E', 'A', 'A', 'C#', 'A', 'G#', 'F#', 'D']\n",
      "[1, 2, 4, 9, 9, 1, 9, 8, 6, 2]\n",
      "Chopin/Etudes_op_25/2/xml_score.musicxml P1 -4\n",
      "['C', 'C', 'E', 'D-', 'B', 'G', 'C', 'E-', 'C', 'D-']\n",
      "[0, 0, 4, 1, 11, 7, 0, 3, 0, 1]\n",
      "Chopin/Etudes_op_25/2/xml_score.musicxml A1 3\n",
      "['C#', 'C#', 'E#', 'D', 'B#', 'G#', 'C#', 'E', 'C#', 'D']\n",
      "[1, 1, 5, 2, 0, 8, 1, 4, 1, 2]\n",
      "Chopin/Etudes_op_25/2/xml_score.musicxml M2 -2\n",
      "['D', 'D', 'F#', 'E-', 'C#', 'A', 'D', 'F', 'D', 'E-']\n",
      "[2, 2, 6, 3, 1, 9, 2, 5, 2, 3]\n",
      "Chopin/Etudes_op_25/2/xml_score.musicxml A2 5\n",
      "['D#', 'D#', 'F##', 'E', 'C##', 'A#', 'D#', 'F#', 'D#', 'E']\n",
      "[3, 3, 7, 4, 2, 10, 3, 6, 3, 4]\n",
      "Chopin/Etudes_op_25/2/xml_score.musicxml M3 0\n",
      "['E', 'E', 'G#', 'F', 'D#', 'B', 'E', 'G', 'E', 'F']\n",
      "[4, 4, 8, 5, 3, 11, 4, 7, 4, 5]\n",
      "Chopin/Etudes_op_25/2/xml_score.musicxml P4 -5\n",
      "['F', 'F', 'A', 'G-', 'E', 'C', 'F', 'A-', 'F', 'G-']\n",
      "[5, 5, 9, 6, 4, 0, 5, 8, 5, 6]\n",
      "Chopin/Etudes_op_25/2/xml_score.musicxml A4 2\n",
      "['F#', 'F#', 'A#', 'G', 'E#', 'C#', 'F#', 'A', 'F#', 'G']\n",
      "[6, 6, 10, 7, 5, 1, 6, 9, 6, 7]\n",
      "Chopin/Etudes_op_25/2/xml_score.musicxml P5 -3\n",
      "['G', 'G', 'B', 'A-', 'F#', 'D', 'G', 'B-', 'G', 'A-']\n",
      "[7, 7, 11, 8, 6, 2, 7, 10, 7, 8]\n",
      "Chopin/Etudes_op_25/2/xml_score.musicxml A5 4\n",
      "['G#', 'G#', 'B#', 'A', 'F##', 'D#', 'G#', 'B', 'G#', 'A']\n",
      "[8, 8, 0, 9, 7, 3, 8, 11, 8, 9]\n",
      "Chopin/Etudes_op_25/2/xml_score.musicxml M6 -1\n",
      "['A', 'A', 'C#', 'B-', 'G#', 'E', 'A', 'C', 'A', 'B-']\n",
      "[9, 9, 1, 10, 8, 4, 9, 0, 9, 10]\n",
      "Chopin/Etudes_op_25/2/xml_score.musicxml m7 -6\n",
      "['B-', 'B-', 'D', 'C-', 'A', 'F', 'B-', 'D-', 'B-', 'C-']\n",
      "[10, 10, 2, 11, 9, 5, 10, 1, 10, 11]\n",
      "Chopin/Etudes_op_25/2/xml_score.musicxml M7 1\n",
      "['B', 'B', 'D#', 'C', 'A#', 'F#', 'B', 'D', 'B', 'C']\n",
      "[11, 11, 3, 0, 10, 6, 11, 2, 11, 0]\n",
      "Schubert/Impromptu_op.90_D.899/4/xml_score.musicxml P1 -4\n",
      "['C-', 'A-', 'E-', 'C-', 'A-', 'A-', 'A-', 'C-', 'E-', 'C-']\n",
      "[11, 8, 3, 11, 8, 8, 8, 11, 3, 11]\n",
      "Schubert/Impromptu_op.90_D.899/4/xml_score.musicxml m2 -9\n",
      "['D--', 'B--', 'F-', 'D--', 'B--', 'B--', 'B--', 'D--', 'F-', 'D--']\n",
      "[0, 9, 4, 0, 9, 9, 9, 0, 4, 0]\n",
      "Schubert/Impromptu_op.90_D.899/4/xml_score.musicxml M2 -2\n",
      "['D-', 'B-', 'F', 'D-', 'B-', 'B-', 'B-', 'D-', 'F', 'D-']\n",
      "[1, 10, 5, 1, 10, 10, 10, 1, 5, 1]\n",
      "Schubert/Impromptu_op.90_D.899/4/xml_score.musicxml m3 -7\n",
      "['E--', 'C-', 'G-', 'E--', 'C-', 'C-', 'C-', 'E--', 'G-', 'E--']\n",
      "[2, 11, 6, 2, 11, 11, 11, 2, 6, 2]\n",
      "Schubert/Impromptu_op.90_D.899/4/xml_score.musicxml M3 0\n",
      "['E-', 'C', 'G', 'E-', 'C', 'C', 'C', 'E-', 'G', 'E-']\n",
      "[3, 0, 7, 3, 0, 0, 0, 3, 7, 3]\n"
     ]
    }
   ],
   "source": [
    "# choose only one enharmonic version for each chromatic interval for each piece\n",
    "dict_dataset = []\n",
    "for path in paths:\n",
    "    for c in range(12):\n",
    "        pieces_to_consider = [opus for opus in full_dict_dataset \n",
    "                              if (opus[\"original_path\"] == path and opus[\"transposed_of\"] in interval_dict[c])  ]\n",
    "        # if the original is in pieces_to_consider, go with the original\n",
    "        originals = [opus for opus in pieces_to_consider if opus[\"transposed_of\"] == \"P1\"]\n",
    "        if len(originals) == 1:\n",
    "            dict_dataset.append(originals[0])\n",
    "        else: #we go with the accidental minization criteria\n",
    "            n_accidentals = [sum([pitch.count(\"#\") + pitch.count(\"-\") for pitch in opus[\"pitches\"]]) \n",
    "                            for opus in pieces_to_consider]\n",
    "            if len(pieces_to_consider)>0:\n",
    "                dict_dataset.append(pieces_to_consider[np.argmin(n_accidentals)])\n",
    "            else:\n",
    "                print(\"No options for\", path, \". Chromatic: \",c )\n",
    "\n",
    "# accepted_ks = range(-5,6)\n",
    "# dict_dataset = [e for e in full_dict_dataset if e[\"key_signature\"] in accepted_ks]\n",
    "\n",
    "#test if it worked\n",
    "for i,e in enumerate(dict_dataset):\n",
    "    print(e[\"original_path\"], e[\"transposed_of\"], e[\"key_signature\"])\n",
    "    print(e[\"pitches\"][:10])\n",
    "    print(e[\"midi_number\"][:10])\n",
    "    if i == 100:\n",
    "        break"
   ]
  },
  {
   "cell_type": "code",
   "execution_count": 40,
   "metadata": {
    "colab": {
     "base_uri": "https://localhost:8080/"
    },
    "id": "ZgHkMeoJdb42",
    "outputId": "1f3d172f-3f93-47ce-aa1b-e37a2afba24e"
   },
   "outputs": [
    {
     "name": "stdout",
     "output_type": "stream",
     "text": [
      "2618\n",
      "Counter({'Bach': 59, 'Beethoven': 57, 'Chopin': 34, 'Liszt': 16, 'Schubert': 13, 'Haydn': 11, 'Schumann': 10, 'Mozart': 6, 'Ravel': 4, 'Rachmaninoff': 4, 'Scriabin': 2, 'Debussy': 2, 'Balakirev': 1, 'Prokofiev': 1, 'Brahms': 1, 'Glinka': 1})\n"
     ]
    }
   ],
   "source": [
    "print(len(dict_dataset))\n",
    "\n",
    "c = Counter()\n",
    "for p in paths:\n",
    "    c[p.split(\"/\")[0]] +=1\n",
    "\n",
    "print(c)"
   ]
  },
  {
   "cell_type": "code",
   "execution_count": null,
   "metadata": {},
   "outputs": [],
   "source": [
    "# TODO: remove pieces from asap that are in Musedata"
   ]
  },
  {
   "cell_type": "code",
   "execution_count": 8,
   "metadata": {
    "colab": {
     "base_uri": "https://localhost:8080/"
    },
    "id": "-GRCM2W3qqeW",
    "outputId": "d53c8146-8b32-43df-cd69-b7423f1ceda2"
   },
   "outputs": [
    {
     "name": "stdout",
     "output_type": "stream",
     "text": [
      "Train and validation lenghts:  161 29\n"
     ]
    }
   ],
   "source": [
    "# Temporary remove composer with only one piece, because they create problems with sklearn stratify\n",
    "one_piece_composers = ['Balakirev','Prokofiev','Brahms','Glinka]\n",
    "paths = [p for p in paths if p.split(\"/\")[0] not in one_piece_composers]\n",
    "\n",
    "# Divide train and validation set\n",
    "path_train, path_validation = sklearn.model_selection.train_test_split(paths, test_size=0.15,stratify=[p.split(\"/\")[0] for p in paths ])\n",
    "print(\"Train and validation lenghts: \",len(path_train),len(path_validation))\n",
    "\n",
    "#Put back one piece composers in the validation dataset\n"
   ]
  },
  {
   "cell_type": "code",
   "execution_count": 9,
   "metadata": {
    "colab": {
     "base_uri": "https://localhost:8080/",
     "height": 335
    },
    "id": "KIZ2_bX1bom5",
    "outputId": "ae8d5b50-ed4d-4376-f9d6-e96c6aa73046"
   },
   "outputs": [
    {
     "name": "stdout",
     "output_type": "stream",
     "text": [
      "['Chopin', 'Mozart', 'Haydn', 'Schubert', 'Bach', 'Schumann', 'Beethoven']\n"
     ]
    },
    {
     "data": {
      "image/png": "[encoded data removed]",
      "text/plain": [
       "<Figure size 432x288 with 1 Axes>"
      ]
     },
     "metadata": {
      "image/png": {
       "height": 248,
       "width": 383
      },
      "needs_background": "light"
     },
     "output_type": "display_data"
    }
   ],
   "source": [
    "#need to find a better way to visualize this\n",
    "composers = list(set([p.split(\"/\")[0] for p in paths ]))\n",
    "print(composers)\n",
    "\n",
    "train_composer = [composers.index(p.split(\"/\")[0]) for p in path_train]\n",
    "val_composer = [composers.index(p.split(\"/\")[0]) for p in path_validation]\n",
    "\n",
    "_ = plt.hist([train_composer, val_composer], label=['train', 'validation'])\n",
    "_ = plt.legend(loc='upper left')\n",
    "_ = plt.xticks(list(range(7)), composers)"
   ]
  },
  {
   "cell_type": "markdown",
   "metadata": {
    "id": "1-qaT10ApkCY"
   },
   "source": [
    "## Transform the input into a convenient format for the Model"
   ]
  },
  {
   "cell_type": "code",
   "execution_count": 10,
   "metadata": {
    "colab": {
     "base_uri": "https://localhost:8080/"
    },
    "id": "kEYec2TDOWvj",
    "outputId": "1b69573b-cfeb-4dc9-8882-da42f9c25537"
   },
   "outputs": [],
   "source": [
    "# Helper functions to feed the correct input into the NN \n",
    "\n",
    "PAD = \"<PAD>\"\n",
    "\n",
    "tag_to_ix = {p: accepted_pitches.index(p) for p in accepted_pitches}\n",
    "#add PADDING TAD\n",
    "tag_to_ix[PAD] = len(accepted_pitches)\n",
    "\n",
    "midi_to_ix = {m: m for m in range(12)}\n",
    "# #add PADDING TAD\n",
    "# midi_to_ix[PAD] = 12\n",
    "\n",
    "# print(midi_to_ix[1])\n",
    "# print(len(midi_to_ix))\n",
    "\n",
    "duration_delimiter = [0.125,0.25,0.5,1,2,4]\n",
    "\n",
    "\n",
    "class Pitch2Diatonic():\n",
    "    def __call__(self, in_seq,weights = None):\n",
    "        return [p for p in in_seq]\n",
    "\n",
    "class Diatonic2Int():\n",
    "    def __call__(self, in_seq,weights = None):\n",
    "        idxs = [tag_to_ix[w] for w in in_seq]\n",
    "        return idxs\n",
    "\n",
    "class Int2Pitch():\n",
    "    def __call__(self, in_seq):\n",
    "        return [accepted_pitches[i] for i in in_seq]\n",
    "\n",
    "class OneHotEncoder():\n",
    "    def __init__(self, alphabet_len):\n",
    "        self.alphabet_len = alphabet_len\n",
    "        \n",
    "    def __call__(self, sample,weights = None):\n",
    "        onehot = np.zeros([len(sample), self.alphabet_len])\n",
    "        tot_chars = len(sample)\n",
    "        onehot[np.arange(tot_chars), sample] = 1\n",
    "        return onehot\n",
    "\n",
    "# class WeightedOneHotEncoder():\n",
    "#     def __init__(self, alphabet_len):\n",
    "#         self.alphabet_len = alphabet_len\n",
    "        \n",
    "#     def __call__(self, sample, weights=None):\n",
    "#         if weights == None:\n",
    "#             weights = np.ones(len(sample))\n",
    "#         onehot = torch.nn.functional.one_hot(sample,self.alphabet_len)\n",
    "#         return (onehot.t()*torch.Tensor(weights)).t() #transpositions to allow the broadcasting\n",
    "    \n",
    "class DurationOneHotEncoder():\n",
    "    def __init__(self, pitch_alphabet_len, duration_delimiter):\n",
    "        self.pitch_alphabet_len = pitch_alphabet_len\n",
    "        self.dur_alphabet_len = len(duration_delimiter)+2\n",
    "        self.duration_delimiter = duration_delimiter\n",
    "        \n",
    "    def __call__(self, sample, durs):\n",
    "        sample = torch.tensor(sample,dtype=torch.long)\n",
    "        onehot_pitch = torch.nn.functional.one_hot(sample,self.pitch_alphabet_len)\n",
    "        quantized_durations = np.digitize(durs,self.duration_delimiter)\n",
    "        quantized_durations = torch.tensor(quantized_durations,dtype=torch.long)\n",
    "        onehot_duration = torch.nn.functional.one_hot(quantized_durations,self.dur_alphabet_len)\n",
    "        return torch.cat([onehot_pitch,onehot_duration],1)\n",
    "        \n",
    "class ToTensorFloat():\n",
    "    def __call__(self, sample, weight = None):\n",
    "        if type(sample) is torch.Tensor:\n",
    "            return sample.float()\n",
    "        else:\n",
    "            return torch.tensor(sample,dtype=torch.float)\n",
    "\n",
    "class ToTensorLong():\n",
    "    def __call__(self, sample, weights = None):\n",
    "        if type(sample) is torch.Tensor:\n",
    "            return sample.long()\n",
    "        else:\n",
    "            return torch.tensor(sample,dtype=torch.long)\n",
    "    \n",
    "class Compose(object):\n",
    "    def __init__(self, transforms):\n",
    "        self.transforms = transforms\n",
    "\n",
    "    def __call__(self, sample, weights):\n",
    "        for t in self.transforms:\n",
    "            sample = t(sample, weights)\n",
    "        return sample\n",
    "\n",
    "pitches_len = len(accepted_pitches)\n",
    "midinote_len = 12\n",
    "\n",
    "### Define the preprocessing pipeline\n",
    "transform_diat = Compose([Pitch2Diatonic(),Diatonic2Int(),ToTensorLong()])\n",
    "transform_chrom = Compose([DurationOneHotEncoder(len(midi_to_ix),duration_delimiter),ToTensorFloat()])"
   ]
  },
  {
   "cell_type": "code",
   "execution_count": 11,
   "metadata": {},
   "outputs": [
    {
     "data": {
      "text/plain": [
       "torch.Size([4, 10])"
      ]
     },
     "execution_count": 11,
     "metadata": {},
     "output_type": "execute_result"
    }
   ],
   "source": [
    "a =[list(range(10)) for e in range(4)]\n",
    "torch.Tensor(a).shape"
   ]
  },
  {
   "cell_type": "code",
   "execution_count": 12,
   "metadata": {
    "colab": {
     "base_uri": "https://localhost:8080/"
    },
    "id": "jV9boYaToUs2",
    "outputId": "92bcd8d3-87a2-4d2c-8e92-4a106139f59f"
   },
   "outputs": [
    {
     "name": "stdout",
     "output_type": "stream",
     "text": [
      "1916 29\n",
      "tensor([[0., 0., 1., 0., 0., 0., 0., 0., 0., 0., 0., 0., 1., 0., 0., 0., 0., 0.,\n",
      "         0., 0.],\n",
      "        [0., 0., 0., 0., 0., 0., 0., 0., 0., 0., 0., 1., 1., 0., 0., 0., 0., 0.,\n",
      "         0., 0.],\n",
      "        [0., 0., 1., 0., 0., 0., 0., 0., 0., 0., 0., 0., 1., 0., 0., 0., 0., 0.,\n",
      "         0., 0.],\n",
      "        [0., 0., 0., 0., 0., 0., 0., 1., 0., 0., 0., 0., 1., 0., 0., 0., 0., 0.,\n",
      "         0., 0.],\n",
      "        [0., 0., 1., 0., 0., 0., 0., 0., 0., 0., 0., 0., 1., 0., 0., 0., 0., 0.,\n",
      "         0., 0.],\n",
      "        [0., 0., 0., 0., 0., 0., 0., 0., 0., 0., 0., 1., 1., 0., 0., 0., 0., 0.,\n",
      "         0., 0.],\n",
      "        [0., 0., 1., 0., 0., 0., 0., 0., 0., 0., 0., 0., 1., 0., 0., 0., 0., 0.,\n",
      "         0., 0.],\n",
      "        [0., 0., 0., 0., 0., 0., 0., 1., 0., 0., 0., 0., 1., 0., 0., 0., 0., 0.,\n",
      "         0., 0.],\n",
      "        [0., 0., 1., 0., 0., 0., 0., 0., 0., 0., 0., 0., 1., 0., 0., 0., 0., 0.,\n",
      "         0., 0.],\n",
      "        [0., 0., 0., 0., 0., 0., 0., 0., 0., 0., 0., 1., 1., 0., 0., 0., 0., 0.,\n",
      "         0., 0.],\n",
      "        [0., 0., 1., 0., 0., 0., 0., 0., 0., 0., 0., 0., 1., 0., 0., 0., 0., 0.,\n",
      "         0., 0.],\n",
      "        [0., 0., 0., 0., 1., 0., 0., 0., 0., 0., 0., 0., 1., 0., 0., 0., 0., 0.,\n",
      "         0., 0.],\n",
      "        [1., 0., 0., 0., 0., 0., 0., 0., 0., 0., 0., 0., 1., 0., 0., 0., 0., 0.,\n",
      "         0., 0.],\n",
      "        [0., 0., 0., 0., 0., 0., 0., 0., 0., 1., 0., 0., 1., 0., 0., 0., 0., 0.,\n",
      "         0., 0.],\n",
      "        [1., 0., 0., 0., 0., 0., 0., 0., 0., 0., 0., 0., 1., 0., 0., 0., 0., 0.,\n",
      "         0., 0.],\n",
      "        [0., 0., 0., 0., 0., 0., 1., 0., 0., 0., 0., 0., 1., 0., 0., 0., 0., 0.,\n",
      "         0., 0.],\n",
      "        [0., 0., 0., 0., 0., 0., 0., 0., 0., 1., 0., 0., 1., 0., 0., 0., 0., 0.,\n",
      "         0., 0.],\n",
      "        [0., 0., 1., 0., 0., 0., 0., 0., 0., 0., 0., 0., 1., 0., 0., 0., 0., 0.,\n",
      "         0., 0.],\n",
      "        [0., 0., 0., 0., 0., 0., 0., 0., 0., 0., 0., 1., 1., 0., 0., 0., 0., 0.,\n",
      "         0., 0.],\n",
      "        [0., 0., 0., 0., 0., 0., 0., 1., 0., 0., 0., 0., 1., 0., 0., 0., 0., 0.,\n",
      "         0., 0.],\n",
      "        [0., 0., 0., 0., 0., 0., 0., 0., 0., 0., 0., 1., 1., 0., 0., 0., 0., 0.,\n",
      "         0., 0.],\n",
      "        [0., 0., 0., 0., 1., 0., 0., 0., 0., 0., 0., 0., 1., 0., 0., 0., 0., 0.,\n",
      "         0., 0.],\n",
      "        [0., 0., 0., 0., 0., 0., 0., 1., 0., 0., 0., 0., 1., 0., 0., 0., 0., 0.,\n",
      "         0., 0.],\n",
      "        [1., 0., 0., 0., 0., 0., 0., 0., 0., 0., 0., 0., 1., 0., 0., 0., 0., 0.,\n",
      "         0., 0.],\n",
      "        [0., 0., 0., 0., 0., 0., 0., 0., 0., 1., 0., 0., 1., 0., 0., 0., 0., 0.,\n",
      "         0., 0.],\n",
      "        [0., 0., 0., 0., 0., 0., 1., 0., 0., 0., 0., 0., 1., 0., 0., 0., 0., 0.,\n",
      "         0., 0.],\n",
      "        [0., 0., 0., 0., 0., 0., 0., 0., 0., 1., 0., 0., 1., 0., 0., 0., 0., 0.,\n",
      "         0., 0.],\n",
      "        [0., 0., 1., 0., 0., 0., 0., 0., 0., 0., 0., 0., 1., 0., 0., 0., 0., 0.,\n",
      "         0., 0.],\n",
      "        [0., 0., 0., 0., 0., 0., 1., 0., 0., 0., 0., 0., 1., 0., 0., 0., 0., 0.,\n",
      "         0., 0.],\n",
      "        [0., 0., 0., 0., 0., 0., 0., 0., 0., 0., 0., 1., 1., 0., 0., 0., 0., 0.,\n",
      "         0., 0.]])\n",
      "tensor([ 2, 11,  2,  7,  2, 11,  2,  7,  2, 11,  2,  4,  0,  9,  0,  6,  9,  2,\n",
      "        11,  7, 11,  4,  7,  0,  9,  6,  9,  2,  6, 11])\n",
      "['D', 'B', 'D', 'G', 'D', 'B', 'D', 'G', 'D', 'B', 'D', 'E', 'C', 'A', 'C', 'F#', 'A', 'D', 'B', 'G', 'B', 'E', 'G', 'C', 'A', 'F#', 'A', 'D', 'F#', 'B']\n"
     ]
    }
   ],
   "source": [
    "# Create the dataset\n",
    "\n",
    "class PSDataset(Dataset):\n",
    "    def __init__(self, dict_dataset, paths, transf_c, transf_d, augment_dataset, truncate = None):\n",
    "        if augment_dataset:\n",
    "            self.chromatic_sequences = [e[\"midi_number\"] for e in dict_dataset if e[\"original_path\"] in paths]\n",
    "            self.diatonic_sequences = [e[\"pitches\"]\n",
    "                                       for e in dict_dataset \n",
    "                                       if e[\"original_path\"] in paths]\n",
    "            self.durations = [e[\"duration\"] for e in dict_dataset if e[\"original_path\"] in paths]\n",
    "        else: #consider only non transposed pieces\n",
    "            self.chromatic_sequences = [e[\"midi_number\"] for e in dict_dataset \n",
    "                                        if (e[\"original_path\"] in paths and e[\"transposed_of\"]==\"P1\")]\n",
    "            self.diatonic_sequences = [e[\"pitches\"]\n",
    "                                       for e in dict_dataset \n",
    "                                       if (e[\"original_path\"] in paths and e[\"transposed_of\"]==\"P1\")]\n",
    "            self.durations = [e[\"duration\"] \n",
    "                              for e in dict_dataset \n",
    "                              if (e[\"original_path\"] in paths and e[\"transposed_of\"]==\"P1\")]\n",
    "        #the transformations to apply to data\n",
    "        self.transf_c = transf_c\n",
    "        self.transf_d = transf_d\n",
    "        self.truncate = truncate\n",
    "\n",
    "    def __len__(self):\n",
    "        return len(self.chromatic_sequences)\n",
    "\n",
    "    def __getitem__(self, idx):\n",
    "        chromatic_seq = self.chromatic_sequences[idx]\n",
    "        diatonic_seq = self.diatonic_sequences[idx]\n",
    "        duration_seq = self.durations[idx]\n",
    "        weights = [dur/4  if dur<=4 else 1 for dur in duration_seq  ] # limit the weights to (0,4)       \n",
    "\n",
    "        #transform\n",
    "        chromatic_seq = self.transf_c(chromatic_seq,weights)\n",
    "        diatonic_seq = self.transf_d(diatonic_seq,None)\n",
    "\n",
    "        if not self.truncate is None:\n",
    "            if len(diatonic_seq) > self.truncate:\n",
    "                chromatic_seq = chromatic_seq[0:self.truncate]\n",
    "                diatonic_seq = diatonic_seq[0:self.truncate]\n",
    "\n",
    "        #sanity check\n",
    "        assert len(chromatic_seq) == len(diatonic_seq)\n",
    "        seq_len = len(diatonic_seq)\n",
    "        \n",
    "        return chromatic_seq, diatonic_seq, seq_len\n",
    "\n",
    "train_dataset = PSDataset(dict_dataset,path_train, transform_chrom,transform_diat,True)\n",
    "validation_dataset = PSDataset(dict_dataset,path_validation, transform_chrom,transform_diat, False)\n",
    "\n",
    "print(len(train_dataset),len(validation_dataset))\n",
    "\n",
    "\n",
    "\n",
    "# test if it works\n",
    "for chrom,diat,seq_len in train_dataset:\n",
    "    print(chrom[0:30])\n",
    "    print(torch.argmax(chrom[0:30],1))\n",
    "    # print([diatonic_pitches[p.item()] for p in diat[0:30]])\n",
    "    print([accepted_pitches[p.item()] for p in diat[0:30]])\n",
    "    break"
   ]
  },
  {
   "cell_type": "code",
   "execution_count": 13,
   "metadata": {
    "colab": {
     "base_uri": "https://localhost:8080/"
    },
    "id": "hAubyjw2LC8P",
    "outputId": "d6f8574f-8901-41e7-fd7a-9a0c6091eafa"
   },
   "outputs": [],
   "source": [
    "def pad_collate(batch):\n",
    "    (xx, yy, l) = zip(*batch)\n",
    "    \n",
    "    xx_pad = pad_sequence(xx)\n",
    "    yy_pad = pad_sequence(yy, padding_value=tag_to_ix[PAD])\n",
    "\n",
    "    #sort the sequences by length\n",
    "    seq_lengths, perm_idx = torch.Tensor(l).sort(0, descending=True)\n",
    "    xx_pad = xx_pad[:,perm_idx,:]\n",
    "    yy_pad = yy_pad[:,perm_idx]\n",
    "\n",
    "    return xx_pad, yy_pad, seq_lengths\n",
    "\n",
    "# data_loader = DataLoader(dataset=validation_dataset, batch_size=4, shuffle=True, collate_fn=pad_collate)\n",
    "\n",
    "\n",
    "\n",
    "# #test if it work\n",
    "# for batch in data_loader:\n",
    "#     print(batch[0].shape,batch[1].shape,batch[2])\n",
    "#     print(batch[1])\n",
    "#     break"
   ]
  },
  {
   "cell_type": "markdown",
   "metadata": {
    "id": "6O1OA1AjGWO-"
   },
   "source": [
    "## Model Definition"
   ]
  },
  {
   "cell_type": "code",
   "execution_count": 14,
   "metadata": {
    "id": "QEkFBY5cUsmN"
   },
   "outputs": [],
   "source": [
    "class RNNTagger(nn.Module):\n",
    "    \n",
    "    def __init__(self, input_dim, hidden_dim, n_labels,n_layers =1):\n",
    "        super(RNNTagger,self).__init__()    \n",
    "        \n",
    "        self.n_labels = n_labels\n",
    "        self.hidden_dim = hidden_dim\n",
    "\n",
    "        # RNN layer. We're using a bidirectional GRU\n",
    "        self.rnn = nn.GRU(input_size=input_dim, hidden_size=hidden_dim //2, \n",
    "                          bidirectional=True, num_layers=n_layers)\n",
    "        \n",
    "        # Output layer. The input will be two times\n",
    "        # the RNN size since we are using a bidirectional RNN.\n",
    "        self.top_layer = nn.Linear(hidden_dim, self.n_labels)\n",
    "    \n",
    "        # Loss function that we will use during training.\n",
    "        self.loss = torch.nn.CrossEntropyLoss(reduction='sum',ignore_index = tag_to_ix[PAD])\n",
    "        \n",
    "    def compute_outputs(self, sentences,sentences_len):\n",
    "        sentences = torch.nn.utils.rnn.pack_padded_sequence(sentences, sentences_len)\n",
    "        rnn_out, _ = self.rnn(sentences)\n",
    "        rnn_out,_ = torch.nn.utils.rnn.pad_packed_sequence(rnn_out)\n",
    "\n",
    "        out = self.top_layer(rnn_out)\n",
    "       \n",
    "        # # Find the positions where the token is a dummy padding token.\n",
    "        # pad_mask = (sentences == self.pad_word_id).float()\n",
    "\n",
    "        # # For these positions, we add some large number in the column corresponding\n",
    "        # # to the dummy padding label.\n",
    "        # out[:, :, self.pad_label_id] += pad_mask*10000\n",
    "\n",
    "        return out\n",
    "                \n",
    "    def forward(self, sentences, labels, sentences_len):\n",
    "        # First computes the predictions, and then the loss function.\n",
    "        \n",
    "        # Compute the outputs. The shape is (max_len, n_sentences, n_labels).\n",
    "        scores = self.compute_outputs(sentences,sentences_len)\n",
    "        \n",
    "        # Flatten the outputs and the gold-standard labels, to compute the loss.\n",
    "        # The input to this loss needs to be one 2-dimensional and one 1-dimensional tensor.\n",
    "            \n",
    "        scores = scores.view(-1, self.n_labels)\n",
    "        labels = labels.view(-1)\n",
    "        return self.loss(scores, labels)\n",
    "\n",
    "    def predict(self, sentences,sentences_len):\n",
    "        # Compute the outputs from the linear units.\n",
    "        scores = self.compute_outputs(sentences,sentences_len)\n",
    "\n",
    "        # Select the top-scoring labels. The shape is now (max_len, n_sentences).\n",
    "        predicted = scores.argmax(dim=2)\n",
    "\n",
    "        return [predicted[:int(l),i].cpu().numpy() for i,l in enumerate(sentences_len)]"
   ]
  },
  {
   "cell_type": "code",
   "execution_count": 15,
   "metadata": {
    "id": "QE7itQ88Qx17"
   },
   "outputs": [],
   "source": [
    "class RNNCRFTagger(nn.Module):\n",
    "    def __init__(self, input_dim, hidden_dim, n_labels,n_layers =1):\n",
    "        super(RNNCRFTagger,self).__init__()    \n",
    "        \n",
    "        self.n_labels = n_labels\n",
    "        self.hidden_dim = hidden_dim\n",
    "\n",
    "        self.rnn = nn.GRU(input_size=input_dim, hidden_size=hidden_dim //2, \n",
    "                          bidirectional=True, num_layers=n_layers)\n",
    "\n",
    "        self.top_layer = nn.Linear(hidden_dim, self.n_labels)\n",
    "    \n",
    "        self.crf = CRF(self.n_labels)\n",
    "        \n",
    "    def compute_outputs(self, sentences,sentences_len):\n",
    "        ## should I initialize here??\n",
    "        sentences = torch.nn.utils.rnn.pack_padded_sequence(sentences, sentences_len)\n",
    "        rnn_out, _ = self.rnn(sentences)\n",
    "        rnn_out,_ = torch.nn.utils.rnn.pad_packed_sequence(rnn_out)\n",
    "\n",
    "        out = self.top_layer(rnn_out)\n",
    "      \n",
    "        return out\n",
    "                \n",
    "    def forward(self, sentences, labels, sentences_len):\n",
    "        # Compute the outputs of the lower layers, which will be used as emission\n",
    "        # scores for the CRF.\n",
    "        scores = self.compute_outputs(sentences,sentences_len)\n",
    "\n",
    "        # We return the loss value. The CRF returns the log likelihood, but we return \n",
    "        # the *negative* log likelihood as the loss value.            \n",
    "        # PyTorch's optimizers *minimize* the loss, while we want to *maximize* the\n",
    "        # log likelihood.\n",
    "\n",
    "        pad_mask = torch.arange(max(sentences_len))[:, None] < sentences_len[None, :]\n",
    "        pad_mask = pad_mask.byte().to(device)\n",
    "        return -self.crf(scores, labels, mask = pad_mask )\n",
    "            \n",
    "    def predict(self, sentences,sentences_len):\n",
    "        # Compute the emission scores, as above.\n",
    "        scores = self.compute_outputs(sentences,sentences_len)\n",
    "\n",
    "        # Apply the Viterbi algorithm to get the predictions. This implementation returns\n",
    "        # the result as a list of lists (not a tensor), corresponding to a matrix\n",
    "        # of shape (n_sentences, max_len).\n",
    "        pad_mask = torch.arange(max(sentences_len))[:, None] < sentences_len[None, :]\n",
    "        pad_mask = pad_mask.byte().to(device)\n",
    "        return self.crf.decode(scores,mask = pad_mask)"
   ]
  },
  {
   "cell_type": "markdown",
   "metadata": {
    "id": "vXixmVQfvw8T"
   },
   "source": [
    "## Train model"
   ]
  },
  {
   "cell_type": "code",
   "execution_count": 16,
   "metadata": {
    "id": "3m_nj4HCuCe1"
   },
   "outputs": [],
   "source": [
    "# TODO: search over the best hyperparameters"
   ]
  },
  {
   "cell_type": "code",
   "execution_count": 20,
   "metadata": {
    "id": "uAMSIlw0AJb6"
   },
   "outputs": [],
   "source": [
    "def training_loop(model, optimizer, train_dataloader, val_dataloader, n_epochs):\n",
    "    history = defaultdict(list)  \n",
    "    for i_epoch in range(1,n_epochs +1):\n",
    "        t0 = time.time()\n",
    "        loss_sum = 0\n",
    "        accuracy_sum = 0\n",
    "        model.train()\n",
    "        for seqs, targets, lens in train_dataloader: #seqs, targets, lens are batches\n",
    "            seqs, targets = seqs.to(device), targets.to(device)\n",
    "            optimizer.zero_grad()\n",
    "\n",
    "            loss = model(seqs,targets,lens) / sum(lens) #normalize for the number of symbol considered (without padding)\n",
    "            loss.backward()\n",
    "            optimizer.step()\n",
    "            loss_sum += loss.item()\n",
    "\n",
    "            predicted = model.predict(seqs,lens)\n",
    "            for i,p in enumerate(predicted):\n",
    "                acc= accuracy_score(p,targets[:,i][:len(p)].cpu()) #compute the accuracy without considering the padding\n",
    "                accuracy_sum += acc/len(lens) #normalize according to the number of sequences in the batch\n",
    "\n",
    "        train_loss = loss_sum/len(train_dataloader)\n",
    "        train_accuracy = accuracy_sum/len(train_dataloader) #normalize according to the number of batches\n",
    "        history[\"train_loss\"].append(train_loss)\n",
    "        history[\"train_accuracy\"].append(train_accuracy)\n",
    "\n",
    "\n",
    "        # Evaluate on the validation set\n",
    "        model.eval()\n",
    "        all_predicted = []\n",
    "        all_targets = []\n",
    "        with torch.no_grad():\n",
    "            for seqs,targets, lens in val_dataloader:\n",
    "                # Predict the model's output on a batch\n",
    "                predicted = model.predict(seqs.to(device),lens)                   \n",
    "                # Update the lists that will be used to compute the accuracy\n",
    "                for i,p in enumerate(predicted):\n",
    "                    all_predicted.append(torch.Tensor(p))\n",
    "                    all_targets.append(targets[0:int(lens[i]),i])\n",
    "                \n",
    "        # Compute the overall accuracy for the validation set\n",
    "        val_accuracy = accuracy_score(torch.cat(all_predicted),torch.cat(all_targets))\n",
    "        history[\"val_accuracy\"].append(val_accuracy)\n",
    "\n",
    "#         save the model\n",
    "        torch.save(model, \"./models/temp/model_temp_epoch{}.pkl\".format(i_epoch))\n",
    "#         files.download(\"model_temp_epoch{}.pkl\".format(i_epoch))\n",
    "\n",
    "    \n",
    "        t1 = time.time()\n",
    "        print(f'Epoch {i_epoch}: train loss = {train_loss:.4f}, train_accuracy: {train_accuracy:.4f},val_accuracy: {val_accuracy:.4f}, time = {t1-t0:.4f}')\n",
    "    return history"
   ]
  },
  {
   "cell_type": "code",
   "execution_count": null,
   "metadata": {
    "colab": {
     "base_uri": "https://localhost:8080/",
     "height": 269
    },
    "id": "2g2st8znpGW_",
    "outputId": "fe232e42-e270-4f5d-9bd8-718bba5e7151"
   },
   "outputs": [
    {
     "name": "stdout",
     "output_type": "stream",
     "text": [
      "Training device: cuda\n",
      "Epoch 1: train loss = 1.3113, train_accuracy: 0.7265,val_accuracy: 0.8634, time = 741.5108\n"
     ]
    }
   ],
   "source": [
    "device = torch.device(\"cuda\") if torch.cuda.is_available() else torch.device(\"cpu\")\n",
    "print(f\"Training device: {device}\")\n",
    "\n",
    "n_epochs = 20\n",
    "HIDDEN_DIM = 96\n",
    "LEARNING_WEIGHT = 1\n",
    "WEIGHT_DECAY = 1e-4\n",
    "BATCH_SIZE = 16\n",
    "\n",
    "train_dataset = PSDataset(dict_dataset,path_train, transform_chrom,transform_diat,True, truncate = None)\n",
    "validation_dataset = PSDataset(dict_dataset,path_validation, transform_chrom,transform_diat, False)\n",
    "\n",
    "train_dataloader = DataLoader(train_dataset, batch_size=BATCH_SIZE, shuffle=True,collate_fn=pad_collate)\n",
    "val_dataloader = DataLoader(validation_dataset, batch_size=BATCH_SIZE, shuffle=False,collate_fn=pad_collate)\n",
    "\n",
    "# model = torch.load(\"./models/temp/model_temp_epoch30-to_restart.pkl\")\n",
    "model = RNNCRFTagger(len(midi_to_ix)+len(duration_delimiter)+2,HIDDEN_DIM,len(tag_to_ix), n_layers =1)\n",
    "# model = RNNTagger(len(midi_to_ix)+len(duration_delimiter)+2,HIDDEN_DIM,len(tag_to_ix), n_layers =1)\n",
    "model = model.to(device)\n",
    "optimizer = torch.optim.SGD(model.parameters(), lr=LEARNING_WEIGHT)\n",
    "# optimizer = torch.optim.SGD(model.parameters(), lr=LEARNING_WEIGHT, momentum = 0.9,weight_decay=WEIGHT_DECAY)\n",
    "# otimizer = torch.optim.Adam(model.parameters(),lr = 0.05, weight_decay=1e-4)\n",
    "\n",
    "history = training_loop(model,optimizer,train_dataloader,val_dataloader, n_epochs)\n",
    "\n",
    "# After the final evaluation, we print more detailed evaluation statistics,\n",
    "plt.plot(history['train_loss'])\n",
    "plt.plot(history['train_accuracy'])\n",
    "plt.plot(history['val_accuracy'])\n",
    "plt.legend(['training loss', 'training accuracy', 'validation_accuracy'])"
   ]
  },
  {
   "cell_type": "code",
   "execution_count": 27,
   "metadata": {},
   "outputs": [
    {
     "name": "stdout",
     "output_type": "stream",
     "text": [
      "Best validation accuracy:  0.9548586557910835 at epoch 13\n"
     ]
    }
   ],
   "source": [
    "#find the best working model on the accuracy\n",
    "max_accuracy = np.max(history['val_accuracy'])\n",
    "best_epoch = np.argmax(history['val_accuracy'])\n",
    "print(\"Best validation accuracy: \",max_accuracy, \"at epoch\",best_epoch)\n"
   ]
  },
  {
   "cell_type": "code",
   "execution_count": 188,
   "metadata": {
    "colab": {
     "base_uri": "https://localhost:8080/",
     "height": 17
    },
    "id": "tTv2BrGbvSHh",
    "outputId": "801ff32d-24dc-4434-a436-17d9ca832214"
   },
   "outputs": [],
   "source": [
    "torch.save(model, \"./models/model_asap_crf200dur.pkl\")\n",
    "# files.download(\"model_asap_crf300.pkl\")"
   ]
  },
  {
   "cell_type": "markdown",
   "metadata": {
    "id": "sXcmLpCKt28l"
   },
   "source": [
    "## Test on Mdata dataset"
   ]
  },
  {
   "cell_type": "code",
   "execution_count": 28,
   "metadata": {},
   "outputs": [],
   "source": [
    "model = torch.load(\"./models/model_temp_CRFacc9548.pkl\")"
   ]
  },
  {
   "cell_type": "code",
   "execution_count": 29,
   "metadata": {
    "id": "BacUqgD5usGL"
   },
   "outputs": [],
   "source": [
    "# load the dataset\n",
    "with open(Path(basepath,'./datasets/musedata.pkl'), 'rb') as fid:\n",
    "     full_mdata_dict_dataset = pickle.load( fid)"
   ]
  },
  {
   "cell_type": "code",
   "execution_count": 30,
   "metadata": {
    "colab": {
     "base_uri": "https://localhost:8080/"
    },
    "id": "jgaUwW2fuwg0",
    "outputId": "89fc5f7d-884a-4ee6-fc34-b3d512f0c4c7"
   },
   "outputs": [
    {
     "name": "stdout",
     "output_type": "stream",
     "text": [
      "216 different pieces\n",
      "Average number of notes:  858.6319771007974\n"
     ]
    }
   ],
   "source": [
    "mdata_paths = list(set([e[\"original_path\"] for e in full_mdata_dict_dataset ]))\n",
    "\n",
    "# # remove the symbphony No.100 from Haydn because of the enharmonic transposition\n",
    "# paths.remove(\"datasets\\\\opnd\\\\haydndoversyms-10004m.opnd-m\")\n",
    "\n",
    "# print(paths)\n",
    "print(len(mdata_paths), \"different pieces\")\n",
    "print(\"Average number of notes: \", np.mean([len(e[\"midi_number\"]) for e in full_mdata_dict_dataset ]))"
   ]
  },
  {
   "cell_type": "code",
   "execution_count": 31,
   "metadata": {
    "id": "f-Fg6gJKvNLt"
   },
   "outputs": [],
   "source": [
    "mdata_dataset = PSDataset(full_mdata_dict_dataset,mdata_paths, transform_chrom,transform_diat,False)\n",
    "mdata_dataloader  = DataLoader(mdata_dataset,  batch_size=16, shuffle=False, collate_fn=pad_collate)"
   ]
  },
  {
   "cell_type": "code",
   "execution_count": 32,
   "metadata": {
    "id": "ml905Mtdvj-T"
   },
   "outputs": [
    {
     "name": "stdout",
     "output_type": "stream",
     "text": [
      "Using device: cuda\n"
     ]
    }
   ],
   "source": [
    "device = torch.device(\"cuda\") if torch.cuda.is_available() else torch.device(\"cpu\")\n",
    "print(f\"Using device: {device}\")\n",
    "\n",
    "all_inputs = []\n",
    "all_outputs = []\n",
    "all_targets = []\n",
    "model.eval() # Evaluation mode (e.g. disable dropout)\n",
    "with torch.no_grad(): # Disable gradient tracking\n",
    "    for seqs, targets,lens in mdata_dataloader:\n",
    "        # Move data to device\n",
    "        seqs = seqs.to(device)\n",
    "\n",
    "        # Predict the model's output on a batch.\n",
    "        predicted = model.predict(seqs,lens)                   \n",
    "        # Update the evaluation statistics.\n",
    "        for i,p in enumerate(predicted):\n",
    "            all_inputs.append(torch.argmax(seqs[0:int(lens[i]),i,:].cpu(),1).numpy())\n",
    "            all_outputs.append(torch.Tensor(p))\n",
    "            all_targets.append(targets[0:int(lens[i]),i])"
   ]
  },
  {
   "cell_type": "code",
   "execution_count": 33,
   "metadata": {
    "colab": {
     "base_uri": "https://localhost:8080/"
    },
    "id": "OsefdSHxvrWy",
    "outputId": "33785b90-5e03-4a6d-86dd-92b6b763a505"
   },
   "outputs": [
    {
     "name": "stdout",
     "output_type": "stream",
     "text": [
      "['viv', 'tel', 'bee', 'bac', 'han', 'cor', 'moz', 'hay']\n"
     ]
    }
   ],
   "source": [
    "# Divide accuracy according to author\n",
    "authors = []\n",
    "\n",
    "for sequence in all_inputs:\n",
    "    author = [e[\"original_path\"].split(\"\\\\\")[-1][:3] for e in full_mdata_dict_dataset\n",
    "              if len(e[\"midi_number\"]) == len(sequence) and\n",
    "              list(e[\"midi_number\"]) ==list(sequence) ]\n",
    "    # assert len(author) == 1\n",
    "    authors.append(author[0])\n",
    "\n",
    "considered_authors = list(set(authors))\n",
    "print(considered_authors)"
   ]
  },
  {
   "cell_type": "code",
   "execution_count": 34,
   "metadata": {
    "colab": {
     "base_uri": "https://localhost:8080/"
    },
    "id": "XgNt_yG7vrfd",
    "outputId": "8473393f-dac6-4930-9d9e-da9c1046f1ab"
   },
   "outputs": [
    {
     "name": "stdout",
     "output_type": "stream",
     "text": [
      "{'viv': 36, 'tel': 41, 'bee': 185, 'bac': 101, 'han': 44, 'cor': 14, 'moz': 131, 'hay': 376}\n",
      "{'viv': 0.9985304322978323, 'tel': 0.9983265306122449, 'bee': 0.9924468215408484, 'bac': 0.9958783921648643, 'han': 0.9982040816326531, 'cor': 0.9994284081166047, 'moz': 0.9946517514493345, 'hay': 0.9846467946100449}\n",
      "{'viv': 24497, 'tel': 24500, 'bee': 24493, 'bac': 24505, 'han': 24500, 'cor': 24493, 'moz': 24494, 'hay': 24490}\n",
      "Total errors : 928\n"
     ]
    }
   ],
   "source": [
    "errors_per_author = {}\n",
    "accuracy_per_author = {}\n",
    "notes_per_author = {}\n",
    "for ca in considered_authors:\n",
    "    # ca_inputs = torch.cat([all_inputs[i] for i,a in enumerate(authors) if a == ca])\n",
    "    ca_outputs = torch.cat([all_outputs[i] for i,a in enumerate(authors) if a == ca])\n",
    "    ca_targets = torch.cat([all_targets[i] for i,a in enumerate(authors) if a == ca])\n",
    "    # print(ca_inputs.shape,ca_outputs.shape,ca_targets.shape,ca_predicted_pitches.shape)\n",
    "    ca_acc = accuracy_score(ca_outputs,ca_targets)\n",
    "    accuracy_per_author[ca] = float(ca_acc)\n",
    "    errors_per_author[ca] = int(len(ca_targets) - sum(torch.eq(ca_outputs,ca_targets)))\n",
    "    notes_per_author[ca] = len(ca_targets)\n",
    "\n",
    "print(errors_per_author)\n",
    "print(accuracy_per_author)\n",
    "print(notes_per_author)\n",
    "print(\"Total errors :\", sum([e for e in errors_per_author.values()]))"
   ]
  },
  {
   "cell_type": "markdown",
   "metadata": {
    "id": "J5s0d56evrje"
   },
   "source": [
    "### Best accuracy for now\n",
    "for now best accuracy is with  no CRF (but considering durations) n_epochs = 20\n",
    "HIDDEN_DIM = 96\n",
    "LEARNING_WEIGHT = 0.09\n",
    "WEIGHT_DECAY = 1e-4\n",
    "BATCH_SIZE = 16\n",
    "\n",
    "duration_delimiter = [0.125,0.25,0.5,1,2,4]\n",
    "\n",
    "Model available in: \"model_temp_epoch12-noCRFacc9575.pkl\"\n",
    "accuracy on validation set 0.9575\n",
    "Trained on all dataset\n",
    "\n",
    "\n",
    "{'moz': 98, 'tel': 116, 'bac': 93, 'hay': 200, 'cor': 25, 'bee': 127, 'viv': 45, 'han': 52}\n",
    "{'moz': 0.9959990201682044, 'tel': 0.995265306122449, 'bac': 0.9962048561518058, 'hay': 0.9918334013883218, 'cor': 0.9989793002082228, 'bee': 0.9948148450577716, 'viv': 0.9981630403722905, 'han': 0.9978775510204082}\n",
    "{'moz': 24494, 'tel': 24500, 'bac': 24505, 'hay': 24490, 'cor': 24493, 'bee': 24493, 'viv': 24497, 'han': 24500}\n",
    "Total errors : 756\n",
    "\n",
    "This win by far against ps13"
   ]
  },
  {
   "cell_type": "markdown",
   "metadata": {
    "id": "cVvP1eH8vrl3"
   },
   "source": [
    "### Best accuracy with CRF\n",
    "n_epochs = 20\n",
    "HIDDEN_DIM = 96\n",
    "LEARNING_WEIGHT = 1\n",
    "WEIGHT_DECAY = 1e-4\n",
    "BATCH_SIZE = 16\n",
    "\n",
    "model = RNNCRFTagger(len(midi_to_ix)+len(duration_delimiter)+2,HIDDEN_DIM,len(tag_to_ix), n_layers =1)\n",
    "\n",
    "Model available in: \"\"./models/model_temp_CRFacc9548.pkl\"\"\n",
    "accuracy on validation set 0.9548586557910835\n",
    "Trained on all asap dataset\n",
    "\n",
    "{'viv': 36, 'tel': 41, 'bee': 185, 'bac': 101, 'han': 44, 'cor': 14, 'moz': 131, 'hay': 376}\n",
    "{'viv': 0.9985304322978323, 'tel': 0.9983265306122449, 'bee': 0.9924468215408484, 'bac': 0.9958783921648643, 'han': 0.9982040816326531, 'cor': 0.9994284081166047, 'moz': 0.9946517514493345, 'hay': 0.9846467946100449}\n",
    "{'viv': 24497, 'tel': 24500, 'bee': 24493, 'bac': 24505, 'han': 24500, 'cor': 24493, 'moz': 24494, 'hay': 24490}\n",
    "Total errors : 928\n",
    "\n",
    "Still win against ps13"
   ]
  }
 ],
 "metadata": {
  "accelerator": "GPU",
  "colab": {
   "authorship_tag": "ABX9TyOTDh55Hh2OWCo66dGc+SES",
   "include_colab_link": true,
   "name": "rnncrf_pitch_spelling",
   "provenance": []
  },
  "kernelspec": {
   "display_name": "Python 3",
   "language": "python",
   "name": "python3"
  },
  "language_info": {
   "codemirror_mode": {
    "name": "ipython",
    "version": 3
   },
   "file_extension": ".py",
   "mimetype": "text/x-python",
   "name": "python",
   "nbconvert_exporter": "python",
   "pygments_lexer": "ipython3",
   "version": "3.6.10"
  }
 },
 "nbformat": 4,
 "nbformat_minor": 1
}
